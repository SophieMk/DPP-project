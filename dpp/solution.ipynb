{
 "cells": [
  {
   "cell_type": "code",
   "execution_count": 264,
   "id": "9d5d3998-396a-4ddc-8b62-86ffef960ae5",
   "metadata": {},
   "outputs": [
    {
     "name": "stdout",
     "output_type": "stream",
     "text": [
      "Requirement already satisfied: catboost in c:\\users\\anchi\\miniconda3\\envs\\torch\\lib\\site-packages (1.1.1)\n",
      "Requirement already satisfied: plotly in c:\\users\\anchi\\miniconda3\\envs\\torch\\lib\\site-packages (from catboost) (5.14.1)\n",
      "Requirement already satisfied: matplotlib in c:\\users\\anchi\\miniconda3\\envs\\torch\\lib\\site-packages (from catboost) (3.7.1)\n",
      "Requirement already satisfied: pandas>=0.24.0 in c:\\users\\anchi\\miniconda3\\envs\\torch\\lib\\site-packages (from catboost) (1.5.3)\n",
      "Requirement already satisfied: scipy in c:\\users\\anchi\\miniconda3\\envs\\torch\\lib\\site-packages (from catboost) (1.10.1)\n",
      "Requirement already satisfied: graphviz in c:\\users\\anchi\\miniconda3\\envs\\torch\\lib\\site-packages (from catboost) (0.20.1)\n",
      "Requirement already satisfied: numpy>=1.16.0 in c:\\users\\anchi\\miniconda3\\envs\\torch\\lib\\site-packages (from catboost) (1.24.3)\n",
      "Requirement already satisfied: six in c:\\users\\anchi\\miniconda3\\envs\\torch\\lib\\site-packages (from catboost) (1.16.0)\n",
      "Requirement already satisfied: pytz>=2020.1 in c:\\users\\anchi\\miniconda3\\envs\\torch\\lib\\site-packages (from pandas>=0.24.0->catboost) (2022.7)\n",
      "Requirement already satisfied: python-dateutil>=2.8.1 in c:\\users\\anchi\\miniconda3\\envs\\torch\\lib\\site-packages (from pandas>=0.24.0->catboost) (2.8.2)\n",
      "Requirement already satisfied: cycler>=0.10 in c:\\users\\anchi\\miniconda3\\envs\\torch\\lib\\site-packages (from matplotlib->catboost) (0.11.0)\n",
      "Requirement already satisfied: fonttools>=4.22.0 in c:\\users\\anchi\\miniconda3\\envs\\torch\\lib\\site-packages (from matplotlib->catboost) (4.25.0)\n",
      "Requirement already satisfied: pillow>=6.2.0 in c:\\users\\anchi\\miniconda3\\envs\\torch\\lib\\site-packages (from matplotlib->catboost) (9.4.0)\n",
      "Requirement already satisfied: pyparsing>=2.3.1 in c:\\users\\anchi\\miniconda3\\envs\\torch\\lib\\site-packages (from matplotlib->catboost) (3.0.9)\n",
      "Requirement already satisfied: packaging>=20.0 in c:\\users\\anchi\\miniconda3\\envs\\torch\\lib\\site-packages (from matplotlib->catboost) (23.0)\n",
      "Requirement already satisfied: importlib-resources>=3.2.0 in c:\\users\\anchi\\miniconda3\\envs\\torch\\lib\\site-packages (from matplotlib->catboost) (5.2.0)\n",
      "Requirement already satisfied: kiwisolver>=1.0.1 in c:\\users\\anchi\\miniconda3\\envs\\torch\\lib\\site-packages (from matplotlib->catboost) (1.4.4)\n",
      "Requirement already satisfied: contourpy>=1.0.1 in c:\\users\\anchi\\miniconda3\\envs\\torch\\lib\\site-packages (from matplotlib->catboost) (1.0.5)\n",
      "Requirement already satisfied: tenacity>=6.2.0 in c:\\users\\anchi\\miniconda3\\envs\\torch\\lib\\site-packages (from plotly->catboost) (8.2.2)\n",
      "Requirement already satisfied: zipp>=3.1.0 in c:\\users\\anchi\\miniconda3\\envs\\torch\\lib\\site-packages (from importlib-resources>=3.2.0->matplotlib->catboost) (3.11.0)\n"
     ]
    }
   ],
   "source": [
    "!pip install catboost"
   ]
  },
  {
   "cell_type": "code",
   "execution_count": 1,
   "id": "9b5ef3cd-785f-41cb-8482-556aeb842f6e",
   "metadata": {},
   "outputs": [],
   "source": [
    "import pandas as pd\n",
    "import numpy as np\n",
    "from tqdm import tqdm\n",
    "\n",
    "from sklearn.model_selection import train_test_split\n",
    "from sklearn.metrics import mean_squared_error, mean_absolute_error, mean_squared_error\n",
    "from sklearn.preprocessing import StandardScaler\n",
    "from catboost import CatBoostRegressor\n",
    "\n",
    "import matplotlib.pyplot as plt\n",
    "import copy\n",
    "\n",
    "import torch\n",
    "import torch.nn as nn\n",
    "import torch.optim as optim\n",
    "\n",
    "pd.set_option('display.max_columns', 200)"
   ]
  },
  {
   "cell_type": "markdown",
   "id": "49029bd0-7809-488c-8330-eaa1c70de549",
   "metadata": {},
   "source": [
    "# Load dataset"
   ]
  },
  {
   "cell_type": "code",
   "execution_count": 2,
   "id": "da3cbd75-0ff4-4799-9a7e-1c61bd0b0be0",
   "metadata": {},
   "outputs": [
    {
     "data": {
      "text/html": [
       "<div>\n",
       "<style scoped>\n",
       "    .dataframe tbody tr th:only-of-type {\n",
       "        vertical-align: middle;\n",
       "    }\n",
       "\n",
       "    .dataframe tbody tr th {\n",
       "        vertical-align: top;\n",
       "    }\n",
       "\n",
       "    .dataframe thead th {\n",
       "        text-align: right;\n",
       "    }\n",
       "</style>\n",
       "<table border=\"1\" class=\"dataframe\">\n",
       "  <thead>\n",
       "    <tr style=\"text-align: right;\">\n",
       "      <th></th>\n",
       "      <th>parameter_name</th>\n",
       "      <th>unit_type</th>\n",
       "      <th>input_output</th>\n",
       "      <th>engine_aircraft</th>\n",
       "      <th>table_name</th>\n",
       "      <th>data_type</th>\n",
       "      <th>alias</th>\n",
       "      <th>creator</th>\n",
       "      <th>param_description</th>\n",
       "      <th>display_format</th>\n",
       "      <th>display_length</th>\n",
       "      <th>display_decimals</th>\n",
       "      <th>justification</th>\n",
       "    </tr>\n",
       "  </thead>\n",
       "  <tbody>\n",
       "    <tr>\n",
       "      <th>0</th>\n",
       "      <td>ACTTIMH</td>\n",
       "      <td>MISCELLANEOUS</td>\n",
       "      <td>IN</td>\n",
       "      <td>AIRCRAFT</td>\n",
       "      <td>AIRCRAFT_INPUT</td>\n",
       "      <td>FLOAT</td>\n",
       "      <td>ACTTIMH</td>\n",
       "      <td>AIRLINE</td>\n",
       "      <td>A/C TOTAL TIME(HOURS/MIN)</td>\n",
       "      <td>NONE</td>\n",
       "      <td>10</td>\n",
       "      <td>3</td>\n",
       "      <td>L</td>\n",
       "    </tr>\n",
       "    <tr>\n",
       "      <th>1</th>\n",
       "      <td>AGW</td>\n",
       "      <td>MASS (CONVERTED)</td>\n",
       "      <td>IN</td>\n",
       "      <td>AIRCRAFT</td>\n",
       "      <td>AIRCRAFT_INPUT</td>\n",
       "      <td>FLOAT</td>\n",
       "      <td>ACTUAL_GROSS_WEIGHT</td>\n",
       "      <td>AIRLINE</td>\n",
       "      <td>ACTUAL GROSS WEIGHT (LB)</td>\n",
       "      <td>NONE</td>\n",
       "      <td>10</td>\n",
       "      <td>3</td>\n",
       "      <td>L</td>\n",
       "    </tr>\n",
       "    <tr>\n",
       "      <th>2</th>\n",
       "      <td>AILTRIM</td>\n",
       "      <td>MISCELLANEOUS</td>\n",
       "      <td>IN</td>\n",
       "      <td>AIRCRAFT</td>\n",
       "      <td>AIRCRAFT_INPUT</td>\n",
       "      <td>FLOAT</td>\n",
       "      <td>AILTRIM</td>\n",
       "      <td>AIRLINE</td>\n",
       "      <td>AILERON TRIM (DEG)</td>\n",
       "      <td>NONE</td>\n",
       "      <td>10</td>\n",
       "      <td>3</td>\n",
       "      <td>L</td>\n",
       "    </tr>\n",
       "    <tr>\n",
       "      <th>3</th>\n",
       "      <td>AIRID</td>\n",
       "      <td>MISCELLANEOUS</td>\n",
       "      <td>IN</td>\n",
       "      <td>AIRCRAFT</td>\n",
       "      <td>AIRCRAFT_INPUT</td>\n",
       "      <td>CHAR</td>\n",
       "      <td>AIRID</td>\n",
       "      <td>GECFMI</td>\n",
       "      <td>AIRCRAFT ID</td>\n",
       "      <td>NONE</td>\n",
       "      <td>10</td>\n",
       "      <td>3</td>\n",
       "      <td>L</td>\n",
       "    </tr>\n",
       "    <tr>\n",
       "      <th>4</th>\n",
       "      <td>ALLSAPL</td>\n",
       "      <td>MISCELLANEOUS</td>\n",
       "      <td>IN</td>\n",
       "      <td>AIRCRAFT</td>\n",
       "      <td>AIRCRAFT_INPUT</td>\n",
       "      <td>FLOAT</td>\n",
       "      <td>ALLSAPL</td>\n",
       "      <td>AIRLINE</td>\n",
       "      <td>ALL SPEED AILERON POS LH</td>\n",
       "      <td>NONE</td>\n",
       "      <td>10</td>\n",
       "      <td>3</td>\n",
       "      <td>L</td>\n",
       "    </tr>\n",
       "    <tr>\n",
       "      <th>...</th>\n",
       "      <td>...</td>\n",
       "      <td>...</td>\n",
       "      <td>...</td>\n",
       "      <td>...</td>\n",
       "      <td>...</td>\n",
       "      <td>...</td>\n",
       "      <td>...</td>\n",
       "      <td>...</td>\n",
       "      <td>...</td>\n",
       "      <td>...</td>\n",
       "      <td>...</td>\n",
       "      <td>...</td>\n",
       "      <td>...</td>\n",
       "    </tr>\n",
       "    <tr>\n",
       "      <th>351</th>\n",
       "      <td>ZWBP3</td>\n",
       "      <td>MASS (CONVERTED)</td>\n",
       "      <td>IN</td>\n",
       "      <td>AIRCRAFT</td>\n",
       "      <td>AIRCRAFT_INPUT</td>\n",
       "      <td>FLOAT</td>\n",
       "      <td>ECS_PACK_3_FLOW_PER_SEC</td>\n",
       "      <td>GECFMI</td>\n",
       "      <td>PACK FLOW 3</td>\n",
       "      <td>NONE</td>\n",
       "      <td>10</td>\n",
       "      <td>3</td>\n",
       "      <td>L</td>\n",
       "    </tr>\n",
       "    <tr>\n",
       "      <th>352</th>\n",
       "      <td>ZWF36</td>\n",
       "      <td>MASS (CONVERTED)</td>\n",
       "      <td>IN</td>\n",
       "      <td>ENGINE</td>\n",
       "      <td>ENGINE_INPUT</td>\n",
       "      <td>FLOAT</td>\n",
       "      <td>FUEL_FLOW_(PER_HOUR)</td>\n",
       "      <td>GECFMI</td>\n",
       "      <td>FUEL FLOW</td>\n",
       "      <td>NONE</td>\n",
       "      <td>10</td>\n",
       "      <td>3</td>\n",
       "      <td>L</td>\n",
       "    </tr>\n",
       "    <tr>\n",
       "      <th>353</th>\n",
       "      <td>ZWF36_A</td>\n",
       "      <td>MASS (CONVERTED)</td>\n",
       "      <td>OUT</td>\n",
       "      <td>AIRCRAFT</td>\n",
       "      <td>AIRCRAFT_RAW_OUTPT</td>\n",
       "      <td>FLOAT</td>\n",
       "      <td>AVG_FUEL_FLOW</td>\n",
       "      <td>DIVERGENCE</td>\n",
       "      <td>AVG FUEL FLOW</td>\n",
       "      <td>NONE</td>\n",
       "      <td>10</td>\n",
       "      <td>3</td>\n",
       "      <td>L</td>\n",
       "    </tr>\n",
       "    <tr>\n",
       "      <th>354</th>\n",
       "      <td>ZWF36_D</td>\n",
       "      <td>MASS (CONVERTED)</td>\n",
       "      <td>OUT</td>\n",
       "      <td>ENGINE</td>\n",
       "      <td>ENGINE_RAW_OUTPUT</td>\n",
       "      <td>FLOAT</td>\n",
       "      <td>DVG_FUEL_FLOW</td>\n",
       "      <td>DIVERGENCE</td>\n",
       "      <td>DVG FUEL FLOW</td>\n",
       "      <td>NONE</td>\n",
       "      <td>10</td>\n",
       "      <td>3</td>\n",
       "      <td>L</td>\n",
       "    </tr>\n",
       "    <tr>\n",
       "      <th>355</th>\n",
       "      <td>ZXM</td>\n",
       "      <td>MISCELLANEOUS</td>\n",
       "      <td>IN</td>\n",
       "      <td>AIRCRAFT</td>\n",
       "      <td>AIRCRAFT_INPUT</td>\n",
       "      <td>FLOAT</td>\n",
       "      <td>MACH</td>\n",
       "      <td>GECFMI</td>\n",
       "      <td>MACH</td>\n",
       "      <td>NONE</td>\n",
       "      <td>10</td>\n",
       "      <td>3</td>\n",
       "      <td>L</td>\n",
       "    </tr>\n",
       "  </tbody>\n",
       "</table>\n",
       "<p>356 rows × 13 columns</p>\n",
       "</div>"
      ],
      "text/plain": [
       "    parameter_name         unit_type input_output engine_aircraft  \\\n",
       "0          ACTTIMH     MISCELLANEOUS           IN        AIRCRAFT   \n",
       "1              AGW  MASS (CONVERTED)           IN        AIRCRAFT   \n",
       "2          AILTRIM     MISCELLANEOUS           IN        AIRCRAFT   \n",
       "3            AIRID     MISCELLANEOUS           IN        AIRCRAFT   \n",
       "4          ALLSAPL     MISCELLANEOUS           IN        AIRCRAFT   \n",
       "..             ...               ...          ...             ...   \n",
       "351          ZWBP3  MASS (CONVERTED)           IN        AIRCRAFT   \n",
       "352          ZWF36  MASS (CONVERTED)           IN          ENGINE   \n",
       "353        ZWF36_A  MASS (CONVERTED)          OUT        AIRCRAFT   \n",
       "354        ZWF36_D  MASS (CONVERTED)          OUT          ENGINE   \n",
       "355            ZXM     MISCELLANEOUS           IN        AIRCRAFT   \n",
       "\n",
       "             table_name data_type                    alias     creator  \\\n",
       "0        AIRCRAFT_INPUT     FLOAT                  ACTTIMH     AIRLINE   \n",
       "1        AIRCRAFT_INPUT     FLOAT      ACTUAL_GROSS_WEIGHT     AIRLINE   \n",
       "2        AIRCRAFT_INPUT     FLOAT                  AILTRIM     AIRLINE   \n",
       "3        AIRCRAFT_INPUT      CHAR                    AIRID      GECFMI   \n",
       "4        AIRCRAFT_INPUT     FLOAT                  ALLSAPL     AIRLINE   \n",
       "..                  ...       ...                      ...         ...   \n",
       "351      AIRCRAFT_INPUT     FLOAT  ECS_PACK_3_FLOW_PER_SEC      GECFMI   \n",
       "352        ENGINE_INPUT     FLOAT     FUEL_FLOW_(PER_HOUR)      GECFMI   \n",
       "353  AIRCRAFT_RAW_OUTPT     FLOAT            AVG_FUEL_FLOW  DIVERGENCE   \n",
       "354   ENGINE_RAW_OUTPUT     FLOAT            DVG_FUEL_FLOW  DIVERGENCE   \n",
       "355      AIRCRAFT_INPUT     FLOAT                     MACH      GECFMI   \n",
       "\n",
       "             param_description display_format  display_length  \\\n",
       "0    A/C TOTAL TIME(HOURS/MIN)           NONE              10   \n",
       "1     ACTUAL GROSS WEIGHT (LB)           NONE              10   \n",
       "2           AILERON TRIM (DEG)           NONE              10   \n",
       "3                  AIRCRAFT ID           NONE              10   \n",
       "4     ALL SPEED AILERON POS LH           NONE              10   \n",
       "..                         ...            ...             ...   \n",
       "351                PACK FLOW 3           NONE              10   \n",
       "352                  FUEL FLOW           NONE              10   \n",
       "353              AVG FUEL FLOW           NONE              10   \n",
       "354              DVG FUEL FLOW           NONE              10   \n",
       "355                       MACH           NONE              10   \n",
       "\n",
       "     display_decimals justification  \n",
       "0                   3             L  \n",
       "1                   3             L  \n",
       "2                   3             L  \n",
       "3                   3             L  \n",
       "4                   3             L  \n",
       "..                ...           ...  \n",
       "351                 3             L  \n",
       "352                 3             L  \n",
       "353                 3             L  \n",
       "354                 3             L  \n",
       "355                 3             L  \n",
       "\n",
       "[356 rows x 13 columns]"
      ]
     },
     "execution_count": 2,
     "metadata": {},
     "output_type": "execute_result"
    }
   ],
   "source": [
    "param_list = pd.read_csv(\"./parameter_list.csv\")\n",
    "param_list"
   ]
  },
  {
   "cell_type": "code",
   "execution_count": 3,
   "id": "f6e886fb-08a1-4504-8530-c78483d4a087",
   "metadata": {},
   "outputs": [],
   "source": [
    "X = pd.read_csv(\"./X.csv\")\n",
    "Y = pd.read_csv(\"./y.csv\")"
   ]
  },
  {
   "cell_type": "code",
   "execution_count": 4,
   "id": "7677e5ed-a7c0-40b3-a9b8-c483af8fe125",
   "metadata": {},
   "outputs": [
    {
     "name": "stdout",
     "output_type": "stream",
     "text": [
      "Columns of data is 53 and rows of data is 95588\n"
     ]
    }
   ],
   "source": [
    "columns_rows = X.shape\n",
    "print('Columns of data is {:}'.format(columns_rows[1]), 'and rows of data is {:}'.format(columns_rows[0]))"
   ]
  },
  {
   "cell_type": "markdown",
   "id": "df8c2c8e-4ff6-48b9-b71e-51d6057f0156",
   "metadata": {},
   "source": [
    "# Exploratory Data Analysis"
   ]
  },
  {
   "cell_type": "markdown",
   "id": "856c619a-3c92-42fd-b708-db00f404010e",
   "metadata": {},
   "source": [
    "## Understanding the Dataset"
   ]
  },
  {
   "cell_type": "code",
   "execution_count": 6,
   "id": "d18af8ce-edb9-4b72-bf74-7604e0368517",
   "metadata": {},
   "outputs": [
    {
     "name": "stdout",
     "output_type": "stream",
     "text": [
      "<class 'pandas.core.frame.DataFrame'>\n",
      "RangeIndex: 95588 entries, 0 to 95587\n",
      "Data columns (total 53 columns):\n",
      " #   Column           Non-Null Count  Dtype  \n",
      "---  ------           --------------  -----  \n",
      " 0   engine_id        95588 non-null  object \n",
      " 1   aircraft_id      95588 non-null  object \n",
      " 2   flight_datetime  95588 non-null  object \n",
      " 3   flight_phase     95588 non-null  object \n",
      " 4   engine_position  95588 non-null  int64  \n",
      " 5   n1_modifier      95588 non-null  float64\n",
      " 6   number_blades    95588 non-null  float64\n",
      " 7   engine_family    95588 non-null  object \n",
      " 8   engine_type      95588 non-null  object \n",
      " 9   manufacturer     95588 non-null  object \n",
      " 10  ZHPTAC           24023 non-null  float64\n",
      " 11  ZLPTAC           24023 non-null  float64\n",
      " 12  ZPCN12           95588 non-null  float64\n",
      " 13  ZPCN25           95588 non-null  float64\n",
      " 14  ZPHSF            26740 non-null  float64\n",
      " 15  ZPHSR            26740 non-null  float64\n",
      " 16  ZPN12R           36672 non-null  float64\n",
      " 17  ZPOIL            75679 non-null  float64\n",
      " 18  ZPS3             36670 non-null  float64\n",
      " 19  ZT1AB            36672 non-null  float64\n",
      " 20  ZT3              36670 non-null  float64\n",
      " 21  ZT49             95588 non-null  float64\n",
      " 22  ZTAMB            36674 non-null  float64\n",
      " 23  ZTLA             36674 non-null  float64\n",
      " 24  ZTNAC            24023 non-null  float64\n",
      " 25  ZTOIL            75679 non-null  float64\n",
      " 26  ZVB1F            95578 non-null  float64\n",
      " 27  ZVB1R            43895 non-null  float64\n",
      " 28  ZVB2F            43870 non-null  float64\n",
      " 29  ZVB2R            80544 non-null  float64\n",
      " 30  ZVSV             60693 non-null  float64\n",
      " 31  ZWF36            75706 non-null  float64\n",
      " 32  IHPSOV           36674 non-null  float64\n",
      " 33  aircraft_family  95588 non-null  object \n",
      " 34  aircraft_type    95588 non-null  object \n",
      " 35  aircraft_grp     95588 non-null  object \n",
      " 36  ac_manufacturer  95588 non-null  object \n",
      " 37  AGW              58914 non-null  float64\n",
      " 38  CAS              43905 non-null  float64\n",
      " 39  IAI              38444 non-null  float64\n",
      " 40  IVS12            58914 non-null  float64\n",
      " 41  SAT              30038 non-null  float64\n",
      " 42  ZALT             95588 non-null  float64\n",
      " 43  ZT1A             95588 non-null  float64\n",
      " 44  ZVIAS            36670 non-null  float64\n",
      " 45  ZWBP1            28876 non-null  float64\n",
      " 46  ZWBP1_8E         36674 non-null  float64\n",
      " 47  ZWBP2            28876 non-null  float64\n",
      " 48  ZWBP2_8E         36674 non-null  float64\n",
      " 49  ZXM              95588 non-null  float64\n",
      " 50  IBE              95588 non-null  float64\n",
      " 51  IBP              66712 non-null  float64\n",
      " 52  IAIE             56556 non-null  float64\n",
      "dtypes: float64(41), int64(1), object(11)\n",
      "memory usage: 38.7+ MB\n"
     ]
    }
   ],
   "source": [
    "X.info()"
   ]
  },
  {
   "cell_type": "markdown",
   "id": "9d552ed2-5738-48e4-9896-c7ed338c1a03",
   "metadata": {},
   "source": [
    "Let's check the statistical idea of dataset"
   ]
  },
  {
   "cell_type": "code",
   "execution_count": 7,
   "id": "8cc8b343-7786-42f4-adb8-5bb68a15d5c8",
   "metadata": {},
   "outputs": [
    {
     "data": {
      "text/html": [
       "<div>\n",
       "<style scoped>\n",
       "    .dataframe tbody tr th:only-of-type {\n",
       "        vertical-align: middle;\n",
       "    }\n",
       "\n",
       "    .dataframe tbody tr th {\n",
       "        vertical-align: top;\n",
       "    }\n",
       "\n",
       "    .dataframe thead th {\n",
       "        text-align: right;\n",
       "    }\n",
       "</style>\n",
       "<table border=\"1\" class=\"dataframe\">\n",
       "  <thead>\n",
       "    <tr style=\"text-align: right;\">\n",
       "      <th></th>\n",
       "      <th>engine_position</th>\n",
       "      <th>n1_modifier</th>\n",
       "      <th>number_blades</th>\n",
       "      <th>ZHPTAC</th>\n",
       "      <th>ZLPTAC</th>\n",
       "      <th>ZPCN12</th>\n",
       "      <th>ZPCN25</th>\n",
       "      <th>ZPHSF</th>\n",
       "      <th>ZPHSR</th>\n",
       "      <th>ZPN12R</th>\n",
       "      <th>ZPOIL</th>\n",
       "      <th>ZPS3</th>\n",
       "      <th>ZT1AB</th>\n",
       "      <th>ZT3</th>\n",
       "      <th>ZT49</th>\n",
       "      <th>ZTAMB</th>\n",
       "      <th>ZTLA</th>\n",
       "      <th>ZTNAC</th>\n",
       "      <th>ZTOIL</th>\n",
       "      <th>ZVB1F</th>\n",
       "      <th>ZVB1R</th>\n",
       "      <th>ZVB2F</th>\n",
       "      <th>ZVB2R</th>\n",
       "      <th>ZVSV</th>\n",
       "      <th>ZWF36</th>\n",
       "      <th>IHPSOV</th>\n",
       "      <th>AGW</th>\n",
       "      <th>CAS</th>\n",
       "      <th>IAI</th>\n",
       "      <th>IVS12</th>\n",
       "      <th>SAT</th>\n",
       "      <th>ZALT</th>\n",
       "      <th>ZT1A</th>\n",
       "      <th>ZVIAS</th>\n",
       "      <th>ZWBP1</th>\n",
       "      <th>ZWBP1_8E</th>\n",
       "      <th>ZWBP2</th>\n",
       "      <th>ZWBP2_8E</th>\n",
       "      <th>ZXM</th>\n",
       "      <th>IBE</th>\n",
       "      <th>IBP</th>\n",
       "      <th>IAIE</th>\n",
       "    </tr>\n",
       "  </thead>\n",
       "  <tbody>\n",
       "    <tr>\n",
       "      <th>count</th>\n",
       "      <td>95588.000000</td>\n",
       "      <td>95588.000000</td>\n",
       "      <td>95588.000000</td>\n",
       "      <td>24023.000000</td>\n",
       "      <td>24023.000000</td>\n",
       "      <td>95588.000000</td>\n",
       "      <td>95588.000000</td>\n",
       "      <td>26740.000000</td>\n",
       "      <td>26740.000000</td>\n",
       "      <td>36672.000000</td>\n",
       "      <td>75679.000000</td>\n",
       "      <td>36670.000000</td>\n",
       "      <td>36672.000000</td>\n",
       "      <td>36670.000000</td>\n",
       "      <td>95588.000000</td>\n",
       "      <td>36674.000000</td>\n",
       "      <td>36674.000000</td>\n",
       "      <td>24023.000000</td>\n",
       "      <td>75679.000000</td>\n",
       "      <td>95578.000000</td>\n",
       "      <td>43895.000000</td>\n",
       "      <td>43870.000000</td>\n",
       "      <td>80544.000000</td>\n",
       "      <td>60693.000000</td>\n",
       "      <td>75706.000000</td>\n",
       "      <td>36674.000000</td>\n",
       "      <td>58914.000000</td>\n",
       "      <td>43905.000000</td>\n",
       "      <td>38444.000000</td>\n",
       "      <td>58914.000000</td>\n",
       "      <td>30038.000000</td>\n",
       "      <td>95588.000000</td>\n",
       "      <td>95588.000000</td>\n",
       "      <td>36670.000000</td>\n",
       "      <td>28876.000000</td>\n",
       "      <td>36674.000000</td>\n",
       "      <td>28876.000000</td>\n",
       "      <td>36674.000000</td>\n",
       "      <td>95588.000000</td>\n",
       "      <td>95588.000000</td>\n",
       "      <td>66712.000000</td>\n",
       "      <td>56556.000000</td>\n",
       "    </tr>\n",
       "    <tr>\n",
       "      <th>mean</th>\n",
       "      <td>1.499864</td>\n",
       "      <td>1.683925</td>\n",
       "      <td>29.159727</td>\n",
       "      <td>97.656787</td>\n",
       "      <td>94.580652</td>\n",
       "      <td>85.987999</td>\n",
       "      <td>90.449456</td>\n",
       "      <td>171.512865</td>\n",
       "      <td>151.668100</td>\n",
       "      <td>88.695367</td>\n",
       "      <td>62.262071</td>\n",
       "      <td>205.126180</td>\n",
       "      <td>-8.346149</td>\n",
       "      <td>428.871493</td>\n",
       "      <td>713.811874</td>\n",
       "      <td>-20.941883</td>\n",
       "      <td>67.732013</td>\n",
       "      <td>79.626358</td>\n",
       "      <td>80.596216</td>\n",
       "      <td>0.493313</td>\n",
       "      <td>0.631057</td>\n",
       "      <td>0.127775</td>\n",
       "      <td>0.532856</td>\n",
       "      <td>0.553530</td>\n",
       "      <td>2957.447989</td>\n",
       "      <td>0.000027</td>\n",
       "      <td>35201.934945</td>\n",
       "      <td>220.772808</td>\n",
       "      <td>0.140022</td>\n",
       "      <td>0.007876</td>\n",
       "      <td>-0.995030</td>\n",
       "      <td>21530.438956</td>\n",
       "      <td>-10.602337</td>\n",
       "      <td>210.753411</td>\n",
       "      <td>1.386979</td>\n",
       "      <td>30.859729</td>\n",
       "      <td>1.394787</td>\n",
       "      <td>31.912721</td>\n",
       "      <td>0.561346</td>\n",
       "      <td>0.976493</td>\n",
       "      <td>0.976436</td>\n",
       "      <td>0.071717</td>\n",
       "    </tr>\n",
       "    <tr>\n",
       "      <th>std</th>\n",
       "      <td>0.500003</td>\n",
       "      <td>2.213876</td>\n",
       "      <td>4.797585</td>\n",
       "      <td>9.542082</td>\n",
       "      <td>9.231992</td>\n",
       "      <td>6.145152</td>\n",
       "      <td>6.086163</td>\n",
       "      <td>102.520678</td>\n",
       "      <td>101.872898</td>\n",
       "      <td>4.555044</td>\n",
       "      <td>24.123774</td>\n",
       "      <td>87.657792</td>\n",
       "      <td>23.413106</td>\n",
       "      <td>46.044780</td>\n",
       "      <td>94.179632</td>\n",
       "      <td>33.206627</td>\n",
       "      <td>8.225479</td>\n",
       "      <td>18.485139</td>\n",
       "      <td>19.804658</td>\n",
       "      <td>0.349949</td>\n",
       "      <td>0.422775</td>\n",
       "      <td>0.129129</td>\n",
       "      <td>0.658005</td>\n",
       "      <td>2.145975</td>\n",
       "      <td>1063.979077</td>\n",
       "      <td>0.005222</td>\n",
       "      <td>56235.835517</td>\n",
       "      <td>42.235331</td>\n",
       "      <td>0.347014</td>\n",
       "      <td>0.088397</td>\n",
       "      <td>21.037357</td>\n",
       "      <td>16809.554534</td>\n",
       "      <td>22.283134</td>\n",
       "      <td>44.173015</td>\n",
       "      <td>7.143402</td>\n",
       "      <td>15.186038</td>\n",
       "      <td>7.146505</td>\n",
       "      <td>15.356908</td>\n",
       "      <td>0.245283</td>\n",
       "      <td>0.151508</td>\n",
       "      <td>0.151687</td>\n",
       "      <td>0.258020</td>\n",
       "    </tr>\n",
       "    <tr>\n",
       "      <th>min</th>\n",
       "      <td>1.000000</td>\n",
       "      <td>0.000000</td>\n",
       "      <td>24.000000</td>\n",
       "      <td>7.000000</td>\n",
       "      <td>36.000000</td>\n",
       "      <td>0.000000</td>\n",
       "      <td>0.000000</td>\n",
       "      <td>0.000000</td>\n",
       "      <td>0.000000</td>\n",
       "      <td>70.843697</td>\n",
       "      <td>0.000000</td>\n",
       "      <td>85.125000</td>\n",
       "      <td>-49.984299</td>\n",
       "      <td>276.250000</td>\n",
       "      <td>0.000000</td>\n",
       "      <td>-71.300003</td>\n",
       "      <td>42.750000</td>\n",
       "      <td>19.000000</td>\n",
       "      <td>0.000000</td>\n",
       "      <td>0.000000</td>\n",
       "      <td>0.000000</td>\n",
       "      <td>0.000000</td>\n",
       "      <td>0.000000</td>\n",
       "      <td>-4.000000</td>\n",
       "      <td>0.000000</td>\n",
       "      <td>0.000000</td>\n",
       "      <td>0.000000</td>\n",
       "      <td>0.000000</td>\n",
       "      <td>0.000000</td>\n",
       "      <td>0.000000</td>\n",
       "      <td>-64.000000</td>\n",
       "      <td>-528.400024</td>\n",
       "      <td>-122.500000</td>\n",
       "      <td>131.100006</td>\n",
       "      <td>0.000000</td>\n",
       "      <td>0.000000</td>\n",
       "      <td>0.000000</td>\n",
       "      <td>0.000000</td>\n",
       "      <td>0.000000</td>\n",
       "      <td>0.000000</td>\n",
       "      <td>0.000000</td>\n",
       "      <td>0.000000</td>\n",
       "    </tr>\n",
       "    <tr>\n",
       "      <th>25%</th>\n",
       "      <td>1.000000</td>\n",
       "      <td>0.000000</td>\n",
       "      <td>24.000000</td>\n",
       "      <td>99.000000</td>\n",
       "      <td>92.000000</td>\n",
       "      <td>83.900002</td>\n",
       "      <td>87.468697</td>\n",
       "      <td>89.000000</td>\n",
       "      <td>59.000000</td>\n",
       "      <td>84.843697</td>\n",
       "      <td>42.000000</td>\n",
       "      <td>116.311996</td>\n",
       "      <td>-29.109301</td>\n",
       "      <td>393.327759</td>\n",
       "      <td>635.000000</td>\n",
       "      <td>-52.900002</td>\n",
       "      <td>59.656200</td>\n",
       "      <td>67.000000</td>\n",
       "      <td>73.000000</td>\n",
       "      <td>0.260000</td>\n",
       "      <td>0.300000</td>\n",
       "      <td>0.030000</td>\n",
       "      <td>0.000000</td>\n",
       "      <td>-0.812500</td>\n",
       "      <td>2242.098630</td>\n",
       "      <td>0.000000</td>\n",
       "      <td>75.514999</td>\n",
       "      <td>177.320007</td>\n",
       "      <td>0.000000</td>\n",
       "      <td>0.000000</td>\n",
       "      <td>-7.000000</td>\n",
       "      <td>1373.199950</td>\n",
       "      <td>-28.900000</td>\n",
       "      <td>168.000000</td>\n",
       "      <td>0.925940</td>\n",
       "      <td>27.601500</td>\n",
       "      <td>0.925940</td>\n",
       "      <td>27.531200</td>\n",
       "      <td>0.268000</td>\n",
       "      <td>1.000000</td>\n",
       "      <td>1.000000</td>\n",
       "      <td>0.000000</td>\n",
       "    </tr>\n",
       "    <tr>\n",
       "      <th>50%</th>\n",
       "      <td>1.000000</td>\n",
       "      <td>0.000000</td>\n",
       "      <td>28.000000</td>\n",
       "      <td>100.000000</td>\n",
       "      <td>99.000000</td>\n",
       "      <td>85.879997</td>\n",
       "      <td>91.400002</td>\n",
       "      <td>159.000000</td>\n",
       "      <td>140.000000</td>\n",
       "      <td>86.515602</td>\n",
       "      <td>51.000000</td>\n",
       "      <td>275.750000</td>\n",
       "      <td>-14.101500</td>\n",
       "      <td>425.375000</td>\n",
       "      <td>720.750000</td>\n",
       "      <td>-20.000000</td>\n",
       "      <td>74.531197</td>\n",
       "      <td>78.000000</td>\n",
       "      <td>83.000000</td>\n",
       "      <td>0.410000</td>\n",
       "      <td>0.580000</td>\n",
       "      <td>0.100000</td>\n",
       "      <td>0.100000</td>\n",
       "      <td>0.437500</td>\n",
       "      <td>2674.204100</td>\n",
       "      <td>0.000000</td>\n",
       "      <td>13474.637700</td>\n",
       "      <td>246.000000</td>\n",
       "      <td>0.000000</td>\n",
       "      <td>0.000000</td>\n",
       "      <td>3.395000</td>\n",
       "      <td>33997.000000</td>\n",
       "      <td>-19.250000</td>\n",
       "      <td>181.899994</td>\n",
       "      <td>0.947987</td>\n",
       "      <td>32.500000</td>\n",
       "      <td>0.947987</td>\n",
       "      <td>33.023399</td>\n",
       "      <td>0.749000</td>\n",
       "      <td>1.000000</td>\n",
       "      <td>1.000000</td>\n",
       "      <td>0.000000</td>\n",
       "    </tr>\n",
       "    <tr>\n",
       "      <th>75%</th>\n",
       "      <td>2.000000</td>\n",
       "      <td>4.000000</td>\n",
       "      <td>36.000000</td>\n",
       "      <td>100.000000</td>\n",
       "      <td>100.000000</td>\n",
       "      <td>88.629997</td>\n",
       "      <td>93.900002</td>\n",
       "      <td>259.000000</td>\n",
       "      <td>222.000000</td>\n",
       "      <td>92.656197</td>\n",
       "      <td>79.587303</td>\n",
       "      <td>291.062012</td>\n",
       "      <td>16.328100</td>\n",
       "      <td>473.000000</td>\n",
       "      <td>791.500000</td>\n",
       "      <td>13.700000</td>\n",
       "      <td>75.312500</td>\n",
       "      <td>90.000000</td>\n",
       "      <td>89.474899</td>\n",
       "      <td>0.660000</td>\n",
       "      <td>0.900000</td>\n",
       "      <td>0.200000</td>\n",
       "      <td>0.966796</td>\n",
       "      <td>2.100000</td>\n",
       "      <td>3452.434810</td>\n",
       "      <td>0.000000</td>\n",
       "      <td>15394.861300</td>\n",
       "      <td>258.000000</td>\n",
       "      <td>0.000000</td>\n",
       "      <td>0.000000</td>\n",
       "      <td>13.600000</td>\n",
       "      <td>36000.000000</td>\n",
       "      <td>11.800000</td>\n",
       "      <td>253.800003</td>\n",
       "      <td>1.102310</td>\n",
       "      <td>42.507801</td>\n",
       "      <td>1.124356</td>\n",
       "      <td>43.679600</td>\n",
       "      <td>0.772000</td>\n",
       "      <td>1.000000</td>\n",
       "      <td>1.000000</td>\n",
       "      <td>0.000000</td>\n",
       "    </tr>\n",
       "    <tr>\n",
       "      <th>max</th>\n",
       "      <td>2.000000</td>\n",
       "      <td>7.000000</td>\n",
       "      <td>36.000000</td>\n",
       "      <td>100.000000</td>\n",
       "      <td>105.000000</td>\n",
       "      <td>103.120003</td>\n",
       "      <td>127.129997</td>\n",
       "      <td>360.000000</td>\n",
       "      <td>360.000000</td>\n",
       "      <td>102.875000</td>\n",
       "      <td>1016.000000</td>\n",
       "      <td>351.125000</td>\n",
       "      <td>37.953098</td>\n",
       "      <td>555.937012</td>\n",
       "      <td>970.500000</td>\n",
       "      <td>513.169983</td>\n",
       "      <td>82.625000</td>\n",
       "      <td>165.000000</td>\n",
       "      <td>768.000000</td>\n",
       "      <td>4.027340</td>\n",
       "      <td>3.000000</td>\n",
       "      <td>1.000000</td>\n",
       "      <td>3.650390</td>\n",
       "      <td>26.400000</td>\n",
       "      <td>12288.000000</td>\n",
       "      <td>1.000000</td>\n",
       "      <td>195593.891000</td>\n",
       "      <td>319.000000</td>\n",
       "      <td>1.000000</td>\n",
       "      <td>1.000000</td>\n",
       "      <td>96.750000</td>\n",
       "      <td>41051.000000</td>\n",
       "      <td>99.000000</td>\n",
       "      <td>306.399994</td>\n",
       "      <td>138.891068</td>\n",
       "      <td>74.273399</td>\n",
       "      <td>138.891068</td>\n",
       "      <td>76.406197</td>\n",
       "      <td>1.012000</td>\n",
       "      <td>1.000000</td>\n",
       "      <td>1.000000</td>\n",
       "      <td>1.000000</td>\n",
       "    </tr>\n",
       "  </tbody>\n",
       "</table>\n",
       "</div>"
      ],
      "text/plain": [
       "       engine_position   n1_modifier  number_blades        ZHPTAC  \\\n",
       "count     95588.000000  95588.000000   95588.000000  24023.000000   \n",
       "mean          1.499864      1.683925      29.159727     97.656787   \n",
       "std           0.500003      2.213876       4.797585      9.542082   \n",
       "min           1.000000      0.000000      24.000000      7.000000   \n",
       "25%           1.000000      0.000000      24.000000     99.000000   \n",
       "50%           1.000000      0.000000      28.000000    100.000000   \n",
       "75%           2.000000      4.000000      36.000000    100.000000   \n",
       "max           2.000000      7.000000      36.000000    100.000000   \n",
       "\n",
       "             ZLPTAC        ZPCN12        ZPCN25         ZPHSF         ZPHSR  \\\n",
       "count  24023.000000  95588.000000  95588.000000  26740.000000  26740.000000   \n",
       "mean      94.580652     85.987999     90.449456    171.512865    151.668100   \n",
       "std        9.231992      6.145152      6.086163    102.520678    101.872898   \n",
       "min       36.000000      0.000000      0.000000      0.000000      0.000000   \n",
       "25%       92.000000     83.900002     87.468697     89.000000     59.000000   \n",
       "50%       99.000000     85.879997     91.400002    159.000000    140.000000   \n",
       "75%      100.000000     88.629997     93.900002    259.000000    222.000000   \n",
       "max      105.000000    103.120003    127.129997    360.000000    360.000000   \n",
       "\n",
       "             ZPN12R         ZPOIL          ZPS3         ZT1AB           ZT3  \\\n",
       "count  36672.000000  75679.000000  36670.000000  36672.000000  36670.000000   \n",
       "mean      88.695367     62.262071    205.126180     -8.346149    428.871493   \n",
       "std        4.555044     24.123774     87.657792     23.413106     46.044780   \n",
       "min       70.843697      0.000000     85.125000    -49.984299    276.250000   \n",
       "25%       84.843697     42.000000    116.311996    -29.109301    393.327759   \n",
       "50%       86.515602     51.000000    275.750000    -14.101500    425.375000   \n",
       "75%       92.656197     79.587303    291.062012     16.328100    473.000000   \n",
       "max      102.875000   1016.000000    351.125000     37.953098    555.937012   \n",
       "\n",
       "               ZT49         ZTAMB          ZTLA         ZTNAC         ZTOIL  \\\n",
       "count  95588.000000  36674.000000  36674.000000  24023.000000  75679.000000   \n",
       "mean     713.811874    -20.941883     67.732013     79.626358     80.596216   \n",
       "std       94.179632     33.206627      8.225479     18.485139     19.804658   \n",
       "min        0.000000    -71.300003     42.750000     19.000000      0.000000   \n",
       "25%      635.000000    -52.900002     59.656200     67.000000     73.000000   \n",
       "50%      720.750000    -20.000000     74.531197     78.000000     83.000000   \n",
       "75%      791.500000     13.700000     75.312500     90.000000     89.474899   \n",
       "max      970.500000    513.169983     82.625000    165.000000    768.000000   \n",
       "\n",
       "              ZVB1F         ZVB1R         ZVB2F         ZVB2R          ZVSV  \\\n",
       "count  95578.000000  43895.000000  43870.000000  80544.000000  60693.000000   \n",
       "mean       0.493313      0.631057      0.127775      0.532856      0.553530   \n",
       "std        0.349949      0.422775      0.129129      0.658005      2.145975   \n",
       "min        0.000000      0.000000      0.000000      0.000000     -4.000000   \n",
       "25%        0.260000      0.300000      0.030000      0.000000     -0.812500   \n",
       "50%        0.410000      0.580000      0.100000      0.100000      0.437500   \n",
       "75%        0.660000      0.900000      0.200000      0.966796      2.100000   \n",
       "max        4.027340      3.000000      1.000000      3.650390     26.400000   \n",
       "\n",
       "              ZWF36        IHPSOV            AGW           CAS           IAI  \\\n",
       "count  75706.000000  36674.000000   58914.000000  43905.000000  38444.000000   \n",
       "mean    2957.447989      0.000027   35201.934945    220.772808      0.140022   \n",
       "std     1063.979077      0.005222   56235.835517     42.235331      0.347014   \n",
       "min        0.000000      0.000000       0.000000      0.000000      0.000000   \n",
       "25%     2242.098630      0.000000      75.514999    177.320007      0.000000   \n",
       "50%     2674.204100      0.000000   13474.637700    246.000000      0.000000   \n",
       "75%     3452.434810      0.000000   15394.861300    258.000000      0.000000   \n",
       "max    12288.000000      1.000000  195593.891000    319.000000      1.000000   \n",
       "\n",
       "              IVS12           SAT          ZALT          ZT1A         ZVIAS  \\\n",
       "count  58914.000000  30038.000000  95588.000000  95588.000000  36670.000000   \n",
       "mean       0.007876     -0.995030  21530.438956    -10.602337    210.753411   \n",
       "std        0.088397     21.037357  16809.554534     22.283134     44.173015   \n",
       "min        0.000000    -64.000000   -528.400024   -122.500000    131.100006   \n",
       "25%        0.000000     -7.000000   1373.199950    -28.900000    168.000000   \n",
       "50%        0.000000      3.395000  33997.000000    -19.250000    181.899994   \n",
       "75%        0.000000     13.600000  36000.000000     11.800000    253.800003   \n",
       "max        1.000000     96.750000  41051.000000     99.000000    306.399994   \n",
       "\n",
       "              ZWBP1      ZWBP1_8E         ZWBP2      ZWBP2_8E           ZXM  \\\n",
       "count  28876.000000  36674.000000  28876.000000  36674.000000  95588.000000   \n",
       "mean       1.386979     30.859729      1.394787     31.912721      0.561346   \n",
       "std        7.143402     15.186038      7.146505     15.356908      0.245283   \n",
       "min        0.000000      0.000000      0.000000      0.000000      0.000000   \n",
       "25%        0.925940     27.601500      0.925940     27.531200      0.268000   \n",
       "50%        0.947987     32.500000      0.947987     33.023399      0.749000   \n",
       "75%        1.102310     42.507801      1.124356     43.679600      0.772000   \n",
       "max      138.891068     74.273399    138.891068     76.406197      1.012000   \n",
       "\n",
       "                IBE           IBP          IAIE  \n",
       "count  95588.000000  66712.000000  56556.000000  \n",
       "mean       0.976493      0.976436      0.071717  \n",
       "std        0.151508      0.151687      0.258020  \n",
       "min        0.000000      0.000000      0.000000  \n",
       "25%        1.000000      1.000000      0.000000  \n",
       "50%        1.000000      1.000000      0.000000  \n",
       "75%        1.000000      1.000000      0.000000  \n",
       "max        1.000000      1.000000      1.000000  "
      ]
     },
     "execution_count": 7,
     "metadata": {},
     "output_type": "execute_result"
    }
   ],
   "source": [
    "X.describe()"
   ]
  },
  {
   "cell_type": "markdown",
   "id": "c08efde0-3986-4f5c-a9cb-854ee25c8eda",
   "metadata": {},
   "source": [
    "Most important aircraft params"
   ]
  },
  {
   "cell_type": "code",
   "execution_count": 8,
   "id": "7245d803-2337-4f0d-adeb-495b1cfd3afe",
   "metadata": {},
   "outputs": [],
   "source": [
    "altitude =  np.array(X['ZALT'].values)\n",
    "mach_num = np.array(X['ZXM'].values)\n",
    "bleed_valve = np.array(X['IBE'].values)"
   ]
  },
  {
   "cell_type": "markdown",
   "id": "afba6d85-b994-4570-853b-3de08b82d760",
   "metadata": {},
   "source": [
    "## Calc the corrected params"
   ]
  },
  {
   "cell_type": "markdown",
   "id": "bf4e5329-1b79-4a03-8864-3c6db8313079",
   "metadata": {},
   "source": [
    "### TAT param"
   ]
  },
  {
   "cell_type": "code",
   "execution_count": 9,
   "id": "b7b64ef8-be77-4fa3-a1d4-2b9e29dfab12",
   "metadata": {},
   "outputs": [],
   "source": [
    "SAT = np.array(X['SAT'].values)\n",
    "gamma = 1.4\n",
    "R = 8.3143\n",
    "TAT = SAT * (1 + (gamma - 1) / 2 * (mach_num ** 2))"
   ]
  },
  {
   "cell_type": "code",
   "execution_count": 10,
   "id": "04ee8741-2de0-4184-81cb-35f956884ab2",
   "metadata": {},
   "outputs": [],
   "source": [
    "X = X.drop(columns=['SAT'])\n",
    "X['TAT'] = TAT"
   ]
  },
  {
   "cell_type": "markdown",
   "id": "3087508a-63b9-4228-a12e-132e65fd665c",
   "metadata": {},
   "source": [
    "### THETA Factor Correction"
   ]
  },
  {
   "cell_type": "code",
   "execution_count": 48,
   "id": "d96df255-1d86-43d6-b220-80a00eacf1d3",
   "metadata": {},
   "outputs": [],
   "source": [
    "THETA = (TAT + 273.15) / 288.15\n",
    "N1 = np.array(X['n1_modifier'].values)\n",
    "alpha = 0.5\n",
    "N1_K = N1 / (THETA ** alpha)"
   ]
  },
  {
   "cell_type": "code",
   "execution_count": 49,
   "id": "657e2e6a-0978-4223-adf8-20d55634c6d2",
   "metadata": {},
   "outputs": [
    {
     "data": {
      "text/plain": [
       "CF34-8E5         36674\n",
       "CFM56-7B26       26236\n",
       "CFM56-5B4        20742\n",
       "CFM56-5B3         8134\n",
       "CFM56-7B27/B1     3802\n",
       "Name: engine_type, dtype: int64"
      ]
     },
     "execution_count": 49,
     "metadata": {},
     "output_type": "execute_result"
    }
   ],
   "source": [
    "X['engine_type'].value_counts()"
   ]
  },
  {
   "cell_type": "markdown",
   "id": "b257cc3a-0a83-480c-b808-4ef9e02c665c",
   "metadata": {},
   "source": [
    "Lets calc an EGT_C column"
   ]
  },
  {
   "cell_type": "code",
   "execution_count": null,
   "id": "44cff357-dbd4-42e1-a093-804b6385b249",
   "metadata": {},
   "outputs": [],
   "source": [
    "dict = {\n",
    "    'CF34-8E5': \n",
    "}"
   ]
  },
  {
   "cell_type": "markdown",
   "id": "da990c93-a828-40e1-a972-f61974ed4389",
   "metadata": {},
   "source": [
    "# Build first model"
   ]
  },
  {
   "cell_type": "code",
   "execution_count": 5,
   "id": "f7c46043-52dd-4ce3-a82b-3597a4690f53",
   "metadata": {},
   "outputs": [
    {
     "data": {
      "text/plain": [
       "array([[-0.99972804,  1.94956635,  1.42578153, ...,  0.15515483,\n",
       "        -1.51995889,  0.84961666],\n",
       "       [ 1.00027204, -0.76062693, -0.24173269, ...,  0.15515483,\n",
       "         0.65841585,  0.82928659],\n",
       "       [ 1.00027204,  1.94956635,  1.42578153, ..., -6.44517462,\n",
       "        -1.51995889,  0.82928659],\n",
       "       ...,\n",
       "       [-0.99972804, -0.76062693, -0.24173269, ...,  0.15515483,\n",
       "         0.65841585,  0.82928659],\n",
       "       [-0.99972804, -0.76062693, -0.24173269, ...,  0.15515483,\n",
       "         0.65841585,  0.82928659],\n",
       "       [ 1.00027204, -0.76062693, -0.24173269, ...,  0.15515483,\n",
       "         0.65841585,  0.82928659]])"
      ]
     },
     "execution_count": 5,
     "metadata": {},
     "output_type": "execute_result"
    }
   ],
   "source": [
    "y_BRAT = Y['BRAT']\n",
    "x = X.drop(columns=[\n",
    "        \"engine_id\", \"aircraft_id\", \"flight_datetime\",\n",
    "        \"flight_phase\", \"engine_family\", \"engine_type\", \"manufacturer\",\n",
    "        \"aircraft_family\", \"aircraft_type\", \"aircraft_grp\", \"ac_manufacturer\"])\n",
    "x.fillna(-100, inplace = True)\n",
    "y_BRAT.fillna(-100, inplace = True)\n",
    "scaler = StandardScaler()\n",
    "scaler.fit(x)\n",
    "x = scaler.transform(x)\n",
    "X_train, X_test, y_train, y_test = train_test_split(x, y_BRAT, test_size=0.33, shuffle=True)\n",
    "X_train = torch.tensor(X_train, dtype=torch.float32)\n",
    "y_train = torch.tensor(y_train.values, dtype=torch.float32).reshape(-1, 1)\n",
    "X_test = torch.tensor(X_test, dtype=torch.float32)\n",
    "y_test = torch.tensor(y_test.values, dtype=torch.float32).reshape(-1, 1) \n",
    "x"
   ]
  },
  {
   "cell_type": "code",
   "execution_count": 193,
   "id": "60f81808-d771-4e67-bbaf-4580ec0417d7",
   "metadata": {},
   "outputs": [
    {
     "data": {
      "text/plain": [
       "0    0.920896\n",
       "1    1.000000\n",
       "2    0.000000\n",
       "3    0.893764\n",
       "4    1.000000\n",
       "Name: BRAT, dtype: float64"
      ]
     },
     "execution_count": 193,
     "metadata": {},
     "output_type": "execute_result"
    }
   ],
   "source": [
    "y_BRAT.head()"
   ]
  },
  {
   "cell_type": "code",
   "execution_count": 252,
   "id": "a68699a4-e366-4a7a-8fd7-3158e0503173",
   "metadata": {},
   "outputs": [],
   "source": [
    "model = nn.Sequential(\n",
    "    nn.Linear(x.shape[1], 30),\n",
    "    nn.Tanh(),\n",
    "    nn.Linear(30, 1)\n",
    ")"
   ]
  },
  {
   "cell_type": "code",
   "execution_count": 253,
   "id": "6e967380-b7d3-4962-9586-85347a9a509a",
   "metadata": {},
   "outputs": [],
   "source": [
    "loss_fn = nn.MSELoss()  # mean square error\n",
    "optimizer = optim.Adam(model.parameters(), lr=0.04)"
   ]
  },
  {
   "cell_type": "code",
   "execution_count": 254,
   "id": "b2485006-df2e-4852-a194-b87293b4fbda",
   "metadata": {},
   "outputs": [
    {
     "name": "stdout",
     "output_type": "stream",
     "text": [
      "cuda\n"
     ]
    },
    {
     "data": {
      "text/plain": [
       "tensor([[   0.8938],\n",
       "        [   0.0000],\n",
       "        [   0.9150],\n",
       "        ...,\n",
       "        [   1.0000],\n",
       "        [   0.9340],\n",
       "        [-100.0000]], device='cuda:0')"
      ]
     },
     "execution_count": 254,
     "metadata": {},
     "output_type": "execute_result"
    }
   ],
   "source": [
    "device = torch.device(\"cuda\" if torch.cuda.is_available() else \"cpu\")\n",
    "print(device)\n",
    "model.to(device)\n",
    "X_train.to(device)\n",
    "y_train.to(device)\n",
    "X_test.to(device)\n",
    "y_test.to(device)"
   ]
  },
  {
   "cell_type": "code",
   "execution_count": 255,
   "id": "2b93b30d-cc42-47d5-98e7-1a3406c105e2",
   "metadata": {
    "tags": []
   },
   "outputs": [
    {
     "name": "stderr",
     "output_type": "stream",
     "text": [
      "Epoch 0: 100%|█████████████████████████████████████████████| 43/43 [00:00<00:00, 237.57batch/s, mse=6.8]\n",
      "Epoch 1: 100%|████████████████████████████████████████████| 43/43 [00:00<00:00, 311.59batch/s, mse=3.44]\n",
      "Epoch 2: 100%|████████████████████████████████████████████| 43/43 [00:00<00:00, 318.52batch/s, mse=1.88]\n",
      "Epoch 3: 100%|███████████████████████████████████████████| 43/43 [00:00<00:00, 320.90batch/s, mse=0.983]\n",
      "Epoch 4: 100%|███████████████████████████████████████████| 43/43 [00:00<00:00, 361.34batch/s, mse=0.509]\n",
      "Epoch 5: 100%|███████████████████████████████████████████| 43/43 [00:00<00:00, 387.39batch/s, mse=0.559]\n",
      "Epoch 6: 100%|███████████████████████████████████████████| 43/43 [00:00<00:00, 244.32batch/s, mse=0.478]\n",
      "Epoch 7: 100%|███████████████████████████████████████████| 43/43 [00:00<00:00, 467.39batch/s, mse=0.358]\n",
      "Epoch 8: 100%|████████████████████████████████████████████| 43/43 [00:00<00:00, 511.90batch/s, mse=0.28]\n",
      "Epoch 9: 100%|███████████████████████████████████████████| 43/43 [00:00<00:00, 488.64batch/s, mse=0.278]\n",
      "Epoch 10: 100%|██████████████████████████████████████████| 43/43 [00:00<00:00, 477.78batch/s, mse=0.322]\n",
      "Epoch 11: 100%|██████████████████████████████████████████| 43/43 [00:00<00:00, 477.78batch/s, mse=0.329]\n",
      "Epoch 12: 100%|██████████████████████████████████████████| 43/43 [00:00<00:00, 477.78batch/s, mse=0.306]\n",
      "Epoch 13: 100%|██████████████████████████████████████████| 43/43 [00:00<00:00, 483.14batch/s, mse=0.342]\n",
      "Epoch 14: 100%|██████████████████████████████████████████| 43/43 [00:00<00:00, 518.07batch/s, mse=0.322]\n",
      "Epoch 15: 100%|██████████████████████████████████████████| 43/43 [00:00<00:00, 500.00batch/s, mse=0.331]\n",
      "Epoch 16: 100%|██████████████████████████████████████████| 43/43 [00:00<00:00, 500.00batch/s, mse=0.218]\n",
      "Epoch 17: 100%|██████████████████████████████████████████| 43/43 [00:00<00:00, 494.25batch/s, mse=0.354]\n",
      "Epoch 18: 100%|██████████████████████████████████████████| 43/43 [00:00<00:00, 462.37batch/s, mse=0.206]\n",
      "Epoch 19: 100%|██████████████████████████████████████████| 43/43 [00:00<00:00, 544.30batch/s, mse=0.352]\n"
     ]
    },
    {
     "name": "stdout",
     "output_type": "stream",
     "text": [
      "MSE: 4.22\n",
      "RMSE: 2.05\n"
     ]
    },
    {
     "data": {
      "image/png": "[encoded data removed]",
      "text/plain": [
       "<Figure size 640x480 with 1 Axes>"
      ]
     },
     "metadata": {},
     "output_type": "display_data"
    }
   ],
   "source": [
    "n_epochs = 20   # number of epochs to run\n",
    "batch_size = 1500  # size of each batch\n",
    "batch_start = torch.arange(0, len(X_train), batch_size)\n",
    "\n",
    "best_mse = np.inf   # init to infinity\n",
    "best_weights = None\n",
    "history = []\n",
    " \n",
    "# training loop\n",
    "for epoch in range(n_epochs):\n",
    "    model.train()\n",
    "    with tqdm(batch_start, unit=\"batch\", mininterval=0, disable=False) as bar:\n",
    "        bar.set_description(f\"Epoch {epoch}\")\n",
    "        for start in bar:\n",
    "            # take a batch\n",
    "            X_batch = X_train[start:start+batch_size]\n",
    "            y_batch = y_train[start:start+batch_size]\n",
    "            # forward pass\n",
    "            y_pred = model(X_batch.to(device))\n",
    "            loss = loss_fn(y_pred.to(device), y_batch.to(device))\n",
    "            # backward pass\n",
    "            optimizer.zero_grad()\n",
    "            loss.backward()\n",
    "            # update weights\n",
    "            optimizer.step()\n",
    "            # print progress\n",
    "            bar.set_postfix(mse=float(loss))\n",
    "    # evaluate accuracy at end of each epoch\n",
    "    model.eval()\n",
    "    y_pred = model(X_test.to(device))\n",
    "    mse = loss_fn(y_pred.to(device), y_test.to(device))\n",
    "    mse = float(mse)\n",
    "    history.append(mse)\n",
    "    if mse < best_mse:\n",
    "        best_mse = mse\n",
    "        best_weights = copy.deepcopy(model.state_dict())\n",
    " \n",
    "# restore model and return best accuracy\n",
    "model.load_state_dict(best_weights)\n",
    "print(\"MSE: %.2f\" % best_mse)\n",
    "print(\"RMSE: %.2f\" % np.sqrt(best_mse))\n",
    "plt.plot(history)\n",
    "plt.show()"
   ]
  },
  {
   "cell_type": "code",
   "execution_count": 5,
   "id": "e3933194-ee32-4d87-b657-f5ef9c04b6e7",
   "metadata": {},
   "outputs": [],
   "source": [
    "def get_score_by_parameter(predict_field, X, Y):\n",
    "    df = pd.merge(X, Y, on=[\"engine_id\", \"flight_datetime\", \"flight_phase\"])\n",
    "    df = df[df[predict_field].notna()]\n",
    "    df = df.fillna(-100)\n",
    "    X = df.drop(columns=[predict_field])\n",
    "    X = X.drop(columns=[\n",
    "        \"engine_id\", \"aircraft_id\", \"flight_datetime\",\n",
    "        \"flight_phase\", \"engine_family\", \"engine_type\", \"manufacturer\",\n",
    "        \"aircraft_family\", \"aircraft_type\", \"aircraft_grp\", \"ac_manufacturer\"])\n",
    "    y = df[predict_field]\n",
    "    scaler = StandardScaler()\n",
    "    scaler.fit(X)\n",
    "    X = scaler.transform(X)\n",
    "    \n",
    "    X_train, X_test, y_train, y_test = train_test_split(X, y, test_size=0.33, random_state=42)\n",
    "    \n",
    "    model = CatBoostRegressor(iterations=100, verbose=False)\n",
    "    model.fit(X_train, y_train)\n",
    "    catboost_predicted = model.predict(X_test)\n",
    "    catboost_score = mean_squared_error(y_test, catboost_predicted, squared=False)\n",
    "    catboost_predicted = model.predict(X)\n",
    "    return catboost_score"
   ]
  },
  {
   "cell_type": "code",
   "execution_count": 15,
   "id": "86ea6da6-2b46-47c3-9098-4f06c53dda68",
   "metadata": {},
   "outputs": [
    {
     "name": "stderr",
     "output_type": "stream",
     "text": [
      "  3%|██▊                                                                                | 1/30 [00:01<00:56,  1.95s/it]"
     ]
    },
    {
     "name": "stdout",
     "output_type": "stream",
     "text": [
      "0.005946267947807024\n"
     ]
    },
    {
     "name": "stderr",
     "output_type": "stream",
     "text": [
      "  7%|█████▌                                                                             | 2/30 [00:03<00:44,  1.60s/it]"
     ]
    },
    {
     "name": "stdout",
     "output_type": "stream",
     "text": [
      "2.3935944440289703\n"
     ]
    },
    {
     "name": "stderr",
     "output_type": "stream",
     "text": [
      " 10%|████████▎                                                                          | 3/30 [00:03<00:31,  1.18s/it]"
     ]
    },
    {
     "name": "stdout",
     "output_type": "stream",
     "text": [
      "0.195889760551806\n"
     ]
    },
    {
     "name": "stderr",
     "output_type": "stream",
     "text": [
      " 13%|███████████                                                                        | 4/30 [00:04<00:25,  1.01it/s]"
     ]
    },
    {
     "name": "stdout",
     "output_type": "stream",
     "text": [
      "0.1329126821253134\n"
     ]
    },
    {
     "name": "stderr",
     "output_type": "stream",
     "text": [
      " 17%|█████████████▊                                                                     | 5/30 [00:05<00:22,  1.09it/s]"
     ]
    },
    {
     "name": "stdout",
     "output_type": "stream",
     "text": [
      "0.059973910172477475\n"
     ]
    },
    {
     "name": "stderr",
     "output_type": "stream",
     "text": [
      " 20%|████████████████▌                                                                  | 6/30 [00:06<00:22,  1.05it/s]"
     ]
    },
    {
     "name": "stdout",
     "output_type": "stream",
     "text": [
      "0.10359699864487969\n"
     ]
    },
    {
     "name": "stderr",
     "output_type": "stream",
     "text": [
      " 23%|███████████████████▎                                                               | 7/30 [00:07<00:25,  1.09s/it]"
     ]
    },
    {
     "name": "stdout",
     "output_type": "stream",
     "text": [
      "1.8250299555854523\n"
     ]
    },
    {
     "name": "stderr",
     "output_type": "stream",
     "text": [
      " 27%|██████████████████████▏                                                            | 8/30 [00:09<00:28,  1.28s/it]"
     ]
    },
    {
     "name": "stdout",
     "output_type": "stream",
     "text": [
      "1.0137242526569923\n"
     ]
    },
    {
     "name": "stderr",
     "output_type": "stream",
     "text": [
      " 30%|████████████████████████▉                                                          | 9/30 [00:10<00:25,  1.21s/it]"
     ]
    },
    {
     "name": "stdout",
     "output_type": "stream",
     "text": [
      "0.20597332723061373\n"
     ]
    },
    {
     "name": "stderr",
     "output_type": "stream",
     "text": [
      " 33%|███████████████████████████▎                                                      | 10/30 [00:11<00:23,  1.15s/it]"
     ]
    },
    {
     "name": "stdout",
     "output_type": "stream",
     "text": [
      "1.120428839292808\n"
     ]
    },
    {
     "name": "stderr",
     "output_type": "stream",
     "text": [
      " 37%|██████████████████████████████                                                    | 11/30 [00:12<00:21,  1.11s/it]"
     ]
    },
    {
     "name": "stdout",
     "output_type": "stream",
     "text": [
      "0.02595125670094445\n"
     ]
    },
    {
     "name": "stderr",
     "output_type": "stream",
     "text": [
      " 40%|████████████████████████████████▊                                                 | 12/30 [00:14<00:21,  1.19s/it]"
     ]
    },
    {
     "name": "stdout",
     "output_type": "stream",
     "text": [
      "0.052175962572176625\n"
     ]
    },
    {
     "name": "stderr",
     "output_type": "stream",
     "text": [
      " 43%|███████████████████████████████████▌                                              | 13/30 [00:15<00:20,  1.23s/it]"
     ]
    },
    {
     "name": "stdout",
     "output_type": "stream",
     "text": [
      "0.5012068355836108\n"
     ]
    },
    {
     "name": "stderr",
     "output_type": "stream",
     "text": [
      " 47%|██████████████████████████████████████▎                                           | 14/30 [00:17<00:23,  1.46s/it]"
     ]
    },
    {
     "name": "stdout",
     "output_type": "stream",
     "text": [
      "0.1398437184224504\n"
     ]
    },
    {
     "name": "stderr",
     "output_type": "stream",
     "text": [
      " 50%|█████████████████████████████████████████                                         | 15/30 [00:19<00:22,  1.53s/it]"
     ]
    },
    {
     "name": "stdout",
     "output_type": "stream",
     "text": [
      "0.10249780204536779\n"
     ]
    },
    {
     "name": "stderr",
     "output_type": "stream",
     "text": [
      " 53%|███████████████████████████████████████████▋                                      | 16/30 [00:19<00:17,  1.28s/it]"
     ]
    },
    {
     "name": "stdout",
     "output_type": "stream",
     "text": [
      "0.11145537344669908\n"
     ]
    },
    {
     "name": "stderr",
     "output_type": "stream",
     "text": [
      " 57%|██████████████████████████████████████████████▍                                   | 17/30 [00:20<00:14,  1.11s/it]"
     ]
    },
    {
     "name": "stdout",
     "output_type": "stream",
     "text": [
      "0.24959327035621837\n"
     ]
    },
    {
     "name": "stderr",
     "output_type": "stream",
     "text": [
      " 60%|█████████████████████████████████████████████████▏                                | 18/30 [00:22<00:16,  1.38s/it]"
     ]
    },
    {
     "name": "stdout",
     "output_type": "stream",
     "text": [
      "0.1662457976114745\n"
     ]
    },
    {
     "name": "stderr",
     "output_type": "stream",
     "text": [
      " 63%|███████████████████████████████████████████████████▉                              | 19/30 [00:23<00:15,  1.37s/it]"
     ]
    },
    {
     "name": "stdout",
     "output_type": "stream",
     "text": [
      "0.06252526060188085\n"
     ]
    },
    {
     "name": "stderr",
     "output_type": "stream",
     "text": [
      " 67%|██████████████████████████████████████████████████████▋                           | 20/30 [00:25<00:14,  1.45s/it]"
     ]
    },
    {
     "name": "stdout",
     "output_type": "stream",
     "text": [
      "0.3439156205825444\n"
     ]
    },
    {
     "name": "stderr",
     "output_type": "stream",
     "text": [
      " 70%|█████████████████████████████████████████████████████████▍                        | 21/30 [00:26<00:11,  1.33s/it]"
     ]
    },
    {
     "name": "stdout",
     "output_type": "stream",
     "text": [
      "0.05978245906041602\n"
     ]
    },
    {
     "name": "stderr",
     "output_type": "stream",
     "text": [
      " 77%|██████████████████████████████████████████████████████████████▊                   | 23/30 [00:27<00:06,  1.01it/s]"
     ]
    },
    {
     "name": "stdout",
     "output_type": "stream",
     "text": [
      "0.5453657163014298\n"
     ]
    },
    {
     "name": "stderr",
     "output_type": "stream",
     "text": [
      " 80%|█████████████████████████████████████████████████████████████████▌                | 24/30 [00:29<00:06,  1.10s/it]"
     ]
    },
    {
     "name": "stdout",
     "output_type": "stream",
     "text": [
      "0.0036691489404235608\n"
     ]
    },
    {
     "name": "stderr",
     "output_type": "stream",
     "text": [
      " 83%|████████████████████████████████████████████████████████████████████▎             | 25/30 [00:30<00:05,  1.18s/it]"
     ]
    },
    {
     "name": "stdout",
     "output_type": "stream",
     "text": [
      "13.95641499813017\n"
     ]
    },
    {
     "name": "stderr",
     "output_type": "stream",
     "text": [
      " 87%|███████████████████████████████████████████████████████████████████████           | 26/30 [00:32<00:05,  1.43s/it]"
     ]
    },
    {
     "name": "stdout",
     "output_type": "stream",
     "text": [
      "0.635317381630894\n"
     ]
    },
    {
     "name": "stderr",
     "output_type": "stream",
     "text": [
      " 90%|█████████████████████████████████████████████████████████████████████████▊        | 27/30 [00:34<00:04,  1.62s/it]"
     ]
    },
    {
     "name": "stdout",
     "output_type": "stream",
     "text": [
      "6.591105241332177\n"
     ]
    },
    {
     "name": "stderr",
     "output_type": "stream",
     "text": [
      " 93%|████████████████████████████████████████████████████████████████████████████▌     | 28/30 [00:35<00:02,  1.33s/it]"
     ]
    },
    {
     "name": "stdout",
     "output_type": "stream",
     "text": [
      "0.09377664078794708\n"
     ]
    },
    {
     "name": "stderr",
     "output_type": "stream",
     "text": [
      " 97%|███████████████████████████████████████████████████████████████████████████████▎  | 29/30 [00:35<00:01,  1.16s/it]"
     ]
    },
    {
     "name": "stdout",
     "output_type": "stream",
     "text": [
      "2.2286868068571786\n"
     ]
    },
    {
     "name": "stderr",
     "output_type": "stream",
     "text": [
      "100%|██████████████████████████████████████████████████████████████████████████████████| 30/30 [00:37<00:00,  1.25s/it]"
     ]
    },
    {
     "name": "stdout",
     "output_type": "stream",
     "text": [
      "128.1615746408957\n"
     ]
    },
    {
     "name": "stderr",
     "output_type": "stream",
     "text": [
      "\n"
     ]
    }
   ],
   "source": [
    "scores = pd.DataFrame(columns=[\"parameter\", \"rmse\", \".0\", \".1\", \".5\", \".9\", \"1\"])\n",
    "output_parameters = Y.columns.drop(['flight_datetime', 'flight_phase', 'engine_id'])\n",
    "\n",
    "for param in tqdm(output_parameters):\n",
    "    try:\n",
    "        score = get_score_by_parameter(param, X, Y)\n",
    "        print(score)\n",
    "        qua = df[param].quantile([.0, .1, .5, .9, 1])\n",
    "        qua = list(qua)\n",
    "        scores.loc[len(scores)] = [param, score] + qua\n",
    "    except:\n",
    "        continue"
   ]
  },
  {
   "cell_type": "code",
   "execution_count": 10,
   "id": "341095f4-c7c7-418e-acef-bf8e5eaba52c",
   "metadata": {},
   "outputs": [
    {
     "data": {
      "text/html": [
       "<div>\n",
       "<style scoped>\n",
       "    .dataframe tbody tr th:only-of-type {\n",
       "        vertical-align: middle;\n",
       "    }\n",
       "\n",
       "    .dataframe tbody tr th {\n",
       "        vertical-align: top;\n",
       "    }\n",
       "\n",
       "    .dataframe thead th {\n",
       "        text-align: right;\n",
       "    }\n",
       "</style>\n",
       "<table border=\"1\" class=\"dataframe\">\n",
       "  <thead>\n",
       "    <tr style=\"text-align: right;\">\n",
       "      <th></th>\n",
       "      <th>parameter</th>\n",
       "      <th>rmse</th>\n",
       "      <th>.0</th>\n",
       "      <th>.1</th>\n",
       "      <th>.5</th>\n",
       "      <th>.9</th>\n",
       "      <th>1</th>\n",
       "    </tr>\n",
       "  </thead>\n",
       "  <tbody>\n",
       "  </tbody>\n",
       "</table>\n",
       "</div>"
      ],
      "text/plain": [
       "Empty DataFrame\n",
       "Columns: [parameter, rmse, .0, .1, .5, .9, 1]\n",
       "Index: []"
      ]
     },
     "execution_count": 14,
     "metadata": {},
     "output_type": "execute_result"
    }
   ],
   "source": [
    "scores"
   ]
  }
 ],
 "metadata": {
  "kernelspec": {
   "display_name": "Python (torch)",
   "language": "python",
   "name": "torch"
  },
  "language_info": {
   "codemirror_mode": {
    "name": "ipython",
    "version": 3
   },
   "file_extension": ".py",
   "mimetype": "text/x-python",
   "name": "python",
   "nbconvert_exporter": "python",
   "pygments_lexer": "ipython3",
   "version": "3.8.16"
  }
 },
 "nbformat": 4,
 "nbformat_minor": 5
}
