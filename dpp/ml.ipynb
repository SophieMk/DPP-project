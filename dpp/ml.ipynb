{
 "cells": [
  {
   "cell_type": "code",
   "execution_count": 1,
   "id": "042086a1-c503-4c0c-844c-e8bd04ef3da7",
   "metadata": {},
   "outputs": [
    {
     "name": "stdout",
     "output_type": "stream",
     "text": [
      "Requirement already satisfied: seaborn in c:\\users\\anchi\\miniconda3\\envs\\torch\\lib\\site-packages (0.12.2)\n",
      "Requirement already satisfied: matplotlib!=3.6.1,>=3.1 in c:\\users\\anchi\\miniconda3\\envs\\torch\\lib\\site-packages (from seaborn) (3.7.1)\n",
      "Requirement already satisfied: numpy!=1.24.0,>=1.17 in c:\\users\\anchi\\miniconda3\\envs\\torch\\lib\\site-packages (from seaborn) (1.23.5)\n",
      "Requirement already satisfied: pandas>=0.25 in c:\\users\\anchi\\miniconda3\\envs\\torch\\lib\\site-packages (from seaborn) (1.5.3)\n",
      "Requirement already satisfied: pillow>=6.2.0 in c:\\users\\anchi\\miniconda3\\envs\\torch\\lib\\site-packages (from matplotlib!=3.6.1,>=3.1->seaborn) (9.4.0)\n",
      "Requirement already satisfied: pyparsing>=2.3.1 in c:\\users\\anchi\\miniconda3\\envs\\torch\\lib\\site-packages (from matplotlib!=3.6.1,>=3.1->seaborn) (3.0.9)\n",
      "Requirement already satisfied: contourpy>=1.0.1 in c:\\users\\anchi\\miniconda3\\envs\\torch\\lib\\site-packages (from matplotlib!=3.6.1,>=3.1->seaborn) (1.0.5)\n",
      "Requirement already satisfied: fonttools>=4.22.0 in c:\\users\\anchi\\miniconda3\\envs\\torch\\lib\\site-packages (from matplotlib!=3.6.1,>=3.1->seaborn) (4.25.0)\n",
      "Requirement already satisfied: packaging>=20.0 in c:\\users\\anchi\\miniconda3\\envs\\torch\\lib\\site-packages (from matplotlib!=3.6.1,>=3.1->seaborn) (23.0)\n",
      "Requirement already satisfied: cycler>=0.10 in c:\\users\\anchi\\miniconda3\\envs\\torch\\lib\\site-packages (from matplotlib!=3.6.1,>=3.1->seaborn) (0.11.0)\n",
      "Requirement already satisfied: python-dateutil>=2.7 in c:\\users\\anchi\\miniconda3\\envs\\torch\\lib\\site-packages (from matplotlib!=3.6.1,>=3.1->seaborn) (2.8.2)\n",
      "Requirement already satisfied: importlib-resources>=3.2.0 in c:\\users\\anchi\\miniconda3\\envs\\torch\\lib\\site-packages (from matplotlib!=3.6.1,>=3.1->seaborn) (5.2.0)\n",
      "Requirement already satisfied: kiwisolver>=1.0.1 in c:\\users\\anchi\\miniconda3\\envs\\torch\\lib\\site-packages (from matplotlib!=3.6.1,>=3.1->seaborn) (1.4.4)\n",
      "Requirement already satisfied: pytz>=2020.1 in c:\\users\\anchi\\miniconda3\\envs\\torch\\lib\\site-packages (from pandas>=0.25->seaborn) (2022.7)\n",
      "Requirement already satisfied: zipp>=3.1.0 in c:\\users\\anchi\\miniconda3\\envs\\torch\\lib\\site-packages (from importlib-resources>=3.2.0->matplotlib!=3.6.1,>=3.1->seaborn) (3.11.0)\n",
      "Requirement already satisfied: six>=1.5 in c:\\users\\anchi\\miniconda3\\envs\\torch\\lib\\site-packages (from python-dateutil>=2.7->matplotlib!=3.6.1,>=3.1->seaborn) (1.16.0)\n",
      "Requirement already satisfied: xgboost in c:\\users\\anchi\\miniconda3\\envs\\torch\\lib\\site-packages (1.7.5)\n",
      "Requirement already satisfied: scipy in c:\\users\\anchi\\miniconda3\\envs\\torch\\lib\\site-packages (from xgboost) (1.9.1)\n",
      "Requirement already satisfied: numpy in c:\\users\\anchi\\miniconda3\\envs\\torch\\lib\\site-packages (from xgboost) (1.23.5)\n"
     ]
    }
   ],
   "source": [
    "!pip install seaborn\n",
    "!pip install xgboost"
   ]
  },
  {
   "cell_type": "code",
   "execution_count": 2,
   "id": "f135f24d-4a0c-4bd3-9a86-d2d537e8815f",
   "metadata": {},
   "outputs": [],
   "source": [
    "import pandas as pd\n",
    "import numpy as np\n",
    "import seaborn as sns\n",
    "import matplotlib.pyplot as plt\n",
    "from tqdm import tqdm\n",
    "from sklearn.metrics import mean_squared_error, mean_absolute_error, r2_score, accuracy_score\n",
    "from sklearn.preprocessing import StandardScaler\n",
    "from sklearn.linear_model import Lasso, Ridge, LinearRegression, ARDRegression\n",
    "from sklearn.ensemble import RandomForestRegressor\n",
    "from sklearn.model_selection import train_test_split\n",
    "from catboost import CatBoostRegressor\n",
    "from xgboost import XGBRegressor\n",
    "import tensorflow as tf\n",
    "import keras\n",
    "from keras import backend as K"
   ]
  },
  {
   "cell_type": "markdown",
   "id": "f50d0f48-6c4e-4e4b-b7a8-6684e378fc3c",
   "metadata": {},
   "source": [
    "# Загрузка датасета"
   ]
  },
  {
   "cell_type": "markdown",
   "id": "d957204e-d546-48bf-8687-ef18a50d2f69",
   "metadata": {},
   "source": [
    "Прочитаем датасет"
   ]
  },
  {
   "cell_type": "code",
   "execution_count": 3,
   "id": "5a9ab1fb-2da8-40b9-af11-b75dc4250639",
   "metadata": {},
   "outputs": [],
   "source": [
    "X = pd.read_csv(\"./X.csv\")\n",
    "Y = pd.read_csv(\"./y.csv\")"
   ]
  },
  {
   "cell_type": "markdown",
   "id": "997fdf31-5729-4ec1-b6b0-994b9754b785",
   "metadata": {},
   "source": [
    "Разделим на тестовую и валидационную выборку"
   ]
  },
  {
   "cell_type": "code",
   "execution_count": 4,
   "id": "f98b397a-5057-42f6-83ab-b12de51d86f0",
   "metadata": {},
   "outputs": [],
   "source": [
    "X_train, X_test, y_train, y_test = train_test_split(X, Y, test_size=0.33, shuffle=True, random_state=42)"
   ]
  },
  {
   "cell_type": "code",
   "execution_count": 5,
   "id": "f4ea8f7f-f678-4805-bd89-71f9d8a69ad9",
   "metadata": {},
   "outputs": [
    {
     "data": {
      "text/html": [
       "<div>\n",
       "<style scoped>\n",
       "    .dataframe tbody tr th:only-of-type {\n",
       "        vertical-align: middle;\n",
       "    }\n",
       "\n",
       "    .dataframe tbody tr th {\n",
       "        vertical-align: top;\n",
       "    }\n",
       "\n",
       "    .dataframe thead th {\n",
       "        text-align: right;\n",
       "    }\n",
       "</style>\n",
       "<table border=\"1\" class=\"dataframe\">\n",
       "  <thead>\n",
       "    <tr style=\"text-align: right;\">\n",
       "      <th></th>\n",
       "      <th>engine_id</th>\n",
       "      <th>aircraft_id</th>\n",
       "      <th>flight_datetime</th>\n",
       "      <th>flight_phase</th>\n",
       "      <th>engine_position</th>\n",
       "      <th>n1_modifier</th>\n",
       "      <th>number_blades</th>\n",
       "      <th>engine_family</th>\n",
       "      <th>engine_type</th>\n",
       "      <th>manufacturer</th>\n",
       "      <th>...</th>\n",
       "      <th>ZT1A</th>\n",
       "      <th>ZVIAS</th>\n",
       "      <th>ZWBP1</th>\n",
       "      <th>ZWBP1_8E</th>\n",
       "      <th>ZWBP2</th>\n",
       "      <th>ZWBP2_8E</th>\n",
       "      <th>ZXM</th>\n",
       "      <th>IBE</th>\n",
       "      <th>IBP</th>\n",
       "      <th>IAIE</th>\n",
       "    </tr>\n",
       "  </thead>\n",
       "  <tbody>\n",
       "    <tr>\n",
       "      <th>53491</th>\n",
       "      <td>f0265f39ceb31d05b5ba935c2682b3281c13efa6f38b84...</td>\n",
       "      <td>557fe9494c53f97663a1dc92ae8a1d4b4a95e4c3fe76c0...</td>\n",
       "      <td>2022-07-27 01:39:50</td>\n",
       "      <td>CRUISE</td>\n",
       "      <td>2</td>\n",
       "      <td>3.0</td>\n",
       "      <td>36.0</td>\n",
       "      <td>CFM56-5B</td>\n",
       "      <td>CFM56-5B3</td>\n",
       "      <td>CFM INTERNATIONAL</td>\n",
       "      <td>...</td>\n",
       "      <td>-13.900000</td>\n",
       "      <td>NaN</td>\n",
       "      <td>1.124356</td>\n",
       "      <td>NaN</td>\n",
       "      <td>1.366864</td>\n",
       "      <td>NaN</td>\n",
       "      <td>0.7750</td>\n",
       "      <td>1.0</td>\n",
       "      <td>NaN</td>\n",
       "      <td>NaN</td>\n",
       "    </tr>\n",
       "    <tr>\n",
       "      <th>59691</th>\n",
       "      <td>8c97da4bc8feab053617a7323564a5bd3ea7a4c12d2ec9...</td>\n",
       "      <td>a3ee6d52224435498a06cbd1b6fbddb98d4c0ae15f52ad...</td>\n",
       "      <td>2022-07-11 22:09:36</td>\n",
       "      <td>TAKEOFF</td>\n",
       "      <td>1</td>\n",
       "      <td>0.0</td>\n",
       "      <td>28.0</td>\n",
       "      <td>CF34-8E</td>\n",
       "      <td>CF34-8E5</td>\n",
       "      <td>GE AIRCRAFT ENGINES</td>\n",
       "      <td>...</td>\n",
       "      <td>31.799999</td>\n",
       "      <td>163.800003</td>\n",
       "      <td>NaN</td>\n",
       "      <td>45.335899</td>\n",
       "      <td>NaN</td>\n",
       "      <td>47.421799</td>\n",
       "      <td>0.2490</td>\n",
       "      <td>1.0</td>\n",
       "      <td>1.0</td>\n",
       "      <td>0.0</td>\n",
       "    </tr>\n",
       "    <tr>\n",
       "      <th>70768</th>\n",
       "      <td>2de859ab7ad97150d56effc86e5f9cc5349f265903f297...</td>\n",
       "      <td>939c9231d25e2e31a7fef4ee60c025fb8d4bf7a15a904d...</td>\n",
       "      <td>2022-02-25 21:22:23</td>\n",
       "      <td>CRUISE</td>\n",
       "      <td>2</td>\n",
       "      <td>0.0</td>\n",
       "      <td>36.0</td>\n",
       "      <td>CFM56-5B</td>\n",
       "      <td>CFM56-5B3</td>\n",
       "      <td>CFM INTERNATIONAL</td>\n",
       "      <td>...</td>\n",
       "      <td>-31.000000</td>\n",
       "      <td>NaN</td>\n",
       "      <td>1.146402</td>\n",
       "      <td>NaN</td>\n",
       "      <td>1.146402</td>\n",
       "      <td>NaN</td>\n",
       "      <td>0.7740</td>\n",
       "      <td>1.0</td>\n",
       "      <td>NaN</td>\n",
       "      <td>NaN</td>\n",
       "    </tr>\n",
       "    <tr>\n",
       "      <th>71418</th>\n",
       "      <td>315710d12224c70ccae5380b0f979c31516b24e9b2845b...</td>\n",
       "      <td>608880d5e86057641cecff59561c42a6b267accd48f39c...</td>\n",
       "      <td>2022-05-06 12:40:59</td>\n",
       "      <td>TAKEOFF</td>\n",
       "      <td>1</td>\n",
       "      <td>1.0</td>\n",
       "      <td>24.0</td>\n",
       "      <td>CFM56-7</td>\n",
       "      <td>CFM56-7B26</td>\n",
       "      <td>CFM INTERNATIONAL</td>\n",
       "      <td>...</td>\n",
       "      <td>12.750000</td>\n",
       "      <td>NaN</td>\n",
       "      <td>NaN</td>\n",
       "      <td>NaN</td>\n",
       "      <td>NaN</td>\n",
       "      <td>NaN</td>\n",
       "      <td>0.3492</td>\n",
       "      <td>1.0</td>\n",
       "      <td>1.0</td>\n",
       "      <td>0.0</td>\n",
       "    </tr>\n",
       "    <tr>\n",
       "      <th>31719</th>\n",
       "      <td>0bdbb6fafb9f58179ffce03597371ca6084dcb1f4dfe44...</td>\n",
       "      <td>8fd689ed3c47d7dea87039788ac47a91e691d6d0339e20...</td>\n",
       "      <td>2022-03-15 10:40:11</td>\n",
       "      <td>CRUISE</td>\n",
       "      <td>1</td>\n",
       "      <td>0.0</td>\n",
       "      <td>36.0</td>\n",
       "      <td>CFM56-5B</td>\n",
       "      <td>CFM56-5B3</td>\n",
       "      <td>CFM INTERNATIONAL</td>\n",
       "      <td>...</td>\n",
       "      <td>-32.799999</td>\n",
       "      <td>NaN</td>\n",
       "      <td>1.146402</td>\n",
       "      <td>NaN</td>\n",
       "      <td>1.146402</td>\n",
       "      <td>NaN</td>\n",
       "      <td>0.7790</td>\n",
       "      <td>1.0</td>\n",
       "      <td>NaN</td>\n",
       "      <td>NaN</td>\n",
       "    </tr>\n",
       "  </tbody>\n",
       "</table>\n",
       "<p>5 rows × 53 columns</p>\n",
       "</div>"
      ],
      "text/plain": [
       "                                               engine_id  \\\n",
       "53491  f0265f39ceb31d05b5ba935c2682b3281c13efa6f38b84...   \n",
       "59691  8c97da4bc8feab053617a7323564a5bd3ea7a4c12d2ec9...   \n",
       "70768  2de859ab7ad97150d56effc86e5f9cc5349f265903f297...   \n",
       "71418  315710d12224c70ccae5380b0f979c31516b24e9b2845b...   \n",
       "31719  0bdbb6fafb9f58179ffce03597371ca6084dcb1f4dfe44...   \n",
       "\n",
       "                                             aircraft_id      flight_datetime  \\\n",
       "53491  557fe9494c53f97663a1dc92ae8a1d4b4a95e4c3fe76c0...  2022-07-27 01:39:50   \n",
       "59691  a3ee6d52224435498a06cbd1b6fbddb98d4c0ae15f52ad...  2022-07-11 22:09:36   \n",
       "70768  939c9231d25e2e31a7fef4ee60c025fb8d4bf7a15a904d...  2022-02-25 21:22:23   \n",
       "71418  608880d5e86057641cecff59561c42a6b267accd48f39c...  2022-05-06 12:40:59   \n",
       "31719  8fd689ed3c47d7dea87039788ac47a91e691d6d0339e20...  2022-03-15 10:40:11   \n",
       "\n",
       "      flight_phase  engine_position  n1_modifier  number_blades engine_family  \\\n",
       "53491       CRUISE                2          3.0           36.0      CFM56-5B   \n",
       "59691      TAKEOFF                1          0.0           28.0       CF34-8E   \n",
       "70768       CRUISE                2          0.0           36.0      CFM56-5B   \n",
       "71418      TAKEOFF                1          1.0           24.0       CFM56-7   \n",
       "31719       CRUISE                1          0.0           36.0      CFM56-5B   \n",
       "\n",
       "      engine_type         manufacturer  ...       ZT1A       ZVIAS     ZWBP1  \\\n",
       "53491   CFM56-5B3    CFM INTERNATIONAL  ... -13.900000         NaN  1.124356   \n",
       "59691    CF34-8E5  GE AIRCRAFT ENGINES  ...  31.799999  163.800003       NaN   \n",
       "70768   CFM56-5B3    CFM INTERNATIONAL  ... -31.000000         NaN  1.146402   \n",
       "71418  CFM56-7B26    CFM INTERNATIONAL  ...  12.750000         NaN       NaN   \n",
       "31719   CFM56-5B3    CFM INTERNATIONAL  ... -32.799999         NaN  1.146402   \n",
       "\n",
       "        ZWBP1_8E     ZWBP2   ZWBP2_8E     ZXM  IBE  IBP  IAIE  \n",
       "53491        NaN  1.366864        NaN  0.7750  1.0  NaN   NaN  \n",
       "59691  45.335899       NaN  47.421799  0.2490  1.0  1.0   0.0  \n",
       "70768        NaN  1.146402        NaN  0.7740  1.0  NaN   NaN  \n",
       "71418        NaN       NaN        NaN  0.3492  1.0  1.0   0.0  \n",
       "31719        NaN  1.146402        NaN  0.7790  1.0  NaN   NaN  \n",
       "\n",
       "[5 rows x 53 columns]"
      ]
     },
     "execution_count": 5,
     "metadata": {},
     "output_type": "execute_result"
    }
   ],
   "source": [
    "X_train.head()"
   ]
  },
  {
   "cell_type": "code",
   "execution_count": 6,
   "id": "6117a838-5532-4cfe-ae9a-46d0d057d36c",
   "metadata": {},
   "outputs": [
    {
     "data": {
      "text/html": [
       "<div>\n",
       "<style scoped>\n",
       "    .dataframe tbody tr th:only-of-type {\n",
       "        vertical-align: middle;\n",
       "    }\n",
       "\n",
       "    .dataframe tbody tr th {\n",
       "        vertical-align: top;\n",
       "    }\n",
       "\n",
       "    .dataframe thead th {\n",
       "        text-align: right;\n",
       "    }\n",
       "</style>\n",
       "<table border=\"1\" class=\"dataframe\">\n",
       "  <thead>\n",
       "    <tr style=\"text-align: right;\">\n",
       "      <th></th>\n",
       "      <th>flight_datetime</th>\n",
       "      <th>flight_phase</th>\n",
       "      <th>engine_id</th>\n",
       "      <th>BRAT</th>\n",
       "      <th>DEGT</th>\n",
       "      <th>DELFN</th>\n",
       "      <th>DELN1</th>\n",
       "      <th>DELVSV</th>\n",
       "      <th>DPOIL</th>\n",
       "      <th>EGTC</th>\n",
       "      <th>...</th>\n",
       "      <th>SLOATL_D</th>\n",
       "      <th>VSVNOM</th>\n",
       "      <th>WBE</th>\n",
       "      <th>WBI</th>\n",
       "      <th>WFMP</th>\n",
       "      <th>ZPCN25_D</th>\n",
       "      <th>ZT49_D</th>\n",
       "      <th>ZTLA_D</th>\n",
       "      <th>ZTNAC_D</th>\n",
       "      <th>ZWF36_D</th>\n",
       "    </tr>\n",
       "  </thead>\n",
       "  <tbody>\n",
       "    <tr>\n",
       "      <th>53491</th>\n",
       "      <td>2022-07-27 01:39:50</td>\n",
       "      <td>CRUISE</td>\n",
       "      <td>f0265f39ceb31d05b5ba935c2682b3281c13efa6f38b84...</td>\n",
       "      <td>1.035500</td>\n",
       "      <td>-15.908203</td>\n",
       "      <td>NaN</td>\n",
       "      <td>NaN</td>\n",
       "      <td>1.9</td>\n",
       "      <td>-22.962318</td>\n",
       "      <td>695.408203</td>\n",
       "      <td>...</td>\n",
       "      <td>NaN</td>\n",
       "      <td>0.0</td>\n",
       "      <td>1.36686</td>\n",
       "      <td>0.035500</td>\n",
       "      <td>3306.42651</td>\n",
       "      <td>0.150002</td>\n",
       "      <td>-6.250000</td>\n",
       "      <td>NaN</td>\n",
       "      <td>6.5</td>\n",
       "      <td>34.171631</td>\n",
       "    </tr>\n",
       "    <tr>\n",
       "      <th>59691</th>\n",
       "      <td>2022-07-11 22:09:36</td>\n",
       "      <td>TAKEOFF</td>\n",
       "      <td>8c97da4bc8feab053617a7323564a5bd3ea7a4c12d2ec9...</td>\n",
       "      <td>1.000000</td>\n",
       "      <td>NaN</td>\n",
       "      <td>NaN</td>\n",
       "      <td>NaN</td>\n",
       "      <td>NaN</td>\n",
       "      <td>NaN</td>\n",
       "      <td>NaN</td>\n",
       "      <td>...</td>\n",
       "      <td>4.413731</td>\n",
       "      <td>NaN</td>\n",
       "      <td>NaN</td>\n",
       "      <td>NaN</td>\n",
       "      <td>NaN</td>\n",
       "      <td>-0.273445</td>\n",
       "      <td>-15.687500</td>\n",
       "      <td>NaN</td>\n",
       "      <td>NaN</td>\n",
       "      <td>0.000000</td>\n",
       "    </tr>\n",
       "    <tr>\n",
       "      <th>70768</th>\n",
       "      <td>2022-02-25 21:22:23</td>\n",
       "      <td>CRUISE</td>\n",
       "      <td>2de859ab7ad97150d56effc86e5f9cc5349f265903f297...</td>\n",
       "      <td>0.868485</td>\n",
       "      <td>-13.558105</td>\n",
       "      <td>NaN</td>\n",
       "      <td>NaN</td>\n",
       "      <td>2.6</td>\n",
       "      <td>-20.914490</td>\n",
       "      <td>609.658081</td>\n",
       "      <td>...</td>\n",
       "      <td>NaN</td>\n",
       "      <td>0.0</td>\n",
       "      <td>1.14640</td>\n",
       "      <td>-0.131515</td>\n",
       "      <td>3079.24902</td>\n",
       "      <td>-0.049995</td>\n",
       "      <td>-4.400024</td>\n",
       "      <td>NaN</td>\n",
       "      <td>-8.0</td>\n",
       "      <td>-6.613770</td>\n",
       "    </tr>\n",
       "    <tr>\n",
       "      <th>71418</th>\n",
       "      <td>2022-05-06 12:40:59</td>\n",
       "      <td>TAKEOFF</td>\n",
       "      <td>315710d12224c70ccae5380b0f979c31516b24e9b2845b...</td>\n",
       "      <td>1.000000</td>\n",
       "      <td>NaN</td>\n",
       "      <td>15.013059</td>\n",
       "      <td>5.515953</td>\n",
       "      <td>NaN</td>\n",
       "      <td>NaN</td>\n",
       "      <td>NaN</td>\n",
       "      <td>...</td>\n",
       "      <td>-0.861954</td>\n",
       "      <td>NaN</td>\n",
       "      <td>NaN</td>\n",
       "      <td>NaN</td>\n",
       "      <td>NaN</td>\n",
       "      <td>-0.125000</td>\n",
       "      <td>2.000000</td>\n",
       "      <td>NaN</td>\n",
       "      <td>NaN</td>\n",
       "      <td>NaN</td>\n",
       "    </tr>\n",
       "    <tr>\n",
       "      <th>31719</th>\n",
       "      <td>2022-03-15 10:40:11</td>\n",
       "      <td>CRUISE</td>\n",
       "      <td>0bdbb6fafb9f58179ffce03597371ca6084dcb1f4dfe44...</td>\n",
       "      <td>0.868485</td>\n",
       "      <td>-17.825561</td>\n",
       "      <td>NaN</td>\n",
       "      <td>NaN</td>\n",
       "      <td>2.0</td>\n",
       "      <td>-20.624638</td>\n",
       "      <td>636.925537</td>\n",
       "      <td>...</td>\n",
       "      <td>NaN</td>\n",
       "      <td>0.0</td>\n",
       "      <td>1.14640</td>\n",
       "      <td>-0.131515</td>\n",
       "      <td>3288.47119</td>\n",
       "      <td>-0.050003</td>\n",
       "      <td>-3.650024</td>\n",
       "      <td>NaN</td>\n",
       "      <td>-29.0</td>\n",
       "      <td>-56.217773</td>\n",
       "    </tr>\n",
       "  </tbody>\n",
       "</table>\n",
       "<p>5 rows × 33 columns</p>\n",
       "</div>"
      ],
      "text/plain": [
       "           flight_datetime flight_phase  \\\n",
       "53491  2022-07-27 01:39:50       CRUISE   \n",
       "59691  2022-07-11 22:09:36      TAKEOFF   \n",
       "70768  2022-02-25 21:22:23       CRUISE   \n",
       "71418  2022-05-06 12:40:59      TAKEOFF   \n",
       "31719  2022-03-15 10:40:11       CRUISE   \n",
       "\n",
       "                                               engine_id      BRAT       DEGT  \\\n",
       "53491  f0265f39ceb31d05b5ba935c2682b3281c13efa6f38b84...  1.035500 -15.908203   \n",
       "59691  8c97da4bc8feab053617a7323564a5bd3ea7a4c12d2ec9...  1.000000        NaN   \n",
       "70768  2de859ab7ad97150d56effc86e5f9cc5349f265903f297...  0.868485 -13.558105   \n",
       "71418  315710d12224c70ccae5380b0f979c31516b24e9b2845b...  1.000000        NaN   \n",
       "31719  0bdbb6fafb9f58179ffce03597371ca6084dcb1f4dfe44...  0.868485 -17.825561   \n",
       "\n",
       "           DELFN     DELN1  DELVSV      DPOIL        EGTC  ...  SLOATL_D  \\\n",
       "53491        NaN       NaN     1.9 -22.962318  695.408203  ...       NaN   \n",
       "59691        NaN       NaN     NaN        NaN         NaN  ...  4.413731   \n",
       "70768        NaN       NaN     2.6 -20.914490  609.658081  ...       NaN   \n",
       "71418  15.013059  5.515953     NaN        NaN         NaN  ... -0.861954   \n",
       "31719        NaN       NaN     2.0 -20.624638  636.925537  ...       NaN   \n",
       "\n",
       "       VSVNOM      WBE       WBI        WFMP  ZPCN25_D     ZT49_D  ZTLA_D  \\\n",
       "53491     0.0  1.36686  0.035500  3306.42651  0.150002  -6.250000     NaN   \n",
       "59691     NaN      NaN       NaN         NaN -0.273445 -15.687500     NaN   \n",
       "70768     0.0  1.14640 -0.131515  3079.24902 -0.049995  -4.400024     NaN   \n",
       "71418     NaN      NaN       NaN         NaN -0.125000   2.000000     NaN   \n",
       "31719     0.0  1.14640 -0.131515  3288.47119 -0.050003  -3.650024     NaN   \n",
       "\n",
       "       ZTNAC_D    ZWF36_D  \n",
       "53491      6.5  34.171631  \n",
       "59691      NaN   0.000000  \n",
       "70768     -8.0  -6.613770  \n",
       "71418      NaN        NaN  \n",
       "31719    -29.0 -56.217773  \n",
       "\n",
       "[5 rows x 33 columns]"
      ]
     },
     "execution_count": 6,
     "metadata": {},
     "output_type": "execute_result"
    }
   ],
   "source": [
    "y_train.head()"
   ]
  },
  {
   "cell_type": "markdown",
   "id": "413d70b8-54fe-48d5-b1e4-e40dae30930a",
   "metadata": {},
   "source": [
    "# Анализ данных"
   ]
  },
  {
   "cell_type": "markdown",
   "id": "5a6cc418-72ed-43b2-9002-f4b55772d030",
   "metadata": {},
   "source": [
    "## Подготовим вспомогательные функции"
   ]
  },
  {
   "cell_type": "markdown",
   "id": "105af182-cadb-4121-9ce0-396f0e1896f7",
   "metadata": {},
   "source": [
    "Выбросы - это те точки данных, которые значительно отличаются от остальной части набора данных.\n",
    "Часто это аномальные наблюдения, которые искажают распределение данных и возникают из-за непоследовательного ввода данных или ошибочных наблюдений.\n",
    "Чтобы гарантировать, что обученная модель хорошо подходит к допустимому диапазону тестовых входных данных, важно обнаруживать и удалять выбросы."
   ]
  },
  {
   "cell_type": "markdown",
   "id": "189fafc2-af76-4052-9e1d-f32564606129",
   "metadata": {},
   "source": [
    "С помощью следующей функции мы сможем обнаружить выбросы."
   ]
  },
  {
   "cell_type": "code",
   "execution_count": 7,
   "id": "3582a5ad-4ed4-4dfa-b43d-5fb8a7c6e505",
   "metadata": {},
   "outputs": [],
   "source": [
    "def boxPlot(X, columns=None):\n",
    "    if columns is None:\n",
    "        columns = X.columns\n",
    "    for i in columns:\n",
    "        sns.boxplot(x=X[i])\n",
    "        plt.show()\n",
    "    pass"
   ]
  },
  {
   "cell_type": "markdown",
   "id": "b142237d-a3bf-4f1c-b83d-3fa53df0ffc2",
   "metadata": {},
   "source": [
    "## Приступим к анализу"
   ]
  },
  {
   "cell_type": "markdown",
   "id": "366f1384-1515-4a02-88b9-882fb70a2a3f",
   "metadata": {},
   "source": [
    "Посмотрим на размер датасета"
   ]
  },
  {
   "cell_type": "code",
   "execution_count": 8,
   "id": "3956a56b-d4ff-4a2d-98dd-d7e432e25713",
   "metadata": {},
   "outputs": [
    {
     "data": {
      "text/plain": [
       "(64043, 53)"
      ]
     },
     "execution_count": 8,
     "metadata": {},
     "output_type": "execute_result"
    }
   ],
   "source": [
    "X_train.shape"
   ]
  },
  {
   "cell_type": "markdown",
   "id": "7b3c1646-24fe-47ec-8447-882200e252ce",
   "metadata": {},
   "source": [
    "Посмотрим на количество пустых ячеек во входных данных"
   ]
  },
  {
   "cell_type": "code",
   "execution_count": 9,
   "id": "b0f3bca2-32f1-4e52-beee-7a627e38e21c",
   "metadata": {},
   "outputs": [
    {
     "data": {
      "text/plain": [
       "engine_id              0\n",
       "aircraft_id            0\n",
       "flight_datetime        0\n",
       "flight_phase           0\n",
       "engine_position        0\n",
       "n1_modifier            0\n",
       "number_blades          0\n",
       "engine_family          0\n",
       "engine_type            0\n",
       "manufacturer           0\n",
       "ZHPTAC             47970\n",
       "ZLPTAC             47970\n",
       "ZPCN12                 0\n",
       "ZPCN25                 0\n",
       "ZPHSF              46122\n",
       "ZPHSR              46122\n",
       "ZPN12R             39413\n",
       "ZPOIL              13268\n",
       "ZPS3               39414\n",
       "ZT1AB              39413\n",
       "ZT3                39414\n",
       "ZT49                   0\n",
       "ZTAMB              39412\n",
       "ZTLA               39412\n",
       "ZTNAC              47970\n",
       "ZTOIL              13268\n",
       "ZVB1F                  6\n",
       "ZVB1R              34729\n",
       "ZVB2F              34750\n",
       "ZVB2R              10119\n",
       "ZVSV               23341\n",
       "ZWF36              13247\n",
       "IHPSOV             39412\n",
       "aircraft_family        0\n",
       "aircraft_type          0\n",
       "aircraft_grp           0\n",
       "ac_manufacturer        0\n",
       "AGW                24631\n",
       "CAS                34723\n",
       "IAI                38324\n",
       "IVS12              24631\n",
       "SAT                43953\n",
       "ZALT                   0\n",
       "ZT1A                   0\n",
       "ZVIAS              39414\n",
       "ZWBP1              44721\n",
       "ZWBP1_8E           39412\n",
       "ZWBP2              44721\n",
       "ZWBP2_8E           39412\n",
       "ZXM                    0\n",
       "IBE                    0\n",
       "IBP                19322\n",
       "IAIE               26165\n",
       "dtype: int64"
      ]
     },
     "execution_count": 9,
     "metadata": {},
     "output_type": "execute_result"
    }
   ],
   "source": [
    "X_train.isna().sum()"
   ]
  },
  {
   "cell_type": "markdown",
   "id": "73cdf732-c9d4-44de-8ca5-bd5d1f43dfeb",
   "metadata": {},
   "source": [
    "Посмотрим на количество пустых ячеек в выходных данных"
   ]
  },
  {
   "cell_type": "code",
   "execution_count": 10,
   "id": "845d56b6-cee5-47dc-b8f9-88cc999420ba",
   "metadata": {},
   "outputs": [
    {
     "data": {
      "text/plain": [
       "flight_datetime        0\n",
       "flight_phase           0\n",
       "engine_id              0\n",
       "BRAT                 102\n",
       "DEGT               26140\n",
       "DELFN              50855\n",
       "DELN1              50855\n",
       "DELVSV             48084\n",
       "DPOIL              38225\n",
       "EGTC               26140\n",
       "EGTHDM             14549\n",
       "EGTHDM_D           38623\n",
       "GEGTMC             38291\n",
       "GN2MC              38291\n",
       "GPCN25             26140\n",
       "GWFM               26140\n",
       "PCN12                394\n",
       "PCN12I             12809\n",
       "PCN1AR             50819\n",
       "PCN1BR             50796\n",
       "PCN1K                537\n",
       "PCN2C              26140\n",
       "SLOATL             14549\n",
       "SLOATL_D           38623\n",
       "VSVNOM             48084\n",
       "WBE                46096\n",
       "WBI                25720\n",
       "WFMP               26140\n",
       "ZPCN25_D             177\n",
       "ZT49_D               177\n",
       "ZTLA_D             51885\n",
       "ZTNAC_D            47978\n",
       "ZWF36_D            13338\n",
       "dtype: int64"
      ]
     },
     "execution_count": 10,
     "metadata": {},
     "output_type": "execute_result"
    }
   ],
   "source": [
    "y_train.isna().sum()"
   ]
  },
  {
   "cell_type": "markdown",
   "id": "ba8d5703-bb98-43a6-9e0f-0ab02bcfc050",
   "metadata": {},
   "source": [
    "Выделим поля с пропусками"
   ]
  },
  {
   "cell_type": "code",
   "execution_count": 11,
   "id": "e2748d1e-b04f-4804-8277-7e0fe2ce23f2",
   "metadata": {},
   "outputs": [],
   "source": [
    "nullCols = ['ZHPTAC', 'ZLPTAC', 'ZPHSF', 'ZPHSR', 'ZPN12R', 'ZPOIL', 'ZPS3', 'ZT1AB', 'ZT3',\n",
    "       'ZTAMB', 'ZTLA', 'ZTNAC', 'ZTOIL', 'ZVB1F', 'ZVB1R', 'ZVB2F', 'ZVB2R',\n",
    "       'ZVSV', 'ZWF36', 'IHPSOV', 'AGW', 'CAS', 'IAI', 'IVS12', 'SAT',\n",
    "       'ZVIAS', 'ZWBP1', 'ZWBP1_8E', 'ZWBP2', 'ZWBP2_8E',\n",
    "       'IBP', 'IAIE']"
   ]
  },
  {
   "cell_type": "markdown",
   "id": "8c38d20d-0ef7-4f27-bde0-87c65fed57c9",
   "metadata": {},
   "source": [
    "Определим категориальные признаки"
   ]
  },
  {
   "cell_type": "code",
   "execution_count": 12,
   "id": "b549ae3c-b438-47c3-9987-1a83a136a371",
   "metadata": {},
   "outputs": [],
   "source": [
    "catCols = ['n1_modifier', 'flight_phase', 'engine_family', 'engine_type', 'manufacturer', 'aircraft_family', 'aircraft_type', 'aircraft_grp', 'ac_manufacturer']"
   ]
  },
  {
   "cell_type": "markdown",
   "id": "e4974f0d-f43e-4d50-b601-bdd25838ff4c",
   "metadata": {},
   "source": [
    "Подгтовим данные к дальнейшему анализу"
   ]
  },
  {
   "cell_type": "code",
   "execution_count": 13,
   "id": "a135477b-2a6b-4863-9e66-6c3c7b46c198",
   "metadata": {},
   "outputs": [],
   "source": [
    "def correct_X(X: pd.DataFrame):\n",
    "    newX = X.drop(columns=[\"engine_id\", \"aircraft_id\", \"flight_datetime\"])\n",
    "    for nullCol in nullCols:\n",
    "        X.loc[X[X[nullCol].isna()].index, nullCol] = X[nullCol].mean()\n",
    "    # corrected params\n",
    "    theta = newX['ZT1A'] / 288.15\n",
    "    P = newX['ZALT'] / 1013.25\n",
    "    theta[theta <= 0] = 0.001\n",
    "    P[P == 0] = 10\n",
    "    newX['EGTK'] = (newX['ZT49'] + 273.15) / theta\n",
    "    newX['FFK'] = newX['ZWF36'] / (np.sqrt(theta) * P)\n",
    "    newX['N2K'] = newX['ZPCN25'] / np.sqrt(theta)\n",
    "    newX['N1K'] = newX['ZPCN12'] / np.sqrt(theta)\n",
    "    newX = newX.drop(columns=catCols[1:])\n",
    "    newX = pd.get_dummies(newX, columns=[catCols[0]])\n",
    "    return newX"
   ]
  },
  {
   "cell_type": "code",
   "execution_count": 14,
   "id": "80adfd2d-e7be-4c2b-8483-674e306da001",
   "metadata": {},
   "outputs": [],
   "source": [
    "def correct_Y(Y: pd.DataFrame):\n",
    "    categorialFeatures = list(Y.columns[Y.dtypes == object])\n",
    "    newY = Y.drop(columns=categorialFeatures)\n",
    "    return newY"
   ]
  },
  {
   "cell_type": "code",
   "execution_count": 15,
   "id": "2af7d6f8-b54a-4500-bd3e-3ca2184d2b6b",
   "metadata": {},
   "outputs": [],
   "source": [
    "X_train = correct_X(X_train)\n",
    "y_train = correct_Y(y_train)\n",
    "X_test = correct_X(X_test)\n",
    "y_test = correct_Y(y_test)"
   ]
  },
  {
   "cell_type": "code",
   "execution_count": 16,
   "id": "b2304423-7cc1-4954-8d1e-d4c1a5465b64",
   "metadata": {},
   "outputs": [
    {
     "data": {
      "image/png": "[encoded data removed]",
      "text/plain": [
       "<Figure size 640x480 with 1 Axes>"
      ]
     },
     "metadata": {},
     "output_type": "display_data"
    },
    {
     "data": {
      "image/png": "[encoded data removed]",
      "text/plain": [
       "<Figure size 640x480 with 1 Axes>"
      ]
     },
     "metadata": {},
     "output_type": "display_data"
    },
    {
     "data": {
      "image/png": "[encoded data removed]",
      "text/plain": [
       "<Figure size 640x480 with 1 Axes>"
      ]
     },
     "metadata": {},
     "output_type": "display_data"
    },
    {
     "data": {
      "image/png": "[encoded data removed]",
      "text/plain": [
       "<Figure size 640x480 with 1 Axes>"
      ]
     },
     "metadata": {},
     "output_type": "display_data"
    },
    {
     "data": {
      "image/png": "[encoded data removed]",
      "text/plain": [
       "<Figure size 640x480 with 1 Axes>"
      ]
     },
     "metadata": {},
     "output_type": "display_data"
    },
    {
     "data": {
      "image/png": "[encoded data removed]",
      "text/plain": [
       "<Figure size 640x480 with 1 Axes>"
      ]
     },
     "metadata": {},
     "output_type": "display_data"
    },
    {
     "data": {
      "image/png": "[encoded data removed]",
      "text/plain": [
       "<Figure size 640x480 with 1 Axes>"
      ]
     },
     "metadata": {},
     "output_type": "display_data"
    },
    {
     "data": {
      "image/png": "[encoded data removed]",
      "text/plain": [
       "<Figure size 640x480 with 1 Axes>"
      ]
     },
     "metadata": {},
     "output_type": "display_data"
    },
    {
     "data": {
      "image/png": "[encoded data removed]",
      "text/plain": [
       "<Figure size 640x480 with 1 Axes>"
      ]
     },
     "metadata": {},
     "output_type": "display_data"
    },
    {
     "data": {
      "image/png": "[encoded data removed]",
      "text/plain": [
       "<Figure size 640x480 with 1 Axes>"
      ]
     },
     "metadata": {},
     "output_type": "display_data"
    },
    {
     "data": {
      "image/png": "[encoded data removed]",
      "text/plain": [
       "<Figure size 640x480 with 1 Axes>"
      ]
     },
     "metadata": {},
     "output_type": "display_data"
    },
    {
     "data": {
      "image/png": "[encoded data removed]",
      "text/plain": [
       "<Figure size 640x480 with 1 Axes>"
      ]
     },
     "metadata": {},
     "output_type": "display_data"
    },
    {
     "data": {
      "image/png": "[encoded data removed]",
      "text/plain": [
       "<Figure size 640x480 with 1 Axes>"
      ]
     },
     "metadata": {},
     "output_type": "display_data"
    },
    {
     "data": {
      "image/png": "[encoded data removed]",
      "text/plain": [
       "<Figure size 640x480 with 1 Axes>"
      ]
     },
     "metadata": {},
     "output_type": "display_data"
    },
    {
     "data": {
      "image/png": "[encoded data removed]",
      "text/plain": [
       "<Figure size 640x480 with 1 Axes>"
      ]
     },
     "metadata": {},
     "output_type": "display_data"
    },
    {
     "data": {
      "image/png": "[encoded data removed]",
      "text/plain": [
       "<Figure size 640x480 with 1 Axes>"
      ]
     },
     "metadata": {},
     "output_type": "display_data"
    },
    {
     "data": {
      "image/png": "[encoded data removed]",
      "text/plain": [
       "<Figure size 640x480 with 1 Axes>"
      ]
     },
     "metadata": {},
     "output_type": "display_data"
    },
    {
     "data": {
      "image/png": "[encoded data removed]",
      "text/plain": [
       "<Figure size 640x480 with 1 Axes>"
      ]
     },
     "metadata": {},
     "output_type": "display_data"
    },
    {
     "data": {
      "image/png": "[encoded data removed]",
      "text/plain": [
       "<Figure size 640x480 with 1 Axes>"
      ]
     },
     "metadata": {},
     "output_type": "display_data"
    },
    {
     "data": {
      "image/png": "[encoded data removed]",
      "text/plain": [
       "<Figure size 640x480 with 1 Axes>"
      ]
     },
     "metadata": {},
     "output_type": "display_data"
    },
    {
     "data": {
      "image/png": "[encoded data removed]",
      "text/plain": [
       "<Figure size 640x480 with 1 Axes>"
      ]
     },
     "metadata": {},
     "output_type": "display_data"
    },
    {
     "data": {
      "image/png": "[encoded data removed]",
      "text/plain": [
       "<Figure size 640x480 with 1 Axes>"
      ]
     },
     "metadata": {},
     "output_type": "display_data"
    },
    {
     "data": {
      "image/png": "[encoded data removed]",
      "text/plain": [
       "<Figure size 640x480 with 1 Axes>"
      ]
     },
     "metadata": {},
     "output_type": "display_data"
    },
    {
     "data": {
      "image/png": "[encoded data removed]",
      "text/plain": [
       "<Figure size 640x480 with 1 Axes>"
      ]
     },
     "metadata": {},
     "output_type": "display_data"
    },
    {
     "data": {
      "image/png": "[encoded data removed]",
      "text/plain": [
       "<Figure size 640x480 with 1 Axes>"
      ]
     },
     "metadata": {},
     "output_type": "display_data"
    },
    {
     "data": {
      "image/png": "[encoded data removed]",
      "text/plain": [
       "<Figure size 640x480 with 1 Axes>"
      ]
     },
     "metadata": {},
     "output_type": "display_data"
    },
    {
     "data": {
      "image/png": "[encoded data removed]",
      "text/plain": [
       "<Figure size 640x480 with 1 Axes>"
      ]
     },
     "metadata": {},
     "output_type": "display_data"
    },
    {
     "data": {
      "image/png": "[encoded data removed]",
      "text/plain": [
       "<Figure size 640x480 with 1 Axes>"
      ]
     },
     "metadata": {},
     "output_type": "display_data"
    },
    {
     "data": {
      "image/png": "[encoded data removed]",
      "text/plain": [
       "<Figure size 640x480 with 1 Axes>"
      ]
     },
     "metadata": {},
     "output_type": "display_data"
    },
    {
     "data": {
      "image/png": "[encoded data removed]",
      "text/plain": [
       "<Figure size 640x480 with 1 Axes>"
      ]
     },
     "metadata": {},
     "output_type": "display_data"
    },
    {
     "data": {
      "image/png": "[encoded data removed]",
      "text/plain": [
       "<Figure size 640x480 with 1 Axes>"
      ]
     },
     "metadata": {},
     "output_type": "display_data"
    },
    {
     "data": {
      "image/png": "[encoded data removed]",
      "text/plain": [
       "<Figure size 640x480 with 1 Axes>"
      ]
     },
     "metadata": {},
     "output_type": "display_data"
    },
    {
     "data": {
      "image/png": "[encoded data removed]",
      "text/plain": [
       "<Figure size 640x480 with 1 Axes>"
      ]
     },
     "metadata": {},
     "output_type": "display_data"
    },
    {
     "data": {
      "image/png": "[encoded data removed]",
      "text/plain": [
       "<Figure size 640x480 with 1 Axes>"
      ]
     },
     "metadata": {},
     "output_type": "display_data"
    },
    {
     "data": {
      "image/png": "[encoded data removed]",
      "text/plain": [
       "<Figure size 640x480 with 1 Axes>"
      ]
     },
     "metadata": {},
     "output_type": "display_data"
    },
    {
     "data": {
      "image/png": "[encoded data removed]",
      "text/plain": [
       "<Figure size 640x480 with 1 Axes>"
      ]
     },
     "metadata": {},
     "output_type": "display_data"
    },
    {
     "data": {
      "image/png": "[encoded data removed]",
      "text/plain": [
       "<Figure size 640x480 with 1 Axes>"
      ]
     },
     "metadata": {},
     "output_type": "display_data"
    },
    {
     "data": {
      "image/png": "[encoded data removed]",
      "text/plain": [
       "<Figure size 640x480 with 1 Axes>"
      ]
     },
     "metadata": {},
     "output_type": "display_data"
    },
    {
     "data": {
      "image/png": "[encoded data removed]",
      "text/plain": [
       "<Figure size 640x480 with 1 Axes>"
      ]
     },
     "metadata": {},
     "output_type": "display_data"
    },
    {
     "data": {
      "image/png": "[encoded data removed]",
      "text/plain": [
       "<Figure size 640x480 with 1 Axes>"
      ]
     },
     "metadata": {},
     "output_type": "display_data"
    },
    {
     "data": {
      "image/png": "[encoded data removed]",
      "text/plain": [
       "<Figure size 640x480 with 1 Axes>"
      ]
     },
     "metadata": {},
     "output_type": "display_data"
    },
    {
     "data": {
      "image/png": "[encoded data removed]",
      "text/plain": [
       "<Figure size 640x480 with 1 Axes>"
      ]
     },
     "metadata": {},
     "output_type": "display_data"
    },
    {
     "data": {
      "image/png": "[encoded data removed]",
      "text/plain": [
       "<Figure size 640x480 with 1 Axes>"
      ]
     },
     "metadata": {},
     "output_type": "display_data"
    },
    {
     "data": {
      "image/png": "[encoded data removed]",
      "text/plain": [
       "<Figure size 640x480 with 1 Axes>"
      ]
     },
     "metadata": {},
     "output_type": "display_data"
    },
    {
     "data": {
      "image/png": "[encoded data removed]",
      "text/plain": [
       "<Figure size 640x480 with 1 Axes>"
      ]
     },
     "metadata": {},
     "output_type": "display_data"
    },
    {
     "data": {
      "image/png": "[encoded data removed]",
      "text/plain": [
       "<Figure size 640x480 with 1 Axes>"
      ]
     },
     "metadata": {},
     "output_type": "display_data"
    },
    {
     "data": {
      "image/png": "[encoded data removed]",
      "text/plain": [
       "<Figure size 640x480 with 1 Axes>"
      ]
     },
     "metadata": {},
     "output_type": "display_data"
    },
    {
     "data": {
      "image/png": "[encoded data removed]",
      "text/plain": [
       "<Figure size 640x480 with 1 Axes>"
      ]
     },
     "metadata": {},
     "output_type": "display_data"
    },
    {
     "data": {
      "image/png": "[encoded data removed]",
      "text/plain": [
       "<Figure size 640x480 with 1 Axes>"
      ]
     },
     "metadata": {},
     "output_type": "display_data"
    },
    {
     "data": {
      "image/png": "[encoded data removed]",
      "text/plain": [
       "<Figure size 640x480 with 1 Axes>"
      ]
     },
     "metadata": {},
     "output_type": "display_data"
    },
    {
     "data": {
      "image/png": "[encoded data removed]",
      "text/plain": [
       "<Figure size 640x480 with 1 Axes>"
      ]
     },
     "metadata": {},
     "output_type": "display_data"
    },
    {
     "data": {
      "image/png": "[encoded data removed]",
      "text/plain": [
       "<Figure size 640x480 with 1 Axes>"
      ]
     },
     "metadata": {},
     "output_type": "display_data"
    },
    {
     "data": {
      "image/png": "[encoded data removed]",
      "text/plain": [
       "<Figure size 640x480 with 1 Axes>"
      ]
     },
     "metadata": {},
     "output_type": "display_data"
    }
   ],
   "source": [
    "boxPlot(X_train)"
   ]
  },
  {
   "cell_type": "code",
   "execution_count": 17,
   "id": "fa990917-06be-480a-a50d-bf07c7f5239b",
   "metadata": {},
   "outputs": [
    {
     "data": {
      "text/plain": [
       "engine_position    0\n",
       "number_blades      0\n",
       "ZHPTAC             0\n",
       "ZLPTAC             0\n",
       "ZPCN12             0\n",
       "ZPCN25             0\n",
       "ZPHSF              0\n",
       "ZPHSR              0\n",
       "ZPN12R             0\n",
       "ZPOIL              0\n",
       "ZPS3               0\n",
       "ZT1AB              0\n",
       "ZT3                0\n",
       "ZT49               0\n",
       "ZTAMB              0\n",
       "ZTLA               0\n",
       "ZTNAC              0\n",
       "ZTOIL              0\n",
       "ZVB1F              0\n",
       "ZVB1R              0\n",
       "ZVB2F              0\n",
       "ZVB2R              0\n",
       "ZVSV               0\n",
       "ZWF36              0\n",
       "IHPSOV             0\n",
       "AGW                0\n",
       "CAS                0\n",
       "IAI                0\n",
       "IVS12              0\n",
       "SAT                0\n",
       "ZALT               0\n",
       "ZT1A               0\n",
       "ZVIAS              0\n",
       "ZWBP1              0\n",
       "ZWBP1_8E           0\n",
       "ZWBP2              0\n",
       "ZWBP2_8E           0\n",
       "ZXM                0\n",
       "IBE                0\n",
       "IBP                0\n",
       "IAIE               0\n",
       "EGTK               0\n",
       "FFK                0\n",
       "N2K                0\n",
       "N1K                0\n",
       "n1_modifier_0.0    0\n",
       "n1_modifier_1.0    0\n",
       "n1_modifier_2.0    0\n",
       "n1_modifier_3.0    0\n",
       "n1_modifier_4.0    0\n",
       "n1_modifier_5.0    0\n",
       "n1_modifier_6.0    0\n",
       "n1_modifier_7.0    0\n",
       "dtype: int64"
      ]
     },
     "execution_count": 17,
     "metadata": {},
     "output_type": "execute_result"
    }
   ],
   "source": [
    "X_train.isna().sum()"
   ]
  },
  {
   "cell_type": "markdown",
   "id": "d997164b-be12-4759-b0ae-0514ef1b418a",
   "metadata": {},
   "source": [
    "Отлично, датасет готов"
   ]
  },
  {
   "cell_type": "code",
   "execution_count": 18,
   "id": "695e943e-8085-4a9a-a8e0-d35dadf43499",
   "metadata": {},
   "outputs": [],
   "source": [
    "class Trainer:\n",
    "    def __init__(self, targets, models):\n",
    "        # StandardScaler() - cтандартизация – это метод масштабирования, при котором данные не масштабируются путем\n",
    "        # преобразования статистического распределения данных в следующий формат:\n",
    "        # среднее – 0 (ноль); стандартное отклонение – 1.\n",
    "        self.scaler = StandardScaler()\n",
    "        self.targets = targets\n",
    "        self.models = models\n",
    "        self.predict_data = {}\n",
    "\n",
    "    def fit(self, X, Y, X_test, y_test):\n",
    "        \"\"\"\n",
    "        !Осущесвляет подгонку семейства моделей под обучающую выборку\n",
    "        !сохраняет в параметр fit_data словарь обученных моделей для каждого таргета\n",
    "        \"\"\"\n",
    "        # шкалируем\n",
    "        X_scaler = self.scaler.fit_transform(X)\n",
    "        self.fit_data = {\n",
    "            target:\n",
    "            {name_model:\n",
    "                 self.models[name_model].fit(X_scaler, Y[target]) if 'neuro' not in name_model\n",
    "             else\n",
    "                 self.models[name_model].fit(X_scaler, Y[target], validation_batch_size=50,\n",
    "                                         validation_data=(X_test, y_test),\n",
    "                                         epochs=100, verbose=0, callbacks=my_callbacks)\n",
    "             for name_model in self.models\n",
    "             } for target in self.targets\n",
    "        }\n",
    "\n",
    "\n",
    "    def bestMetric(self, target):\n",
    "        return min(self.errors[target], key=self.errors[target].get)\n",
    "\n",
    "    def countModelTargetMetric(self, Y):\n",
    "        \"\"\"\n",
    "        !Рассчитывает метрики для каждой модели из семейства для каждого предсказываемого таргета.\n",
    "        !Конкретная метрика задаётся в параметрах. В работе использовалась MSE\n",
    "        !Также формирует статистику для каждого таргета и модели; статистику для лучшей модели\n",
    "        !Возвращает metric - данные о лучшей модели и значении метрики\n",
    "        \"\"\"\n",
    "        e = mean_squared_error\n",
    "\n",
    "        self.errors, self.metric, self.best_model = {}, {}, {}\n",
    "        self.metric = {}\n",
    "\n",
    "        for target in self.targets:\n",
    "            self.errors[target] = {name_model: e(Y[target], value, squared=False) for name_model, value in self.predict_data[target].items()}\n",
    "            best_model_name = self.bestMetric(target)\n",
    "            self.metric[target] = {'best_model': best_model_name,\n",
    "                                 'best_metric': self.errors[target][best_model_name]}\n",
    "            self.best_model[target] = self.models[best_model_name]\n",
    "        return pd.DataFrame(self.metric)\n",
    "\n",
    "    def predictModels(self, X):\n",
    "        \"\"\"\n",
    "        !Расчет предсказанных значений на X_test для каждой из модели для каждого таргета\n",
    "        \"\"\"\n",
    "        X_scaler = self.scaler.transform(X)\n",
    "        self.predict_data = {target:\n",
    "                             {name_model:\n",
    "                              self.models[name_model].predict(X_scaler) for name_model in self.models\n",
    "                              } for target in self.targets\n",
    "                             }\n",
    "        return self.predict_data\n",
    "\n",
    "    def predict(self, X):\n",
    "        \"\"\"\n",
    "        !Рассчитывает и возвращает предикт на лучшей для данного таргета модели\n",
    "        \"\"\"\n",
    "        X_scaler = self.scaler.transform(X)\n",
    "        predict = pd.DataFrame([])\n",
    "        for target in self.targets:\n",
    "            best_model_name = self.bestMetric(target)\n",
    "            predict[target] = self.best_model[target].predict(X_scaler).flatten()\n",
    "        return predict"
   ]
  },
  {
   "cell_type": "code",
   "execution_count": 19,
   "id": "54e58938-42b6-424d-9dac-d9a90f5c2a78",
   "metadata": {},
   "outputs": [],
   "source": [
    "def learningRateControl(epoch, learningRate):\n",
    "    \"\"\"\n",
    "    !Управление learning_rate во время обучения.\n",
    "    !Для новоого таргета learningRate сбрасывается на начальное, по мере обучения и роста эпох уменьшается\n",
    "    \"\"\"\n",
    "    if epoch < 2:\n",
    "        learningRate = 0.001\n",
    "    else:\n",
    "        if epoch % 10 == 0:\n",
    "            learningRate = learningRate / 2\n",
    "    return learningRate\n",
    "\n",
    "optimizer = keras.optimizers.Adam(0.001, decay=1e-6)\n",
    "\n",
    "  # Прописываем условия для ранней остановки и управление LR\n",
    "my_callbacks = [\n",
    "    #Предполагая, что цель обучения состоит в том, чтобы свести к минимуму потери.\n",
    "    # Тренировочный цикл будет проверять в конце каждой эпохи: если потери больше не уменьшаются, помечается True, и обучение завершается\n",
    "    keras.callbacks.EarlyStopping(monitor='val_loss', patience=4),\n",
    "    # ModelCheckpoint(monitor='val_loss', save_best_only=True, save_weights_only=True),\n",
    "    keras.callbacks.LearningRateScheduler(learningRateControl, verbose=0)\n",
    "]"
   ]
  },
  {
   "cell_type": "code",
   "execution_count": 20,
   "id": "d0c20c23-e54b-4052-b914-72d748a74347",
   "metadata": {},
   "outputs": [
    {
     "name": "stdout",
     "output_type": "stream",
     "text": [
      "Model: \"sequential\"\n",
      "_________________________________________________________________\n",
      " Layer (type)                Output Shape              Param #   \n",
      "=================================================================\n",
      " dense (Dense)               (None, 50)                2700      \n",
      "                                                                 \n",
      " dense_1 (Dense)             (None, 20)                1020      \n",
      "                                                                 \n",
      " dense_2 (Dense)             (None, 1)                 21        \n",
      "                                                                 \n",
      "=================================================================\n",
      "Total params: 3,741\n",
      "Trainable params: 3,741\n",
      "Non-trainable params: 0\n",
      "_________________________________________________________________\n"
     ]
    }
   ],
   "source": [
    "model1 = keras.models.Sequential() #группируем слои модели\n",
    "# Dense реализует операцию: output = activation(dot(input, kernel) + bias) , где activation — это поэлементная\n",
    "# функция активации, переданная в качестве аргумента activation kernel\n",
    "model1.add(keras.layers.Dense(50, input_dim=X_train.shape[1], kernel_initializer='normal', activation='relu'))\n",
    "model1.add(keras.layers.Dense(20, kernel_initializer='normal', activation='relu'))\n",
    "model1.add(keras.layers.Dense(1, kernel_initializer='normal'))\n",
    "# Compile model\n",
    "model1.compile(loss='mean_squared_error', optimizer=optimizer)\n",
    "model1.summary()"
   ]
  },
  {
   "cell_type": "code",
   "execution_count": 21,
   "id": "6c9697d8-2fb5-4bda-bde3-8c6d7ebccb43",
   "metadata": {},
   "outputs": [
    {
     "name": "stdout",
     "output_type": "stream",
     "text": [
      "Model: \"sequential_1\"\n",
      "_________________________________________________________________\n",
      " Layer (type)                Output Shape              Param #   \n",
      "=================================================================\n",
      " dense_3 (Dense)             (None, 20)                1080      \n",
      "                                                                 \n",
      " dense_4 (Dense)             (None, 10)                210       \n",
      "                                                                 \n",
      " dense_5 (Dense)             (None, 1)                 11        \n",
      "                                                                 \n",
      "=================================================================\n",
      "Total params: 1,301\n",
      "Trainable params: 1,301\n",
      "Non-trainable params: 0\n",
      "_________________________________________________________________\n"
     ]
    }
   ],
   "source": [
    "model2 = keras.models.Sequential()\n",
    "model2.add(keras.layers.Dense(20, input_dim=X_train.shape[1], kernel_initializer='normal', activation='relu'))\n",
    "model2.add(keras.layers.Dense(10, kernel_initializer='normal', activation='relu'))\n",
    "model2.add(keras.layers.Dense(1, kernel_initializer='normal'))\n",
    "# Compile model\n",
    "model2.compile(loss='mean_squared_error', optimizer=optimizer)\n",
    "model2.summary()"
   ]
  },
  {
   "cell_type": "code",
   "execution_count": 22,
   "id": "d63cf616-d18a-4aee-b548-c5fd91ac410e",
   "metadata": {},
   "outputs": [
    {
     "name": "stdout",
     "output_type": "stream",
     "text": [
      "Model: \"sequential_2\"\n",
      "_________________________________________________________________\n",
      " Layer (type)                Output Shape              Param #   \n",
      "=================================================================\n",
      " dense_6 (Dense)             (None, 100)               5400      \n",
      "                                                                 \n",
      " dense_7 (Dense)             (None, 50)                5050      \n",
      "                                                                 \n",
      " dense_8 (Dense)             (None, 1)                 51        \n",
      "                                                                 \n",
      "=================================================================\n",
      "Total params: 10,501\n",
      "Trainable params: 10,501\n",
      "Non-trainable params: 0\n",
      "_________________________________________________________________\n"
     ]
    }
   ],
   "source": [
    "model3 = keras.models.Sequential()\n",
    "model3.add(keras.layers.Dense(100, input_dim=X_train.shape[1], kernel_initializer='normal', activation='relu'))\n",
    "model3.add(keras.layers.Dense(50, kernel_initializer='normal', activation='relu'))\n",
    "model3.add(keras.layers.Dense(1, kernel_initializer='normal'))\n",
    "# Compile model\n",
    "model3.compile(loss='mean_squared_error', optimizer=optimizer)\n",
    "model3.summary()"
   ]
  },
  {
   "cell_type": "code",
   "execution_count": 23,
   "id": "c762da2c-5b25-48ae-b675-14afda5395c0",
   "metadata": {},
   "outputs": [
    {
     "name": "stdout",
     "output_type": "stream",
     "text": [
      "Model: \"sequential_3\"\n",
      "_________________________________________________________________\n",
      " Layer (type)                Output Shape              Param #   \n",
      "=================================================================\n",
      " dense_9 (Dense)             (None, 60)                3240      \n",
      "                                                                 \n",
      " dense_10 (Dense)            (None, 30)                1830      \n",
      "                                                                 \n",
      " dense_11 (Dense)            (None, 10)                310       \n",
      "                                                                 \n",
      " dense_12 (Dense)            (None, 1)                 11        \n",
      "                                                                 \n",
      "=================================================================\n",
      "Total params: 5,391\n",
      "Trainable params: 5,391\n",
      "Non-trainable params: 0\n",
      "_________________________________________________________________\n"
     ]
    }
   ],
   "source": [
    "model4 = keras.models.Sequential()\n",
    "model4.add(keras.layers.Dense(60, input_dim=X_train.shape[1], kernel_initializer='normal', activation='relu'))\n",
    "model4.add(keras.layers.Dense(30, kernel_initializer='normal', activation='relu'))\n",
    "model4.add(keras.layers.Dense(10, kernel_initializer='normal', activation='relu'))\n",
    "model4.add(keras.layers.Dense(1, kernel_initializer='normal'))\n",
    "# Compile model\n",
    "model4.compile(loss='mean_squared_error', optimizer=optimizer)\n",
    "model4.summary()"
   ]
  },
  {
   "cell_type": "code",
   "execution_count": 24,
   "id": "bc66bb0c-96ad-418c-ab65-d35e878ba07c",
   "metadata": {},
   "outputs": [
    {
     "name": "stdout",
     "output_type": "stream",
     "text": [
      "Model: \"sequential_4\"\n",
      "_________________________________________________________________\n",
      " Layer (type)                Output Shape              Param #   \n",
      "=================================================================\n",
      " dense_13 (Dense)            (None, 50)                2700      \n",
      "                                                                 \n",
      " dense_14 (Dense)            (None, 20)                1020      \n",
      "                                                                 \n",
      " dense_15 (Dense)            (None, 1)                 21        \n",
      "                                                                 \n",
      "=================================================================\n",
      "Total params: 3,741\n",
      "Trainable params: 3,741\n",
      "Non-trainable params: 0\n",
      "_________________________________________________________________\n"
     ]
    }
   ],
   "source": [
    "model5 = keras.models.Sequential()\n",
    "model5.add(keras.layers.Dense(50, input_dim=X_train.shape[1], kernel_initializer='normal', activation='tanh'))\n",
    "model5.add(keras.layers.Dense(20, kernel_initializer='normal', activation='tanh'))\n",
    "model5.add(keras.layers.Dense(1, kernel_initializer='normal'))\n",
    "# Compile model\n",
    "model5.compile(loss='mean_squared_error', optimizer=optimizer)\n",
    "model5.summary()"
   ]
  },
  {
   "cell_type": "code",
   "execution_count": 25,
   "id": "853a596c-fee4-498a-96af-8bb59e1e7ed2",
   "metadata": {},
   "outputs": [
    {
     "name": "stdout",
     "output_type": "stream",
     "text": [
      "Model: \"sequential_5\"\n",
      "_________________________________________________________________\n",
      " Layer (type)                Output Shape              Param #   \n",
      "=================================================================\n",
      " dense_16 (Dense)            (None, 20)                1080      \n",
      "                                                                 \n",
      " dense_17 (Dense)            (None, 10)                210       \n",
      "                                                                 \n",
      " dense_18 (Dense)            (None, 1)                 11        \n",
      "                                                                 \n",
      "=================================================================\n",
      "Total params: 1,301\n",
      "Trainable params: 1,301\n",
      "Non-trainable params: 0\n",
      "_________________________________________________________________\n"
     ]
    }
   ],
   "source": [
    "model6 = keras.models.Sequential()\n",
    "model6.add(keras.layers.Dense(20, input_dim=X_train.shape[1], kernel_initializer='normal', activation='tanh'))\n",
    "model6.add(keras.layers.Dense(10, kernel_initializer='normal', activation='tanh'))\n",
    "model6.add(keras.layers.Dense(1, kernel_initializer='normal'))\n",
    "# Compile model\n",
    "model6.compile(loss='mean_squared_error', optimizer=optimizer)\n",
    "model6.summary()"
   ]
  },
  {
   "cell_type": "code",
   "execution_count": 26,
   "id": "752619f7-a27b-4e4f-89d1-6ec4aa79685d",
   "metadata": {},
   "outputs": [
    {
     "name": "stdout",
     "output_type": "stream",
     "text": [
      "Model: \"sequential_6\"\n",
      "_________________________________________________________________\n",
      " Layer (type)                Output Shape              Param #   \n",
      "=================================================================\n",
      " dense_19 (Dense)            (None, 100)               5400      \n",
      "                                                                 \n",
      " dense_20 (Dense)            (None, 50)                5050      \n",
      "                                                                 \n",
      " dense_21 (Dense)            (None, 1)                 51        \n",
      "                                                                 \n",
      "=================================================================\n",
      "Total params: 10,501\n",
      "Trainable params: 10,501\n",
      "Non-trainable params: 0\n",
      "_________________________________________________________________\n"
     ]
    }
   ],
   "source": [
    "model7 = keras.models.Sequential()\n",
    "model7.add(keras.layers.Dense(100, input_dim=X_train.shape[1], kernel_initializer='normal', activation='tanh'))\n",
    "model7.add(keras.layers.Dense(50, kernel_initializer='normal', activation='tanh'))\n",
    "model7.add(keras.layers.Dense(1, kernel_initializer='normal'))\n",
    "# Compile model\n",
    "model7.compile(loss='mean_squared_error', optimizer=optimizer)\n",
    "model7.summary()"
   ]
  },
  {
   "cell_type": "code",
   "execution_count": 27,
   "id": "c871de91-d811-4669-abcc-e24708f042d6",
   "metadata": {},
   "outputs": [
    {
     "name": "stdout",
     "output_type": "stream",
     "text": [
      "Model: \"sequential_7\"\n",
      "_________________________________________________________________\n",
      " Layer (type)                Output Shape              Param #   \n",
      "=================================================================\n",
      " dense_22 (Dense)            (None, 60)                3240      \n",
      "                                                                 \n",
      " dense_23 (Dense)            (None, 30)                1830      \n",
      "                                                                 \n",
      " dense_24 (Dense)            (None, 10)                310       \n",
      "                                                                 \n",
      " dense_25 (Dense)            (None, 1)                 11        \n",
      "                                                                 \n",
      "=================================================================\n",
      "Total params: 5,391\n",
      "Trainable params: 5,391\n",
      "Non-trainable params: 0\n",
      "_________________________________________________________________\n"
     ]
    }
   ],
   "source": [
    "model8 = keras.models.Sequential()\n",
    "model8.add(keras.layers.Dense(60, input_dim=X_train.shape[1], kernel_initializer='normal', activation='tanh'))\n",
    "model8.add(keras.layers.Dense(30, kernel_initializer='normal', activation='tanh'))\n",
    "model8.add(keras.layers.Dense(10, kernel_initializer='normal', activation='tanh'))\n",
    "model8.add(keras.layers.Dense(1, kernel_initializer='normal'))\n",
    "# Compile model\n",
    "model8.compile(loss='mean_squared_error', optimizer=optimizer)\n",
    "model8.summary()"
   ]
  },
  {
   "cell_type": "code",
   "execution_count": 28,
   "id": "18b1aee2-2680-47ea-b47c-0f2aa3c73572",
   "metadata": {},
   "outputs": [],
   "source": [
    "targets = y_train.columns\n",
    "\n",
    "# Словарь с моделями, на которых обучаемся предсказывать каждый из таргетов\n",
    "models = {\n",
    "    'lasso': Lasso(random_state=66),\n",
    "    'ridge': Ridge(random_state=66),\n",
    "    'linear': LinearRegression(),\n",
    "    'ARD': ARDRegression(),\n",
    "    'random_tree': RandomForestRegressor(verbose=0),\n",
    "    'catboost': CatBoostRegressor(iterations=100, verbose=0, random_state=66),\n",
    "    'XGB': XGBRegressor(random_state=66),\n",
    "    'neuro1': model1,\n",
    "    'neuro2': model2,\n",
    "    'neuro3': model3,\n",
    "    'neuro4': model4,  \n",
    "    'neuro5': model5,\n",
    "    'neuro6': model6,\n",
    "    'neuro7': model7,\n",
    "    'neuro8': model8  \n",
    "}"
   ]
  },
  {
   "cell_type": "code",
   "execution_count": 29,
   "id": "f6da8d5d-bc41-40c2-9b3c-2f8dfa82e117",
   "metadata": {},
   "outputs": [
    {
     "name": "stdout",
     "output_type": "stream",
     "text": [
      "<class 'pandas.core.frame.DataFrame'>\n",
      "Int64Index: 64043 entries, 53491 to 15795\n",
      "Data columns (total 53 columns):\n",
      " #   Column           Non-Null Count  Dtype  \n",
      "---  ------           --------------  -----  \n",
      " 0   engine_position  64043 non-null  int64  \n",
      " 1   number_blades    64043 non-null  float64\n",
      " 2   ZHPTAC           64043 non-null  float64\n",
      " 3   ZLPTAC           64043 non-null  float64\n",
      " 4   ZPCN12           64043 non-null  float64\n",
      " 5   ZPCN25           64043 non-null  float64\n",
      " 6   ZPHSF            64043 non-null  float64\n",
      " 7   ZPHSR            64043 non-null  float64\n",
      " 8   ZPN12R           64043 non-null  float64\n",
      " 9   ZPOIL            64043 non-null  float64\n",
      " 10  ZPS3             64043 non-null  float64\n",
      " 11  ZT1AB            64043 non-null  float64\n",
      " 12  ZT3              64043 non-null  float64\n",
      " 13  ZT49             64043 non-null  float64\n",
      " 14  ZTAMB            64043 non-null  float64\n",
      " 15  ZTLA             64043 non-null  float64\n",
      " 16  ZTNAC            64043 non-null  float64\n",
      " 17  ZTOIL            64043 non-null  float64\n",
      " 18  ZVB1F            64043 non-null  float64\n",
      " 19  ZVB1R            64043 non-null  float64\n",
      " 20  ZVB2F            64043 non-null  float64\n",
      " 21  ZVB2R            64043 non-null  float64\n",
      " 22  ZVSV             64043 non-null  float64\n",
      " 23  ZWF36            64043 non-null  float64\n",
      " 24  IHPSOV           64043 non-null  float64\n",
      " 25  AGW              64043 non-null  float64\n",
      " 26  CAS              64043 non-null  float64\n",
      " 27  IAI              64043 non-null  float64\n",
      " 28  IVS12            64043 non-null  float64\n",
      " 29  SAT              64043 non-null  float64\n",
      " 30  ZALT             64043 non-null  float64\n",
      " 31  ZT1A             64043 non-null  float64\n",
      " 32  ZVIAS            64043 non-null  float64\n",
      " 33  ZWBP1            64043 non-null  float64\n",
      " 34  ZWBP1_8E         64043 non-null  float64\n",
      " 35  ZWBP2            64043 non-null  float64\n",
      " 36  ZWBP2_8E         64043 non-null  float64\n",
      " 37  ZXM              64043 non-null  float64\n",
      " 38  IBE              64043 non-null  float64\n",
      " 39  IBP              64043 non-null  float64\n",
      " 40  IAIE             64043 non-null  float64\n",
      " 41  EGTK             64043 non-null  float64\n",
      " 42  FFK              64043 non-null  float64\n",
      " 43  N2K              64043 non-null  float64\n",
      " 44  N1K              64043 non-null  float64\n",
      " 45  n1_modifier_0.0  64043 non-null  uint8  \n",
      " 46  n1_modifier_1.0  64043 non-null  uint8  \n",
      " 47  n1_modifier_2.0  64043 non-null  uint8  \n",
      " 48  n1_modifier_3.0  64043 non-null  uint8  \n",
      " 49  n1_modifier_4.0  64043 non-null  uint8  \n",
      " 50  n1_modifier_5.0  64043 non-null  uint8  \n",
      " 51  n1_modifier_6.0  64043 non-null  uint8  \n",
      " 52  n1_modifier_7.0  64043 non-null  uint8  \n",
      "dtypes: float64(44), int64(1), uint8(8)\n",
      "memory usage: 25.0 MB\n"
     ]
    }
   ],
   "source": [
    "X_train.info()"
   ]
  },
  {
   "cell_type": "code",
   "execution_count": 30,
   "id": "67f082ef-b428-4220-ae82-7735329a3877",
   "metadata": {},
   "outputs": [
    {
     "name": "stderr",
     "output_type": "stream",
     "text": [
      "  0%|                                                                                           | 0/30 [00:00<?, ?it/s]"
     ]
    },
    {
     "name": "stdout",
     "output_type": "stream",
     "text": [
      "985/985 [==============================] - 0s 448us/step\n",
      "985/985 [==============================] - 0s 396us/step\n",
      "985/985 [==============================] - 0s 403us/step\n",
      "985/985 [==============================] - 0s 408us/step\n",
      "985/985 [==============================] - 0s 442us/step\n",
      "985/985 [==============================] - 0s 403us/step\n",
      "985/985 [==============================] - 0s 441us/step\n",
      "985/985 [==============================] - 0s 425us/step\n"
     ]
    },
    {
     "name": "stderr",
     "output_type": "stream",
     "text": [
      "  3%|██▊                                                                                | 1/30 [01:23<40:28, 83.75s/it]"
     ]
    },
    {
     "name": "stdout",
     "output_type": "stream",
     "text": [
      "582/582 [==============================] - 0s 408us/step\n",
      "582/582 [==============================] - 0s 623us/step\n",
      "582/582 [==============================] - 0s 413us/step\n",
      "582/582 [==============================] - 0s 399us/step\n",
      "582/582 [==============================] - 0s 444us/step\n",
      "582/582 [==============================] - 0s 382us/step\n",
      "582/582 [==============================] - 0s 448us/step\n",
      "582/582 [==============================] - 0s 410us/step\n",
      "986/986 [==============================] - 0s 424us/step\n"
     ]
    },
    {
     "name": "stderr",
     "output_type": "stream",
     "text": [
      "  7%|█████▌                                                                             | 2/30 [02:47<39:07, 83.85s/it]"
     ]
    },
    {
     "name": "stdout",
     "output_type": "stream",
     "text": [
      "207/207 [==============================] - 0s 418us/step\n",
      "207/207 [==============================] - 0s 417us/step\n",
      "207/207 [==============================] - 0s 408us/step\n",
      "207/207 [==============================] - 0s 408us/step\n",
      "207/207 [==============================] - 0s 398us/step\n",
      "207/207 [==============================] - 0s 398us/step\n",
      "207/207 [==============================] - 0s 413us/step\n",
      "207/207 [==============================] - 0s 417us/step\n"
     ]
    },
    {
     "name": "stderr",
     "output_type": "stream",
     "text": [
      " 10%|████████▎                                                                          | 3/30 [03:13<25:49, 57.37s/it]"
     ]
    },
    {
     "name": "stdout",
     "output_type": "stream",
     "text": [
      "207/207 [==============================] - 0s 476us/step\n",
      "207/207 [==============================] - 0s 427us/step\n",
      "207/207 [==============================] - 0s 437us/step\n",
      "207/207 [==============================] - 0s 437us/step\n",
      "207/207 [==============================] - 0s 427us/step\n",
      "207/207 [==============================] - 0s 563us/step\n",
      "207/207 [==============================] - 0s 393us/step\n",
      "207/207 [==============================] - 0s 417us/step\n"
     ]
    },
    {
     "name": "stderr",
     "output_type": "stream",
     "text": [
      " 13%|███████████                                                                        | 4/30 [03:39<19:27, 44.91s/it]"
     ]
    },
    {
     "name": "stdout",
     "output_type": "stream",
     "text": [
      "247/247 [==============================] - 0s 366us/step\n",
      "247/247 [==============================] - 0s 378us/step\n",
      "247/247 [==============================] - 0s 398us/step\n",
      "247/247 [==============================] - 0s 382us/step\n",
      "247/247 [==============================] - 0s 386us/step\n",
      "247/247 [==============================] - 0s 378us/step\n",
      "247/247 [==============================] - 0s 390us/step\n",
      "247/247 [==============================] - 0s 398us/step\n"
     ]
    },
    {
     "name": "stderr",
     "output_type": "stream",
     "text": [
      " 17%|█████████████▊                                                                     | 5/30 [03:59<14:57, 35.90s/it]"
     ]
    },
    {
     "name": "stdout",
     "output_type": "stream",
     "text": [
      "397/397 [==============================] - 0s 374us/step\n",
      "397/397 [==============================] - 0s 396us/step\n",
      "397/397 [==============================] - 0s 412us/step\n",
      "397/397 [==============================] - 0s 452us/step\n",
      "397/397 [==============================] - 0s 404us/step\n",
      "397/397 [==============================] - 0s 404us/step\n",
      "397/397 [==============================] - 0s 409us/step\n",
      "397/397 [==============================] - 0s 422us/step\n"
     ]
    },
    {
     "name": "stderr",
     "output_type": "stream",
     "text": [
      " 20%|████████████████▌                                                                  | 6/30 [04:37<14:43, 36.83s/it]"
     ]
    },
    {
     "name": "stdout",
     "output_type": "stream",
     "text": [
      "582/582 [==============================] - 0s 384us/step\n",
      "582/582 [==============================] - 0s 396us/step\n",
      "582/582 [==============================] - 0s 411us/step\n",
      "582/582 [==============================] - 0s 411us/step\n",
      "582/582 [==============================] - 0s 406us/step\n",
      "582/582 [==============================] - 0s 394us/step\n",
      "582/582 [==============================] - 0s 408us/step\n",
      "582/582 [==============================] - 0s 410us/step\n"
     ]
    },
    {
     "name": "stderr",
     "output_type": "stream",
     "text": [
      " 23%|███████████████████▎                                                               | 7/30 [05:57<19:27, 50.78s/it]"
     ]
    },
    {
     "name": "stdout",
     "output_type": "stream",
     "text": [
      "762/762 [==============================] - 0s 388us/step\n",
      "762/762 [==============================] - 0s 390us/step\n",
      "762/762 [==============================] - 0s 406us/step\n",
      "762/762 [==============================] - 0s 420us/step\n",
      "762/762 [==============================] - 0s 414us/step\n",
      "762/762 [==============================] - 0s 377us/step\n",
      "762/762 [==============================] - 0s 399us/step\n",
      "762/762 [==============================] - 0s 414us/step\n"
     ]
    },
    {
     "name": "stderr",
     "output_type": "stream",
     "text": [
      " 27%|██████████████████████▏                                                            | 8/30 [07:45<25:16, 68.94s/it]"
     ]
    },
    {
     "name": "stdout",
     "output_type": "stream",
     "text": [
      "393/393 [==============================] - 0s 370us/step\n",
      "393/393 [==============================] - 0s 401us/step\n",
      "393/393 [==============================] - 0s 406us/step\n",
      "393/393 [==============================] - 0s 434us/step\n",
      "393/393 [==============================] - 0s 375us/step\n",
      "393/393 [==============================] - 0s 411us/step\n",
      "393/393 [==============================] - 0s 411us/step\n",
      "393/393 [==============================] - 0s 408us/step\n"
     ]
    },
    {
     "name": "stderr",
     "output_type": "stream",
     "text": [
      " 30%|████████████████████████▉                                                          | 9/30 [08:53<24:06, 68.88s/it]"
     ]
    },
    {
     "name": "stdout",
     "output_type": "stream",
     "text": [
      "396/396 [==============================] - 0s 354us/step\n",
      "396/396 [==============================] - 0s 438us/step\n",
      "396/396 [==============================] - 0s 395us/step\n",
      "396/396 [==============================] - 0s 390us/step\n",
      "396/396 [==============================] - 0s 377us/step\n",
      "396/396 [==============================] - 0s 375us/step\n",
      "396/396 [==============================] - 0s 382us/step\n",
      "396/396 [==============================] - 0s 395us/step\n"
     ]
    },
    {
     "name": "stderr",
     "output_type": "stream",
     "text": [
      " 33%|███████████████████████████▎                                                      | 10/30 [09:45<21:11, 63.60s/it]"
     ]
    },
    {
     "name": "stdout",
     "output_type": "stream",
     "text": [
      "396/396 [==============================] - 0s 372us/step\n",
      "396/396 [==============================] - 0s 461us/step\n",
      "396/396 [==============================] - 0s 425us/step\n",
      "396/396 [==============================] - 0s 453us/step\n",
      "396/396 [==============================] - 0s 430us/step\n",
      "396/396 [==============================] - 0s 448us/step\n",
      "396/396 [==============================] - 0s 405us/step\n",
      "396/396 [==============================] - 0s 408us/step\n"
     ]
    },
    {
     "name": "stderr",
     "output_type": "stream",
     "text": [
      " 37%|██████████████████████████████                                                    | 11/30 [10:36<18:54, 59.69s/it]"
     ]
    },
    {
     "name": "stdout",
     "output_type": "stream",
     "text": [
      "582/582 [==============================] - 0s 386us/step\n",
      "582/582 [==============================] - 0s 386us/step\n",
      "582/582 [==============================] - 0s 389us/step\n",
      "582/582 [==============================] - 0s 466us/step\n",
      "582/582 [==============================] - 0s 399us/step\n",
      "582/582 [==============================] - 0s 411us/step\n",
      "582/582 [==============================] - 0s 417us/step\n",
      "582/582 [==============================] - 0s 444us/step\n"
     ]
    },
    {
     "name": "stderr",
     "output_type": "stream",
     "text": [
      " 40%|████████████████████████████████▊                                                 | 12/30 [12:01<20:11, 67.33s/it]"
     ]
    },
    {
     "name": "stdout",
     "output_type": "stream",
     "text": [
      "582/582 [==============================] - 0s 375us/step\n",
      "582/582 [==============================] - 0s 394us/step\n",
      "582/582 [==============================] - 0s 415us/step\n",
      "582/582 [==============================] - 0s 382us/step\n",
      "582/582 [==============================] - 0s 377us/step\n",
      "582/582 [==============================] - 0s 379us/step\n",
      "582/582 [==============================] - 0s 392us/step\n",
      "582/582 [==============================] - 0s 389us/step\n",
      "986/986 [==============================] - 0s 402us/step\n"
     ]
    },
    {
     "name": "stderr",
     "output_type": "stream",
     "text": [
      " 43%|███████████████████████████████████▌                                              | 13/30 [13:25<20:29, 72.33s/it]"
     ]
    },
    {
     "name": "stdout",
     "output_type": "stream",
     "text": [
      "980/980 [==============================] - 0s 409us/step\n",
      "980/980 [==============================] - 0s 429us/step\n",
      "980/980 [==============================] - 0s 415us/step\n",
      "980/980 [==============================] - 0s 418us/step\n",
      "980/980 [==============================] - 0s 406us/step\n",
      "980/980 [==============================] - 0s 437us/step\n",
      "980/980 [==============================] - 0s 419us/step\n",
      "980/980 [==============================] - 0s 425us/step\n"
     ]
    },
    {
     "name": "stderr",
     "output_type": "stream",
     "text": [
      " 47%|██████████████████████████████████████▎                                           | 14/30 [15:37<24:08, 90.54s/it]"
     ]
    },
    {
     "name": "stdout",
     "output_type": "stream",
     "text": [
      "791/791 [==============================] - 0s 375us/step\n",
      "791/791 [==============================] - 0s 387us/step\n",
      "791/791 [==============================] - 0s 403us/step\n",
      "791/791 [==============================] - 0s 443us/step\n",
      "791/791 [==============================] - 0s 463us/step\n",
      "791/791 [==============================] - 0s 459us/step\n",
      "791/791 [==============================] - 0s 480us/step\n",
      "791/791 [==============================] - 0s 459us/step\n"
     ]
    },
    {
     "name": "stderr",
     "output_type": "stream",
     "text": [
      " 50%|█████████████████████████████████████████                                         | 15/30 [17:06<22:27, 89.83s/it]"
     ]
    },
    {
     "name": "stdout",
     "output_type": "stream",
     "text": [
      "207/207 [==============================] - 0s 384us/step\n",
      "207/207 [==============================] - 0s 388us/step\n",
      "207/207 [==============================] - 0s 403us/step\n",
      "207/207 [==============================] - 0s 417us/step\n",
      "207/207 [==============================] - 0s 398us/step\n",
      "207/207 [==============================] - 0s 403us/step\n",
      "207/207 [==============================] - 0s 408us/step\n",
      "207/207 [==============================] - 0s 417us/step\n"
     ]
    },
    {
     "name": "stderr",
     "output_type": "stream",
     "text": [
      " 53%|███████████████████████████████████████████▋                                      | 16/30 [17:29<16:19, 69.96s/it]"
     ]
    },
    {
     "name": "stdout",
     "output_type": "stream",
     "text": [
      "208/208 [==============================] - 0s 444us/step\n",
      "208/208 [==============================] - 0s 430us/step\n",
      "208/208 [==============================] - 0s 435us/step\n",
      "208/208 [==============================] - 0s 435us/step\n",
      "208/208 [==============================] - 0s 512us/step\n",
      "208/208 [==============================] - 0s 372us/step\n",
      "208/208 [==============================] - 0s 396us/step\n",
      "208/208 [==============================] - 0s 396us/step\n"
     ]
    },
    {
     "name": "stderr",
     "output_type": "stream",
     "text": [
      " 57%|██████████████████████████████████████████████▍                                   | 17/30 [17:55<12:16, 56.63s/it]"
     ]
    },
    {
     "name": "stdout",
     "output_type": "stream",
     "text": [
      "978/978 [==============================] - 0s 388us/step\n",
      "978/978 [==============================] - 0s 392us/step\n",
      "978/978 [==============================] - 0s 403us/step\n",
      "978/978 [==============================] - 0s 400us/step\n",
      "978/978 [==============================] - 0s 394us/step\n",
      "978/978 [==============================] - 0s 390us/step\n",
      "978/978 [==============================] - 0s 403us/step\n",
      "978/978 [==============================] - 0s 407us/step\n"
     ]
    },
    {
     "name": "stderr",
     "output_type": "stream",
     "text": [
      " 60%|█████████████████████████████████████████████████▏                                | 18/30 [20:20<16:38, 83.21s/it]"
     ]
    },
    {
     "name": "stdout",
     "output_type": "stream",
     "text": [
      "582/582 [==============================] - 0s 392us/step\n",
      "582/582 [==============================] - 0s 389us/step\n",
      "582/582 [==============================] - 0s 396us/step\n",
      "582/582 [==============================] - 0s 396us/step\n",
      "582/582 [==============================] - 0s 396us/step\n",
      "582/582 [==============================] - 0s 403us/step\n",
      "582/582 [==============================] - 0s 410us/step\n",
      "582/582 [==============================] - 0s 413us/step\n"
     ]
    },
    {
     "name": "stderr",
     "output_type": "stream",
     "text": [
      " 63%|███████████████████████████████████████████████████▉                              | 19/30 [21:37<14:55, 81.42s/it]"
     ]
    },
    {
     "name": "stdout",
     "output_type": "stream",
     "text": [
      "762/762 [==============================] - 0s 426us/step\n",
      "762/762 [==============================] - 0s 523us/step\n",
      "762/762 [==============================] - 0s 499us/step\n",
      "762/762 [==============================] - 0s 423us/step\n",
      "762/762 [==============================] - 0s 406us/step\n",
      "762/762 [==============================] - 0s 392us/step\n",
      "762/762 [==============================] - 0s 414us/step\n",
      "762/762 [==============================] - 0s 406us/step\n"
     ]
    },
    {
     "name": "stderr",
     "output_type": "stream",
     "text": [
      " 67%|██████████████████████████████████████████████████████▋                           | 20/30 [23:30<15:09, 90.91s/it]"
     ]
    },
    {
     "name": "stdout",
     "output_type": "stream",
     "text": [
      "393/393 [==============================] - 0s 401us/step\n",
      "393/393 [==============================] - 0s 480us/step\n",
      "393/393 [==============================] - 0s 383us/step\n",
      "393/393 [==============================] - 0s 454us/step\n",
      "393/393 [==============================] - 0s 413us/step\n",
      "393/393 [==============================] - 0s 375us/step\n",
      "393/393 [==============================] - 0s 383us/step\n",
      "393/393 [==============================] - 0s 385us/step\n"
     ]
    },
    {
     "name": "stderr",
     "output_type": "stream",
     "text": [
      " 70%|█████████████████████████████████████████████████████████▍                        | 21/30 [24:38<12:36, 84.05s/it]"
     ]
    },
    {
     "name": "stdout",
     "output_type": "stream",
     "text": [
      "277/277 [==============================] - 0s 376us/step\n",
      "277/277 [==============================] - 0s 399us/step\n",
      "277/277 [==============================] - 0s 399us/step\n",
      "277/277 [==============================] - 0s 409us/step\n",
      "277/277 [==============================] - 0s 395us/step\n",
      "277/277 [==============================] - 0s 391us/step\n",
      "277/277 [==============================] - 0s 402us/step\n",
      "277/277 [==============================] - 0s 424us/step\n"
     ]
    },
    {
     "name": "stderr",
     "output_type": "stream",
     "text": [
      " 77%|██████████████████████████████████████████████████████████████▊                   | 23/30 [25:07<06:03, 51.90s/it]"
     ]
    },
    {
     "name": "stdout",
     "output_type": "stream",
     "text": [
      "589/589 [==============================] - 0s 401us/step\n",
      "589/589 [==============================] - 0s 388us/step\n",
      "589/589 [==============================] - 0s 396us/step\n",
      "589/589 [==============================] - 0s 403us/step\n",
      "589/589 [==============================] - 0s 410us/step\n",
      "589/589 [==============================] - 0s 425us/step\n",
      "589/589 [==============================] - 0s 417us/step\n",
      "589/589 [==============================] - 0s 440us/step\n"
     ]
    },
    {
     "name": "stderr",
     "output_type": "stream",
     "text": [
      " 80%|█████████████████████████████████████████████████████████████████▌                | 24/30 [25:56<05:06, 51.08s/it]C:\\Users\\anchi\\miniconda3\\envs\\torch\\lib\\site-packages\\sklearn\\linear_model\\_coordinate_descent.py:631: ConvergenceWarning: Objective did not converge. You might want to increase the number of iterations, check the scale of the features or consider increasing regularisation. Duality gap: 2.111e+06, tolerance: 1.173e+06\n",
      "  model = cd_fast.enet_coordinate_descent(\n"
     ]
    },
    {
     "name": "stdout",
     "output_type": "stream",
     "text": [
      "582/582 [==============================] - 0s 380us/step\n",
      "582/582 [==============================] - 0s 403us/step\n",
      "582/582 [==============================] - 0s 418us/step\n",
      "582/582 [==============================] - 0s 422us/step\n",
      "582/582 [==============================] - 0s 391us/step\n",
      "582/582 [==============================] - 0s 392us/step\n",
      "582/582 [==============================] - 0s 425us/step\n",
      "582/582 [==============================] - 0s 399us/step\n"
     ]
    },
    {
     "name": "stderr",
     "output_type": "stream",
     "text": [
      " 83%|████████████████████████████████████████████████████████████████████▎             | 25/30 [27:23<05:02, 60.54s/it]"
     ]
    },
    {
     "name": "stdout",
     "output_type": "stream",
     "text": [
      "983/983 [==============================] - 0s 440us/step\n",
      "983/983 [==============================] - 0s 422us/step\n",
      "983/983 [==============================] - 0s 391us/step\n",
      "983/983 [==============================] - 0s 418us/step\n",
      "983/983 [==============================] - 0s 397us/step\n",
      "983/983 [==============================] - 0s 399us/step\n",
      "983/983 [==============================] - 0s 388us/step\n",
      "983/983 [==============================] - 0s 402us/step\n"
     ]
    },
    {
     "name": "stderr",
     "output_type": "stream",
     "text": [
      " 87%|███████████████████████████████████████████████████████████████████████           | 26/30 [30:32<06:22, 95.53s/it]"
     ]
    },
    {
     "name": "stdout",
     "output_type": "stream",
     "text": [
      "983/983 [==============================] - 0s 369us/step\n",
      "983/983 [==============================] - 0s 382us/step\n",
      "983/983 [==============================] - 0s 386us/step\n",
      "983/983 [==============================] - 0s 396us/step\n",
      "983/983 [==============================] - 0s 388us/step\n",
      "983/983 [==============================] - 0s 401us/step\n",
      "983/983 [==============================] - 0s 426us/step\n",
      "983/983 [==============================] - 0s 425us/step\n"
     ]
    },
    {
     "name": "stderr",
     "output_type": "stream",
     "text": [
      " 90%|████████████████████████████████████████████████████████████████████████▉        | 27/30 [33:51<06:13, 124.46s/it]"
     ]
    },
    {
     "name": "stdout",
     "output_type": "stream",
     "text": [
      "186/186 [==============================] - 0s 389us/step\n",
      "186/186 [==============================] - 0s 422us/step\n",
      "186/186 [==============================] - 0s 427us/step\n",
      "186/186 [==============================] - 0s 427us/step\n",
      "186/186 [==============================] - 0s 416us/step\n",
      "186/186 [==============================] - 0s 432us/step\n",
      "186/186 [==============================] - 0s 422us/step\n",
      "186/186 [==============================] - 0s 427us/step\n"
     ]
    },
    {
     "name": "stderr",
     "output_type": "stream",
     "text": [
      " 93%|████████████████████████████████████████████████████████████████████████████▌     | 28/30 [34:27<03:18, 99.30s/it]"
     ]
    },
    {
     "name": "stdout",
     "output_type": "stream",
     "text": [
      "249/249 [==============================] - 0s 399us/step\n",
      "249/249 [==============================] - 0s 415us/step\n",
      "249/249 [==============================] - 0s 423us/step\n",
      "249/249 [==============================] - 0s 472us/step\n",
      "249/249 [==============================] - 0s 411us/step\n",
      "249/249 [==============================] - 0s 375us/step\n",
      "249/249 [==============================] - 0s 415us/step\n",
      "249/249 [==============================] - 0s 387us/step\n"
     ]
    },
    {
     "name": "stderr",
     "output_type": "stream",
     "text": [
      " 97%|███████████████████████████████████████████████████████████████████████████████▎  | 29/30 [35:01<01:20, 80.25s/it]C:\\Users\\anchi\\miniconda3\\envs\\torch\\lib\\site-packages\\sklearn\\linear_model\\_coordinate_descent.py:631: ConvergenceWarning: Objective did not converge. You might want to increase the number of iterations, check the scale of the features or consider increasing regularisation. Duality gap: 1.364e+06, tolerance: 1.096e+05\n",
      "  model = cd_fast.enet_coordinate_descent(\n"
     ]
    },
    {
     "name": "stdout",
     "output_type": "stream",
     "text": [
      "777/777 [==============================] - 0s 376us/step\n",
      "777/777 [==============================] - 0s 384us/step\n",
      "777/777 [==============================] - 0s 405us/step\n",
      "777/777 [==============================] - 0s 394us/step\n",
      "777/777 [==============================] - 0s 389us/step\n",
      "777/777 [==============================] - 0s 381us/step\n",
      "777/777 [==============================] - 0s 394us/step\n",
      "777/777 [==============================] - 0s 401us/step\n"
     ]
    },
    {
     "name": "stderr",
     "output_type": "stream",
     "text": [
      "100%|██████████████████████████████████████████████████████████████████████████████████| 30/30 [37:48<00:00, 75.62s/it]\n"
     ]
    }
   ],
   "source": [
    "predict, er = pd.DataFrame([]), pd.DataFrame([])\n",
    "\n",
    "# Перебираем каждый таргет, стратегия обучения: обучаемся только на тех значениях таргета, где нет пропусков.\n",
    "# Для этого формируется X_train, y_train для якаждого таргета отдельно\n",
    "# и на них производится подгонка моделей\n",
    "for target in tqdm(targets):\n",
    "    if target == 'VSVNOM':\n",
    "        predict[target] = 0\n",
    "        continue\n",
    "    \n",
    "  # Обучаем только на непустых данных в таргете\n",
    "    y_train_ = y_train[y_train[target].notna()]\n",
    "    X_train_ = X_train[y_train[target].notna()]\n",
    "\n",
    "    y_test_ = y_test[y_test[target].notna()]\n",
    "    X_test_ = X_test[y_test[target].notna()]\n",
    "\n",
    "    # Обучение семейства моделей\n",
    "    mt = Trainer(targets=[target], models=models)\n",
    "    mt.fit(X_train_, y_train_, X_test_, y_test_)\n",
    "\n",
    "    # Вычисление метрики для каждой модели\n",
    "    predicts_models = mt.predictModels(X_test_)\n",
    "    # Лучшая модель и лучшая метрика\n",
    "    er[target] = mt.countModelTargetMetric(y_test_)\n",
    "\n",
    "    # На лучшей модели предсказываем тестовую выборку\n",
    "    predict[target] = mt.predict(X_test)"
   ]
  },
  {
   "cell_type": "code",
   "execution_count": 31,
   "id": "2d2ebbb0-e3ee-42bc-b563-1340050021cc",
   "metadata": {},
   "outputs": [
    {
     "data": {
      "text/html": [
       "<div>\n",
       "<style scoped>\n",
       "    .dataframe tbody tr th:only-of-type {\n",
       "        vertical-align: middle;\n",
       "    }\n",
       "\n",
       "    .dataframe tbody tr th {\n",
       "        vertical-align: top;\n",
       "    }\n",
       "\n",
       "    .dataframe thead th {\n",
       "        text-align: right;\n",
       "    }\n",
       "</style>\n",
       "<table border=\"1\" class=\"dataframe\">\n",
       "  <thead>\n",
       "    <tr style=\"text-align: right;\">\n",
       "      <th></th>\n",
       "      <th>BRAT</th>\n",
       "      <th>DEGT</th>\n",
       "      <th>DELFN</th>\n",
       "      <th>DELN1</th>\n",
       "      <th>DELVSV</th>\n",
       "      <th>DPOIL</th>\n",
       "      <th>EGTC</th>\n",
       "      <th>EGTHDM</th>\n",
       "      <th>EGTHDM_D</th>\n",
       "      <th>GEGTMC</th>\n",
       "      <th>...</th>\n",
       "      <th>SLOATL</th>\n",
       "      <th>SLOATL_D</th>\n",
       "      <th>WBE</th>\n",
       "      <th>WBI</th>\n",
       "      <th>WFMP</th>\n",
       "      <th>ZPCN25_D</th>\n",
       "      <th>ZT49_D</th>\n",
       "      <th>ZTLA_D</th>\n",
       "      <th>ZTNAC_D</th>\n",
       "      <th>ZWF36_D</th>\n",
       "    </tr>\n",
       "  </thead>\n",
       "  <tbody>\n",
       "    <tr>\n",
       "      <th>best_metric</th>\n",
       "      <td>0.01808</td>\n",
       "      <td>2.458829</td>\n",
       "      <td>0.830275</td>\n",
       "      <td>0.420591</td>\n",
       "      <td>0.0</td>\n",
       "      <td>0.088686</td>\n",
       "      <td>2.155804</td>\n",
       "      <td>4.406377</td>\n",
       "      <td>4.698307</td>\n",
       "      <td>3.310201</td>\n",
       "      <td>...</td>\n",
       "      <td>1.560646</td>\n",
       "      <td>1.373987</td>\n",
       "      <td>0.188472</td>\n",
       "      <td>0.021149</td>\n",
       "      <td>20.677444</td>\n",
       "      <td>0.507528</td>\n",
       "      <td>7.255487</td>\n",
       "      <td>0.058014</td>\n",
       "      <td>2.334166</td>\n",
       "      <td>102.975009</td>\n",
       "    </tr>\n",
       "    <tr>\n",
       "      <th>best_model</th>\n",
       "      <td>catboost</td>\n",
       "      <td>neuro3</td>\n",
       "      <td>catboost</td>\n",
       "      <td>catboost</td>\n",
       "      <td>linear</td>\n",
       "      <td>catboost</td>\n",
       "      <td>XGB</td>\n",
       "      <td>XGB</td>\n",
       "      <td>random_tree</td>\n",
       "      <td>catboost</td>\n",
       "      <td>...</td>\n",
       "      <td>XGB</td>\n",
       "      <td>random_tree</td>\n",
       "      <td>linear</td>\n",
       "      <td>XGB</td>\n",
       "      <td>catboost</td>\n",
       "      <td>random_tree</td>\n",
       "      <td>random_tree</td>\n",
       "      <td>random_tree</td>\n",
       "      <td>random_tree</td>\n",
       "      <td>ARD</td>\n",
       "    </tr>\n",
       "  </tbody>\n",
       "</table>\n",
       "<p>2 rows × 29 columns</p>\n",
       "</div>"
      ],
      "text/plain": [
       "                 BRAT      DEGT     DELFN     DELN1  DELVSV     DPOIL  \\\n",
       "best_metric   0.01808  2.458829  0.830275  0.420591     0.0  0.088686   \n",
       "best_model   catboost    neuro3  catboost  catboost  linear  catboost   \n",
       "\n",
       "                 EGTC    EGTHDM     EGTHDM_D    GEGTMC  ...    SLOATL  \\\n",
       "best_metric  2.155804  4.406377     4.698307  3.310201  ...  1.560646   \n",
       "best_model        XGB       XGB  random_tree  catboost  ...       XGB   \n",
       "\n",
       "                SLOATL_D       WBE       WBI       WFMP     ZPCN25_D  \\\n",
       "best_metric     1.373987  0.188472  0.021149  20.677444     0.507528   \n",
       "best_model   random_tree    linear       XGB   catboost  random_tree   \n",
       "\n",
       "                  ZT49_D       ZTLA_D      ZTNAC_D     ZWF36_D  \n",
       "best_metric     7.255487     0.058014     2.334166  102.975009  \n",
       "best_model   random_tree  random_tree  random_tree         ARD  \n",
       "\n",
       "[2 rows x 29 columns]"
      ]
     },
     "execution_count": 31,
     "metadata": {},
     "output_type": "execute_result"
    }
   ],
   "source": [
    "er"
   ]
  },
  {
   "cell_type": "code",
   "execution_count": 32,
   "id": "7d41d489-5c57-4e22-8c3c-733a7893c20f",
   "metadata": {},
   "outputs": [
    {
     "data": {
      "text/plain": [
       "BRAT           0.01808\n",
       "DEGT          2.458829\n",
       "DELFN         0.830275\n",
       "DELN1         0.420591\n",
       "DELVSV             0.0\n",
       "DPOIL         0.088686\n",
       "EGTC          2.155804\n",
       "EGTHDM        4.406377\n",
       "EGTHDM_D      4.698307\n",
       "GEGTMC        3.310201\n",
       "GN2MC         0.114446\n",
       "GPCN25        0.099915\n",
       "GWFM          0.539968\n",
       "PCN12         0.079762\n",
       "PCN12I        0.006332\n",
       "PCN1AR        0.091827\n",
       "PCN1BR        1.842012\n",
       "PCN1K         0.119717\n",
       "PCN2C         0.093909\n",
       "SLOATL        1.560646\n",
       "SLOATL_D      1.373987\n",
       "WBE           0.188472\n",
       "WBI           0.021149\n",
       "WFMP         20.677444\n",
       "ZPCN25_D      0.507528\n",
       "ZT49_D        7.255487\n",
       "ZTLA_D        0.058014\n",
       "ZTNAC_D       2.334166\n",
       "ZWF36_D     102.975009\n",
       "Name: best_metric, dtype: object"
      ]
     },
     "execution_count": 32,
     "metadata": {},
     "output_type": "execute_result"
    }
   ],
   "source": [
    "er.iloc[0]"
   ]
  },
  {
   "cell_type": "code",
   "execution_count": 33,
   "id": "49d06646-5f0c-46d9-aeb7-9e4180257a41",
   "metadata": {},
   "outputs": [
    {
     "data": {
      "text/plain": [
       "BRAT           catboost\n",
       "DEGT             neuro3\n",
       "DELFN          catboost\n",
       "DELN1          catboost\n",
       "DELVSV           linear\n",
       "DPOIL          catboost\n",
       "EGTC                XGB\n",
       "EGTHDM              XGB\n",
       "EGTHDM_D    random_tree\n",
       "GEGTMC         catboost\n",
       "GN2MC               XGB\n",
       "GPCN25              XGB\n",
       "GWFM             neuro7\n",
       "PCN12       random_tree\n",
       "PCN12I           linear\n",
       "PCN1AR           linear\n",
       "PCN1BR         catboost\n",
       "PCN1K            linear\n",
       "PCN2C               XGB\n",
       "SLOATL              XGB\n",
       "SLOATL_D    random_tree\n",
       "WBE              linear\n",
       "WBI                 XGB\n",
       "WFMP           catboost\n",
       "ZPCN25_D    random_tree\n",
       "ZT49_D      random_tree\n",
       "ZTLA_D      random_tree\n",
       "ZTNAC_D     random_tree\n",
       "ZWF36_D             ARD\n",
       "Name: best_model, dtype: object"
      ]
     },
     "execution_count": 33,
     "metadata": {},
     "output_type": "execute_result"
    }
   ],
   "source": [
    "er.iloc[1]"
   ]
  },
  {
   "cell_type": "code",
   "execution_count": 34,
   "id": "7551052b-b172-43a9-bc82-47560f99f774",
   "metadata": {},
   "outputs": [
    {
     "data": {
      "text/html": [
       "<div>\n",
       "<style scoped>\n",
       "    .dataframe tbody tr th:only-of-type {\n",
       "        vertical-align: middle;\n",
       "    }\n",
       "\n",
       "    .dataframe tbody tr th {\n",
       "        vertical-align: top;\n",
       "    }\n",
       "\n",
       "    .dataframe thead th {\n",
       "        text-align: right;\n",
       "    }\n",
       "</style>\n",
       "<table border=\"1\" class=\"dataframe\">\n",
       "  <thead>\n",
       "    <tr style=\"text-align: right;\">\n",
       "      <th></th>\n",
       "      <th>BRAT</th>\n",
       "      <th>DEGT</th>\n",
       "      <th>DELFN</th>\n",
       "      <th>DELN1</th>\n",
       "      <th>DELVSV</th>\n",
       "      <th>DPOIL</th>\n",
       "      <th>EGTC</th>\n",
       "      <th>EGTHDM</th>\n",
       "      <th>EGTHDM_D</th>\n",
       "      <th>GEGTMC</th>\n",
       "      <th>...</th>\n",
       "      <th>SLOATL_D</th>\n",
       "      <th>VSVNOM</th>\n",
       "      <th>WBE</th>\n",
       "      <th>WBI</th>\n",
       "      <th>WFMP</th>\n",
       "      <th>ZPCN25_D</th>\n",
       "      <th>ZT49_D</th>\n",
       "      <th>ZTLA_D</th>\n",
       "      <th>ZTNAC_D</th>\n",
       "      <th>ZWF36_D</th>\n",
       "    </tr>\n",
       "  </thead>\n",
       "  <tbody>\n",
       "    <tr>\n",
       "      <th>0</th>\n",
       "      <td>1.000175</td>\n",
       "      <td>21.066998</td>\n",
       "      <td>2.134039</td>\n",
       "      <td>1.176914</td>\n",
       "      <td>-99.895439</td>\n",
       "      <td>-16.362314</td>\n",
       "      <td>685.519531</td>\n",
       "      <td>54.524586</td>\n",
       "      <td>2.499799</td>\n",
       "      <td>61.943516</td>\n",
       "      <td>...</td>\n",
       "      <td>0.913335</td>\n",
       "      <td>0</td>\n",
       "      <td>-100.512665</td>\n",
       "      <td>1.000129</td>\n",
       "      <td>2941.734840</td>\n",
       "      <td>0.011098</td>\n",
       "      <td>4.543624</td>\n",
       "      <td>0.168460</td>\n",
       "      <td>-12.390</td>\n",
       "      <td>45.848853</td>\n",
       "    </tr>\n",
       "    <tr>\n",
       "      <th>1</th>\n",
       "      <td>1.000726</td>\n",
       "      <td>89.264008</td>\n",
       "      <td>25.596153</td>\n",
       "      <td>10.022538</td>\n",
       "      <td>-99.884918</td>\n",
       "      <td>-24.560862</td>\n",
       "      <td>682.221558</td>\n",
       "      <td>68.596138</td>\n",
       "      <td>3.936192</td>\n",
       "      <td>100.500997</td>\n",
       "      <td>...</td>\n",
       "      <td>1.077729</td>\n",
       "      <td>0</td>\n",
       "      <td>-100.046713</td>\n",
       "      <td>0.995239</td>\n",
       "      <td>1864.587425</td>\n",
       "      <td>0.023550</td>\n",
       "      <td>-3.815000</td>\n",
       "      <td>-0.065153</td>\n",
       "      <td>-12.480</td>\n",
       "      <td>-6141.671125</td>\n",
       "    </tr>\n",
       "    <tr>\n",
       "      <th>2</th>\n",
       "      <td>0.829180</td>\n",
       "      <td>103.321960</td>\n",
       "      <td>23.012092</td>\n",
       "      <td>10.068256</td>\n",
       "      <td>-99.992834</td>\n",
       "      <td>-25.032132</td>\n",
       "      <td>765.377075</td>\n",
       "      <td>16.239119</td>\n",
       "      <td>-5.158621</td>\n",
       "      <td>110.787649</td>\n",
       "      <td>...</td>\n",
       "      <td>-1.436748</td>\n",
       "      <td>0</td>\n",
       "      <td>1.325336</td>\n",
       "      <td>-0.062388</td>\n",
       "      <td>2001.227968</td>\n",
       "      <td>-0.083499</td>\n",
       "      <td>5.457500</td>\n",
       "      <td>-0.070465</td>\n",
       "      <td>-9.240</td>\n",
       "      <td>-9737.651582</td>\n",
       "    </tr>\n",
       "    <tr>\n",
       "      <th>3</th>\n",
       "      <td>1.000644</td>\n",
       "      <td>39.361794</td>\n",
       "      <td>26.352707</td>\n",
       "      <td>9.994380</td>\n",
       "      <td>-99.891474</td>\n",
       "      <td>-29.037787</td>\n",
       "      <td>623.293152</td>\n",
       "      <td>59.431934</td>\n",
       "      <td>1.338943</td>\n",
       "      <td>75.997324</td>\n",
       "      <td>...</td>\n",
       "      <td>0.572644</td>\n",
       "      <td>0</td>\n",
       "      <td>-100.057872</td>\n",
       "      <td>0.953310</td>\n",
       "      <td>1751.634920</td>\n",
       "      <td>0.012950</td>\n",
       "      <td>-1.116375</td>\n",
       "      <td>-0.075465</td>\n",
       "      <td>-24.475</td>\n",
       "      <td>-6091.783093</td>\n",
       "    </tr>\n",
       "    <tr>\n",
       "      <th>4</th>\n",
       "      <td>0.999814</td>\n",
       "      <td>19.549049</td>\n",
       "      <td>13.571496</td>\n",
       "      <td>5.329567</td>\n",
       "      <td>-99.862831</td>\n",
       "      <td>-9.835358</td>\n",
       "      <td>608.535767</td>\n",
       "      <td>59.398678</td>\n",
       "      <td>-1.434134</td>\n",
       "      <td>63.555294</td>\n",
       "      <td>...</td>\n",
       "      <td>-0.563012</td>\n",
       "      <td>0</td>\n",
       "      <td>-100.524566</td>\n",
       "      <td>0.999870</td>\n",
       "      <td>2656.897736</td>\n",
       "      <td>-0.045852</td>\n",
       "      <td>1.613001</td>\n",
       "      <td>-0.072761</td>\n",
       "      <td>-9.370</td>\n",
       "      <td>-19.950926</td>\n",
       "    </tr>\n",
       "    <tr>\n",
       "      <th>...</th>\n",
       "      <td>...</td>\n",
       "      <td>...</td>\n",
       "      <td>...</td>\n",
       "      <td>...</td>\n",
       "      <td>...</td>\n",
       "      <td>...</td>\n",
       "      <td>...</td>\n",
       "      <td>...</td>\n",
       "      <td>...</td>\n",
       "      <td>...</td>\n",
       "      <td>...</td>\n",
       "      <td>...</td>\n",
       "      <td>...</td>\n",
       "      <td>...</td>\n",
       "      <td>...</td>\n",
       "      <td>...</td>\n",
       "      <td>...</td>\n",
       "      <td>...</td>\n",
       "      <td>...</td>\n",
       "      <td>...</td>\n",
       "      <td>...</td>\n",
       "    </tr>\n",
       "    <tr>\n",
       "      <th>31540</th>\n",
       "      <td>0.897784</td>\n",
       "      <td>-15.495076</td>\n",
       "      <td>24.007271</td>\n",
       "      <td>7.011810</td>\n",
       "      <td>2.600000</td>\n",
       "      <td>-23.005313</td>\n",
       "      <td>617.952637</td>\n",
       "      <td>52.417660</td>\n",
       "      <td>-3.646802</td>\n",
       "      <td>127.436805</td>\n",
       "      <td>...</td>\n",
       "      <td>-1.263120</td>\n",
       "      <td>0</td>\n",
       "      <td>0.906133</td>\n",
       "      <td>-0.106245</td>\n",
       "      <td>2679.530868</td>\n",
       "      <td>0.030500</td>\n",
       "      <td>-0.434000</td>\n",
       "      <td>-0.100106</td>\n",
       "      <td>6.980</td>\n",
       "      <td>22.081993</td>\n",
       "    </tr>\n",
       "    <tr>\n",
       "      <th>31541</th>\n",
       "      <td>0.998770</td>\n",
       "      <td>98.504089</td>\n",
       "      <td>29.427172</td>\n",
       "      <td>12.635685</td>\n",
       "      <td>-99.881447</td>\n",
       "      <td>-24.900737</td>\n",
       "      <td>717.009216</td>\n",
       "      <td>54.710175</td>\n",
       "      <td>13.572297</td>\n",
       "      <td>107.159274</td>\n",
       "      <td>...</td>\n",
       "      <td>4.350543</td>\n",
       "      <td>0</td>\n",
       "      <td>-100.043829</td>\n",
       "      <td>0.947544</td>\n",
       "      <td>1857.697773</td>\n",
       "      <td>0.011700</td>\n",
       "      <td>-13.040000</td>\n",
       "      <td>0.155777</td>\n",
       "      <td>-13.700</td>\n",
       "      <td>-6260.204282</td>\n",
       "    </tr>\n",
       "    <tr>\n",
       "      <th>31542</th>\n",
       "      <td>0.850253</td>\n",
       "      <td>-7.145951</td>\n",
       "      <td>14.030199</td>\n",
       "      <td>2.499326</td>\n",
       "      <td>0.500000</td>\n",
       "      <td>-20.717606</td>\n",
       "      <td>662.883667</td>\n",
       "      <td>20.285725</td>\n",
       "      <td>-5.401985</td>\n",
       "      <td>62.891638</td>\n",
       "      <td>...</td>\n",
       "      <td>-1.916446</td>\n",
       "      <td>0</td>\n",
       "      <td>1.120222</td>\n",
       "      <td>-0.145456</td>\n",
       "      <td>3441.479640</td>\n",
       "      <td>0.137000</td>\n",
       "      <td>-3.316506</td>\n",
       "      <td>-0.099348</td>\n",
       "      <td>-0.810</td>\n",
       "      <td>22.298622</td>\n",
       "    </tr>\n",
       "    <tr>\n",
       "      <th>31543</th>\n",
       "      <td>1.000231</td>\n",
       "      <td>15.884512</td>\n",
       "      <td>21.480439</td>\n",
       "      <td>6.721228</td>\n",
       "      <td>-2.217322</td>\n",
       "      <td>-2.456640</td>\n",
       "      <td>726.507568</td>\n",
       "      <td>0.656551</td>\n",
       "      <td>-13.910918</td>\n",
       "      <td>17.341714</td>\n",
       "      <td>...</td>\n",
       "      <td>-3.613490</td>\n",
       "      <td>0</td>\n",
       "      <td>-163.262822</td>\n",
       "      <td>0.000063</td>\n",
       "      <td>1700.738936</td>\n",
       "      <td>-0.017577</td>\n",
       "      <td>0.407500</td>\n",
       "      <td>-0.030626</td>\n",
       "      <td>-12.915</td>\n",
       "      <td>6.618471</td>\n",
       "    </tr>\n",
       "    <tr>\n",
       "      <th>31544</th>\n",
       "      <td>0.891607</td>\n",
       "      <td>-18.863302</td>\n",
       "      <td>24.927344</td>\n",
       "      <td>7.898667</td>\n",
       "      <td>3.000000</td>\n",
       "      <td>-24.249468</td>\n",
       "      <td>604.667542</td>\n",
       "      <td>66.896263</td>\n",
       "      <td>-4.809477</td>\n",
       "      <td>132.368459</td>\n",
       "      <td>...</td>\n",
       "      <td>-1.868594</td>\n",
       "      <td>0</td>\n",
       "      <td>0.953918</td>\n",
       "      <td>-0.106433</td>\n",
       "      <td>2483.799052</td>\n",
       "      <td>0.061499</td>\n",
       "      <td>6.970998</td>\n",
       "      <td>-0.103544</td>\n",
       "      <td>-10.840</td>\n",
       "      <td>21.000547</td>\n",
       "    </tr>\n",
       "  </tbody>\n",
       "</table>\n",
       "<p>31545 rows × 30 columns</p>\n",
       "</div>"
      ],
      "text/plain": [
       "           BRAT        DEGT      DELFN      DELN1     DELVSV      DPOIL  \\\n",
       "0      1.000175   21.066998   2.134039   1.176914 -99.895439 -16.362314   \n",
       "1      1.000726   89.264008  25.596153  10.022538 -99.884918 -24.560862   \n",
       "2      0.829180  103.321960  23.012092  10.068256 -99.992834 -25.032132   \n",
       "3      1.000644   39.361794  26.352707   9.994380 -99.891474 -29.037787   \n",
       "4      0.999814   19.549049  13.571496   5.329567 -99.862831  -9.835358   \n",
       "...         ...         ...        ...        ...        ...        ...   \n",
       "31540  0.897784  -15.495076  24.007271   7.011810   2.600000 -23.005313   \n",
       "31541  0.998770   98.504089  29.427172  12.635685 -99.881447 -24.900737   \n",
       "31542  0.850253   -7.145951  14.030199   2.499326   0.500000 -20.717606   \n",
       "31543  1.000231   15.884512  21.480439   6.721228  -2.217322  -2.456640   \n",
       "31544  0.891607  -18.863302  24.927344   7.898667   3.000000 -24.249468   \n",
       "\n",
       "             EGTC     EGTHDM   EGTHDM_D      GEGTMC  ...  SLOATL_D  VSVNOM  \\\n",
       "0      685.519531  54.524586   2.499799   61.943516  ...  0.913335       0   \n",
       "1      682.221558  68.596138   3.936192  100.500997  ...  1.077729       0   \n",
       "2      765.377075  16.239119  -5.158621  110.787649  ... -1.436748       0   \n",
       "3      623.293152  59.431934   1.338943   75.997324  ...  0.572644       0   \n",
       "4      608.535767  59.398678  -1.434134   63.555294  ... -0.563012       0   \n",
       "...           ...        ...        ...         ...  ...       ...     ...   \n",
       "31540  617.952637  52.417660  -3.646802  127.436805  ... -1.263120       0   \n",
       "31541  717.009216  54.710175  13.572297  107.159274  ...  4.350543       0   \n",
       "31542  662.883667  20.285725  -5.401985   62.891638  ... -1.916446       0   \n",
       "31543  726.507568   0.656551 -13.910918   17.341714  ... -3.613490       0   \n",
       "31544  604.667542  66.896263  -4.809477  132.368459  ... -1.868594       0   \n",
       "\n",
       "              WBE       WBI         WFMP  ZPCN25_D     ZT49_D    ZTLA_D  \\\n",
       "0     -100.512665  1.000129  2941.734840  0.011098   4.543624  0.168460   \n",
       "1     -100.046713  0.995239  1864.587425  0.023550  -3.815000 -0.065153   \n",
       "2        1.325336 -0.062388  2001.227968 -0.083499   5.457500 -0.070465   \n",
       "3     -100.057872  0.953310  1751.634920  0.012950  -1.116375 -0.075465   \n",
       "4     -100.524566  0.999870  2656.897736 -0.045852   1.613001 -0.072761   \n",
       "...           ...       ...          ...       ...        ...       ...   \n",
       "31540    0.906133 -0.106245  2679.530868  0.030500  -0.434000 -0.100106   \n",
       "31541 -100.043829  0.947544  1857.697773  0.011700 -13.040000  0.155777   \n",
       "31542    1.120222 -0.145456  3441.479640  0.137000  -3.316506 -0.099348   \n",
       "31543 -163.262822  0.000063  1700.738936 -0.017577   0.407500 -0.030626   \n",
       "31544    0.953918 -0.106433  2483.799052  0.061499   6.970998 -0.103544   \n",
       "\n",
       "       ZTNAC_D      ZWF36_D  \n",
       "0      -12.390    45.848853  \n",
       "1      -12.480 -6141.671125  \n",
       "2       -9.240 -9737.651582  \n",
       "3      -24.475 -6091.783093  \n",
       "4       -9.370   -19.950926  \n",
       "...        ...          ...  \n",
       "31540    6.980    22.081993  \n",
       "31541  -13.700 -6260.204282  \n",
       "31542   -0.810    22.298622  \n",
       "31543  -12.915     6.618471  \n",
       "31544  -10.840    21.000547  \n",
       "\n",
       "[31545 rows x 30 columns]"
      ]
     },
     "execution_count": 34,
     "metadata": {},
     "output_type": "execute_result"
    }
   ],
   "source": [
    "predict"
   ]
  },
  {
   "cell_type": "code",
   "execution_count": 35,
   "id": "42315e2c-c71a-491f-8f09-9b4d5aebc08b",
   "metadata": {},
   "outputs": [
    {
     "data": {
      "text/html": [
       "<div>\n",
       "<style scoped>\n",
       "    .dataframe tbody tr th:only-of-type {\n",
       "        vertical-align: middle;\n",
       "    }\n",
       "\n",
       "    .dataframe tbody tr th {\n",
       "        vertical-align: top;\n",
       "    }\n",
       "\n",
       "    .dataframe thead th {\n",
       "        text-align: right;\n",
       "    }\n",
       "</style>\n",
       "<table border=\"1\" class=\"dataframe\">\n",
       "  <thead>\n",
       "    <tr style=\"text-align: right;\">\n",
       "      <th></th>\n",
       "      <th>BRAT</th>\n",
       "      <th>DEGT</th>\n",
       "      <th>DELFN</th>\n",
       "      <th>DELN1</th>\n",
       "      <th>DELVSV</th>\n",
       "      <th>DPOIL</th>\n",
       "      <th>EGTC</th>\n",
       "      <th>EGTHDM</th>\n",
       "      <th>EGTHDM_D</th>\n",
       "      <th>GEGTMC</th>\n",
       "      <th>...</th>\n",
       "      <th>SLOATL_D</th>\n",
       "      <th>VSVNOM</th>\n",
       "      <th>WBE</th>\n",
       "      <th>WBI</th>\n",
       "      <th>WFMP</th>\n",
       "      <th>ZPCN25_D</th>\n",
       "      <th>ZT49_D</th>\n",
       "      <th>ZTLA_D</th>\n",
       "      <th>ZTNAC_D</th>\n",
       "      <th>ZWF36_D</th>\n",
       "    </tr>\n",
       "  </thead>\n",
       "  <tbody>\n",
       "    <tr>\n",
       "      <th>22023</th>\n",
       "      <td>1.000000</td>\n",
       "      <td>22.495361</td>\n",
       "      <td>NaN</td>\n",
       "      <td>NaN</td>\n",
       "      <td>NaN</td>\n",
       "      <td>-16.489998</td>\n",
       "      <td>686.504639</td>\n",
       "      <td>56.252117</td>\n",
       "      <td>NaN</td>\n",
       "      <td>61.504601</td>\n",
       "      <td>...</td>\n",
       "      <td>NaN</td>\n",
       "      <td>NaN</td>\n",
       "      <td>NaN</td>\n",
       "      <td>1.000000</td>\n",
       "      <td>2960.08154</td>\n",
       "      <td>0.000000</td>\n",
       "      <td>5.500000</td>\n",
       "      <td>NaN</td>\n",
       "      <td>NaN</td>\n",
       "      <td>1.899902</td>\n",
       "    </tr>\n",
       "    <tr>\n",
       "      <th>74546</th>\n",
       "      <td>1.000000</td>\n",
       "      <td>NaN</td>\n",
       "      <td>25.345905</td>\n",
       "      <td>10.062073</td>\n",
       "      <td>NaN</td>\n",
       "      <td>NaN</td>\n",
       "      <td>NaN</td>\n",
       "      <td>71.308876</td>\n",
       "      <td>5.089859</td>\n",
       "      <td>NaN</td>\n",
       "      <td>...</td>\n",
       "      <td>1.696529</td>\n",
       "      <td>NaN</td>\n",
       "      <td>NaN</td>\n",
       "      <td>NaN</td>\n",
       "      <td>NaN</td>\n",
       "      <td>-0.040001</td>\n",
       "      <td>-5.000000</td>\n",
       "      <td>NaN</td>\n",
       "      <td>NaN</td>\n",
       "      <td>NaN</td>\n",
       "    </tr>\n",
       "    <tr>\n",
       "      <th>63711</th>\n",
       "      <td>0.777497</td>\n",
       "      <td>NaN</td>\n",
       "      <td>22.256674</td>\n",
       "      <td>9.457748</td>\n",
       "      <td>NaN</td>\n",
       "      <td>NaN</td>\n",
       "      <td>NaN</td>\n",
       "      <td>19.559158</td>\n",
       "      <td>-4.640778</td>\n",
       "      <td>NaN</td>\n",
       "      <td>...</td>\n",
       "      <td>-1.364059</td>\n",
       "      <td>NaN</td>\n",
       "      <td>1.23459</td>\n",
       "      <td>NaN</td>\n",
       "      <td>NaN</td>\n",
       "      <td>-0.099998</td>\n",
       "      <td>5.000000</td>\n",
       "      <td>NaN</td>\n",
       "      <td>NaN</td>\n",
       "      <td>NaN</td>\n",
       "    </tr>\n",
       "    <tr>\n",
       "      <th>78787</th>\n",
       "      <td>1.000000</td>\n",
       "      <td>NaN</td>\n",
       "      <td>25.713123</td>\n",
       "      <td>9.781273</td>\n",
       "      <td>NaN</td>\n",
       "      <td>NaN</td>\n",
       "      <td>NaN</td>\n",
       "      <td>67.841065</td>\n",
       "      <td>2.325699</td>\n",
       "      <td>NaN</td>\n",
       "      <td>...</td>\n",
       "      <td>0.774151</td>\n",
       "      <td>NaN</td>\n",
       "      <td>NaN</td>\n",
       "      <td>NaN</td>\n",
       "      <td>NaN</td>\n",
       "      <td>0.040001</td>\n",
       "      <td>-1.000000</td>\n",
       "      <td>NaN</td>\n",
       "      <td>NaN</td>\n",
       "      <td>NaN</td>\n",
       "    </tr>\n",
       "    <tr>\n",
       "      <th>85802</th>\n",
       "      <td>1.000000</td>\n",
       "      <td>19.326294</td>\n",
       "      <td>NaN</td>\n",
       "      <td>NaN</td>\n",
       "      <td>NaN</td>\n",
       "      <td>-9.752174</td>\n",
       "      <td>609.773682</td>\n",
       "      <td>57.439178</td>\n",
       "      <td>NaN</td>\n",
       "      <td>64.673698</td>\n",
       "      <td>...</td>\n",
       "      <td>NaN</td>\n",
       "      <td>NaN</td>\n",
       "      <td>NaN</td>\n",
       "      <td>1.000000</td>\n",
       "      <td>2653.28687</td>\n",
       "      <td>-0.029999</td>\n",
       "      <td>2.049988</td>\n",
       "      <td>NaN</td>\n",
       "      <td>NaN</td>\n",
       "      <td>5.899902</td>\n",
       "    </tr>\n",
       "    <tr>\n",
       "      <th>...</th>\n",
       "      <td>...</td>\n",
       "      <td>...</td>\n",
       "      <td>...</td>\n",
       "      <td>...</td>\n",
       "      <td>...</td>\n",
       "      <td>...</td>\n",
       "      <td>...</td>\n",
       "      <td>...</td>\n",
       "      <td>...</td>\n",
       "      <td>...</td>\n",
       "      <td>...</td>\n",
       "      <td>...</td>\n",
       "      <td>...</td>\n",
       "      <td>...</td>\n",
       "      <td>...</td>\n",
       "      <td>...</td>\n",
       "      <td>...</td>\n",
       "      <td>...</td>\n",
       "      <td>...</td>\n",
       "      <td>...</td>\n",
       "      <td>...</td>\n",
       "    </tr>\n",
       "    <tr>\n",
       "      <th>51004</th>\n",
       "      <td>0.893764</td>\n",
       "      <td>-14.823608</td>\n",
       "      <td>NaN</td>\n",
       "      <td>NaN</td>\n",
       "      <td>2.6</td>\n",
       "      <td>-23.015934</td>\n",
       "      <td>617.423584</td>\n",
       "      <td>48.106640</td>\n",
       "      <td>NaN</td>\n",
       "      <td>128.823593</td>\n",
       "      <td>...</td>\n",
       "      <td>NaN</td>\n",
       "      <td>0.0</td>\n",
       "      <td>0.92594</td>\n",
       "      <td>-0.106236</td>\n",
       "      <td>2673.01562</td>\n",
       "      <td>0.050003</td>\n",
       "      <td>-1.349976</td>\n",
       "      <td>NaN</td>\n",
       "      <td>4.0</td>\n",
       "      <td>1.102295</td>\n",
       "    </tr>\n",
       "    <tr>\n",
       "      <th>23839</th>\n",
       "      <td>1.000000</td>\n",
       "      <td>NaN</td>\n",
       "      <td>29.984722</td>\n",
       "      <td>13.078873</td>\n",
       "      <td>NaN</td>\n",
       "      <td>NaN</td>\n",
       "      <td>NaN</td>\n",
       "      <td>51.658375</td>\n",
       "      <td>14.686249</td>\n",
       "      <td>NaN</td>\n",
       "      <td>...</td>\n",
       "      <td>4.635387</td>\n",
       "      <td>NaN</td>\n",
       "      <td>NaN</td>\n",
       "      <td>NaN</td>\n",
       "      <td>NaN</td>\n",
       "      <td>0.059998</td>\n",
       "      <td>-13.500000</td>\n",
       "      <td>NaN</td>\n",
       "      <td>NaN</td>\n",
       "      <td>NaN</td>\n",
       "    </tr>\n",
       "    <tr>\n",
       "      <th>11940</th>\n",
       "      <td>0.851788</td>\n",
       "      <td>-5.938904</td>\n",
       "      <td>NaN</td>\n",
       "      <td>NaN</td>\n",
       "      <td>0.5</td>\n",
       "      <td>-20.552170</td>\n",
       "      <td>664.138916</td>\n",
       "      <td>14.728130</td>\n",
       "      <td>NaN</td>\n",
       "      <td>62.938900</td>\n",
       "      <td>...</td>\n",
       "      <td>NaN</td>\n",
       "      <td>0.0</td>\n",
       "      <td>1.12436</td>\n",
       "      <td>-0.148212</td>\n",
       "      <td>3435.62183</td>\n",
       "      <td>0.149994</td>\n",
       "      <td>-3.549988</td>\n",
       "      <td>NaN</td>\n",
       "      <td>-0.5</td>\n",
       "      <td>14.330078</td>\n",
       "    </tr>\n",
       "    <tr>\n",
       "      <th>23151</th>\n",
       "      <td>1.000000</td>\n",
       "      <td>15.805420</td>\n",
       "      <td>NaN</td>\n",
       "      <td>NaN</td>\n",
       "      <td>NaN</td>\n",
       "      <td>NaN</td>\n",
       "      <td>725.819580</td>\n",
       "      <td>NaN</td>\n",
       "      <td>NaN</td>\n",
       "      <td>NaN</td>\n",
       "      <td>...</td>\n",
       "      <td>NaN</td>\n",
       "      <td>NaN</td>\n",
       "      <td>NaN</td>\n",
       "      <td>0.000000</td>\n",
       "      <td>1711.99304</td>\n",
       "      <td>-0.078102</td>\n",
       "      <td>-5.875000</td>\n",
       "      <td>-0.0625</td>\n",
       "      <td>NaN</td>\n",
       "      <td>-44.560059</td>\n",
       "    </tr>\n",
       "    <tr>\n",
       "      <th>37076</th>\n",
       "      <td>0.893764</td>\n",
       "      <td>-19.781982</td>\n",
       "      <td>NaN</td>\n",
       "      <td>NaN</td>\n",
       "      <td>3.0</td>\n",
       "      <td>-24.301426</td>\n",
       "      <td>604.781982</td>\n",
       "      <td>70.129135</td>\n",
       "      <td>NaN</td>\n",
       "      <td>133.781998</td>\n",
       "      <td>...</td>\n",
       "      <td>NaN</td>\n",
       "      <td>0.0</td>\n",
       "      <td>0.92594</td>\n",
       "      <td>-0.106236</td>\n",
       "      <td>2469.29517</td>\n",
       "      <td>0.049995</td>\n",
       "      <td>7.500000</td>\n",
       "      <td>NaN</td>\n",
       "      <td>-10.0</td>\n",
       "      <td>13.227783</td>\n",
       "    </tr>\n",
       "  </tbody>\n",
       "</table>\n",
       "<p>31545 rows × 30 columns</p>\n",
       "</div>"
      ],
      "text/plain": [
       "           BRAT       DEGT      DELFN      DELN1  DELVSV      DPOIL  \\\n",
       "22023  1.000000  22.495361        NaN        NaN     NaN -16.489998   \n",
       "74546  1.000000        NaN  25.345905  10.062073     NaN        NaN   \n",
       "63711  0.777497        NaN  22.256674   9.457748     NaN        NaN   \n",
       "78787  1.000000        NaN  25.713123   9.781273     NaN        NaN   \n",
       "85802  1.000000  19.326294        NaN        NaN     NaN  -9.752174   \n",
       "...         ...        ...        ...        ...     ...        ...   \n",
       "51004  0.893764 -14.823608        NaN        NaN     2.6 -23.015934   \n",
       "23839  1.000000        NaN  29.984722  13.078873     NaN        NaN   \n",
       "11940  0.851788  -5.938904        NaN        NaN     0.5 -20.552170   \n",
       "23151  1.000000  15.805420        NaN        NaN     NaN        NaN   \n",
       "37076  0.893764 -19.781982        NaN        NaN     3.0 -24.301426   \n",
       "\n",
       "             EGTC     EGTHDM   EGTHDM_D      GEGTMC  ...  SLOATL_D  VSVNOM  \\\n",
       "22023  686.504639  56.252117        NaN   61.504601  ...       NaN     NaN   \n",
       "74546         NaN  71.308876   5.089859         NaN  ...  1.696529     NaN   \n",
       "63711         NaN  19.559158  -4.640778         NaN  ... -1.364059     NaN   \n",
       "78787         NaN  67.841065   2.325699         NaN  ...  0.774151     NaN   \n",
       "85802  609.773682  57.439178        NaN   64.673698  ...       NaN     NaN   \n",
       "...           ...        ...        ...         ...  ...       ...     ...   \n",
       "51004  617.423584  48.106640        NaN  128.823593  ...       NaN     0.0   \n",
       "23839         NaN  51.658375  14.686249         NaN  ...  4.635387     NaN   \n",
       "11940  664.138916  14.728130        NaN   62.938900  ...       NaN     0.0   \n",
       "23151  725.819580        NaN        NaN         NaN  ...       NaN     NaN   \n",
       "37076  604.781982  70.129135        NaN  133.781998  ...       NaN     0.0   \n",
       "\n",
       "           WBE       WBI        WFMP  ZPCN25_D     ZT49_D  ZTLA_D  ZTNAC_D  \\\n",
       "22023      NaN  1.000000  2960.08154  0.000000   5.500000     NaN      NaN   \n",
       "74546      NaN       NaN         NaN -0.040001  -5.000000     NaN      NaN   \n",
       "63711  1.23459       NaN         NaN -0.099998   5.000000     NaN      NaN   \n",
       "78787      NaN       NaN         NaN  0.040001  -1.000000     NaN      NaN   \n",
       "85802      NaN  1.000000  2653.28687 -0.029999   2.049988     NaN      NaN   \n",
       "...        ...       ...         ...       ...        ...     ...      ...   \n",
       "51004  0.92594 -0.106236  2673.01562  0.050003  -1.349976     NaN      4.0   \n",
       "23839      NaN       NaN         NaN  0.059998 -13.500000     NaN      NaN   \n",
       "11940  1.12436 -0.148212  3435.62183  0.149994  -3.549988     NaN     -0.5   \n",
       "23151      NaN  0.000000  1711.99304 -0.078102  -5.875000 -0.0625      NaN   \n",
       "37076  0.92594 -0.106236  2469.29517  0.049995   7.500000     NaN    -10.0   \n",
       "\n",
       "         ZWF36_D  \n",
       "22023   1.899902  \n",
       "74546        NaN  \n",
       "63711        NaN  \n",
       "78787        NaN  \n",
       "85802   5.899902  \n",
       "...          ...  \n",
       "51004   1.102295  \n",
       "23839        NaN  \n",
       "11940  14.330078  \n",
       "23151 -44.560059  \n",
       "37076  13.227783  \n",
       "\n",
       "[31545 rows x 30 columns]"
      ]
     },
     "execution_count": 35,
     "metadata": {},
     "output_type": "execute_result"
    }
   ],
   "source": [
    "y_test"
   ]
  }
 ],
 "metadata": {
  "kernelspec": {
   "display_name": "Python (torch)",
   "language": "python",
   "name": "torch"
  },
  "language_info": {
   "codemirror_mode": {
    "name": "ipython",
    "version": 3
   },
   "file_extension": ".py",
   "mimetype": "text/x-python",
   "name": "python",
   "nbconvert_exporter": "python",
   "pygments_lexer": "ipython3",
   "version": "3.8.16"
  }
 },
 "nbformat": 4,
 "nbformat_minor": 5
}
